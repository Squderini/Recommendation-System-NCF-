{
  "nbformat": 4,
  "nbformat_minor": 0,
  "metadata": {
    "colab": {
      "provenance": [],
      "authorship_tag": "ABX9TyM8J5VWEI4XzLyiFZNVzWtk",
      "include_colab_link": true
    },
    "kernelspec": {
      "name": "python3",
      "display_name": "Python 3"
    },
    "language_info": {
      "name": "python"
    }
  },
  "cells": [
    {
      "cell_type": "markdown",
      "metadata": {
        "id": "view-in-github",
        "colab_type": "text"
      },
      "source": [
        "<a href=\"https://colab.research.google.com/github/KnyazevAV/hangman/blob/master/RecSys_git.ipynb\" target=\"_parent\"><img src=\"https://colab.research.google.com/assets/colab-badge.svg\" alt=\"Open In Colab\"/></a>"
      ]
    },
    {
      "cell_type": "markdown",
      "source": [
        "# **Произведем загрузку необходимых библиотек**"
      ],
      "metadata": {
        "id": "gqq8B-vB__W_"
      }
    },
    {
      "cell_type": "code",
      "execution_count": 4,
      "metadata": {
        "colab": {
          "base_uri": "https://localhost:8080/"
        },
        "id": "ZN_7e-d4-afG",
        "outputId": "df907b83-b9b8-4ddf-ca8e-eb17c1d0629f"
      },
      "outputs": [
        {
          "output_type": "stream",
          "name": "stdout",
          "text": [
            "Drive already mounted at /content/drive; to attempt to forcibly remount, call drive.mount(\"/content/drive\", force_remount=True).\n"
          ]
        }
      ],
      "source": [
        "from google.colab import drive\n",
        "drive.mount('/content/drive')"
      ]
    },
    {
      "cell_type": "code",
      "source": [
        "#библиотека, которую мы будем использовать для опредения оптимального количества кластеров \"методом локтя\"\n",
        "!pip install kneed "
      ],
      "metadata": {
        "colab": {
          "base_uri": "https://localhost:8080/"
        },
        "id": "a1o9xYiUBB9R",
        "outputId": "5fd8b613-cf6f-4e90-d0f0-dfbfce2c4013"
      },
      "execution_count": 5,
      "outputs": [
        {
          "output_type": "stream",
          "name": "stdout",
          "text": [
            "Looking in indexes: https://pypi.org/simple, https://us-python.pkg.dev/colab-wheels/public/simple/\n",
            "Requirement already satisfied: kneed in /usr/local/lib/python3.8/dist-packages (0.8.2)\n",
            "Requirement already satisfied: numpy>=1.14.2 in /usr/local/lib/python3.8/dist-packages (from kneed) (1.22.4)\n",
            "Requirement already satisfied: scipy>=1.0.0 in /usr/local/lib/python3.8/dist-packages (from kneed) (1.7.3)\n"
          ]
        }
      ]
    },
    {
      "cell_type": "code",
      "source": [
        "#работа с данными\n",
        "import pandas as pd\n",
        "from sklearn.metrics import silhouette_score\n",
        "from sklearn.cluster import KMeans\n",
        "from sklearn.preprocessing import StandardScaler, normalize, MinMaxScaler\n",
        "from sklearn import preprocessing\n",
        "import scipy\n",
        "import numpy as np\n",
        "from sklearn.model_selection import train_test_split\n",
        "\n",
        "#построение модели нейронной коллаборативной фильтрации\n",
        "from keras.models import Model, Sequential\n",
        "from keras.layers import Embedding, Flatten, Input\n",
        "from IPython.display import SVG\n",
        "import tensorflow as tf\n",
        "\n",
        "#визуализация данных\n",
        "import seaborn as sns\n",
        "import matplotlib.pyplot as plt\n",
        "\n",
        "#кластеризация данных\n",
        "from sklearn.cluster import KMeans\n",
        "from kneed import DataGenerator, KneeLocator\n",
        "\n",
        "#формирование нейросети\n",
        "from keras.layers import Dropout, Dense, BatchNormalization\n",
        "from keras.optimizers import Adam\n",
        "from keras.utils.vis_utils import model_to_dot"
      ],
      "metadata": {
        "id": "0BYtB5YwAHEV"
      },
      "execution_count": 6,
      "outputs": []
    },
    {
      "cell_type": "markdown",
      "source": [
        "# **Обработка данных**"
      ],
      "metadata": {
        "id": "yGq5QgjIMw6r"
      }
    },
    {
      "cell_type": "markdown",
      "source": [
        "Произведем загрузку данных\n",
        "Ссылка на датасет на kaggle: https://www.kaggle.com/datasets/tamber/steam-video-games/code?select=steam-200k.csv"
      ],
      "metadata": {
        "id": "J5VHNKBXBmlz"
      }
    },
    {
      "cell_type": "markdown",
      "source": [
        "Я загружаю данные с google drive."
      ],
      "metadata": {
        "id": "SLYOIi3mRch2"
      }
    },
    {
      "cell_type": "code",
      "source": [
        "path = '/content/drive/My Drive/Recommendation System/steam-200k.csv'\n",
        "df = pd.read_csv(path, names=['userId', 'game', 'action', 'duration', 'unknown'])"
      ],
      "metadata": {
        "id": "uyCF0ofXBpMX"
      },
      "execution_count": 7,
      "outputs": []
    },
    {
      "cell_type": "code",
      "source": [
        "df"
      ],
      "metadata": {
        "colab": {
          "base_uri": "https://localhost:8080/",
          "height": 433
        },
        "id": "Pub4um2gCLEx",
        "outputId": "25588e83-5cd3-408b-adcd-ecde0fee4e71"
      },
      "execution_count": 8,
      "outputs": [
        {
          "output_type": "execute_result",
          "data": {
            "text/plain": [
              "           userId                        game    action  duration  unknown\n",
              "0       151603712  The Elder Scrolls V Skyrim  purchase       1.0        0\n",
              "1       151603712  The Elder Scrolls V Skyrim      play     273.0        0\n",
              "2       151603712                   Fallout 4  purchase       1.0        0\n",
              "3       151603712                   Fallout 4      play      87.0        0\n",
              "4       151603712                       Spore  purchase       1.0        0\n",
              "...           ...                         ...       ...       ...      ...\n",
              "199995  128470551                 Titan Souls      play       1.5        0\n",
              "199996  128470551  Grand Theft Auto Vice City  purchase       1.0        0\n",
              "199997  128470551  Grand Theft Auto Vice City      play       1.5        0\n",
              "199998  128470551                        RUSH  purchase       1.0        0\n",
              "199999  128470551                        RUSH      play       1.4        0\n",
              "\n",
              "[200000 rows x 5 columns]"
            ],
            "text/html": [
              "\n",
              "  <div id=\"df-73e2e5ab-54f9-4c74-a0a7-84bdf183aa4e\">\n",
              "    <div class=\"colab-df-container\">\n",
              "      <div>\n",
              "<style scoped>\n",
              "    .dataframe tbody tr th:only-of-type {\n",
              "        vertical-align: middle;\n",
              "    }\n",
              "\n",
              "    .dataframe tbody tr th {\n",
              "        vertical-align: top;\n",
              "    }\n",
              "\n",
              "    .dataframe thead th {\n",
              "        text-align: right;\n",
              "    }\n",
              "</style>\n",
              "<table border=\"1\" class=\"dataframe\">\n",
              "  <thead>\n",
              "    <tr style=\"text-align: right;\">\n",
              "      <th></th>\n",
              "      <th>userId</th>\n",
              "      <th>game</th>\n",
              "      <th>action</th>\n",
              "      <th>duration</th>\n",
              "      <th>unknown</th>\n",
              "    </tr>\n",
              "  </thead>\n",
              "  <tbody>\n",
              "    <tr>\n",
              "      <th>0</th>\n",
              "      <td>151603712</td>\n",
              "      <td>The Elder Scrolls V Skyrim</td>\n",
              "      <td>purchase</td>\n",
              "      <td>1.0</td>\n",
              "      <td>0</td>\n",
              "    </tr>\n",
              "    <tr>\n",
              "      <th>1</th>\n",
              "      <td>151603712</td>\n",
              "      <td>The Elder Scrolls V Skyrim</td>\n",
              "      <td>play</td>\n",
              "      <td>273.0</td>\n",
              "      <td>0</td>\n",
              "    </tr>\n",
              "    <tr>\n",
              "      <th>2</th>\n",
              "      <td>151603712</td>\n",
              "      <td>Fallout 4</td>\n",
              "      <td>purchase</td>\n",
              "      <td>1.0</td>\n",
              "      <td>0</td>\n",
              "    </tr>\n",
              "    <tr>\n",
              "      <th>3</th>\n",
              "      <td>151603712</td>\n",
              "      <td>Fallout 4</td>\n",
              "      <td>play</td>\n",
              "      <td>87.0</td>\n",
              "      <td>0</td>\n",
              "    </tr>\n",
              "    <tr>\n",
              "      <th>4</th>\n",
              "      <td>151603712</td>\n",
              "      <td>Spore</td>\n",
              "      <td>purchase</td>\n",
              "      <td>1.0</td>\n",
              "      <td>0</td>\n",
              "    </tr>\n",
              "    <tr>\n",
              "      <th>...</th>\n",
              "      <td>...</td>\n",
              "      <td>...</td>\n",
              "      <td>...</td>\n",
              "      <td>...</td>\n",
              "      <td>...</td>\n",
              "    </tr>\n",
              "    <tr>\n",
              "      <th>199995</th>\n",
              "      <td>128470551</td>\n",
              "      <td>Titan Souls</td>\n",
              "      <td>play</td>\n",
              "      <td>1.5</td>\n",
              "      <td>0</td>\n",
              "    </tr>\n",
              "    <tr>\n",
              "      <th>199996</th>\n",
              "      <td>128470551</td>\n",
              "      <td>Grand Theft Auto Vice City</td>\n",
              "      <td>purchase</td>\n",
              "      <td>1.0</td>\n",
              "      <td>0</td>\n",
              "    </tr>\n",
              "    <tr>\n",
              "      <th>199997</th>\n",
              "      <td>128470551</td>\n",
              "      <td>Grand Theft Auto Vice City</td>\n",
              "      <td>play</td>\n",
              "      <td>1.5</td>\n",
              "      <td>0</td>\n",
              "    </tr>\n",
              "    <tr>\n",
              "      <th>199998</th>\n",
              "      <td>128470551</td>\n",
              "      <td>RUSH</td>\n",
              "      <td>purchase</td>\n",
              "      <td>1.0</td>\n",
              "      <td>0</td>\n",
              "    </tr>\n",
              "    <tr>\n",
              "      <th>199999</th>\n",
              "      <td>128470551</td>\n",
              "      <td>RUSH</td>\n",
              "      <td>play</td>\n",
              "      <td>1.4</td>\n",
              "      <td>0</td>\n",
              "    </tr>\n",
              "  </tbody>\n",
              "</table>\n",
              "<p>200000 rows × 5 columns</p>\n",
              "</div>\n",
              "      <button class=\"colab-df-convert\" onclick=\"convertToInteractive('df-73e2e5ab-54f9-4c74-a0a7-84bdf183aa4e')\"\n",
              "              title=\"Convert this dataframe to an interactive table.\"\n",
              "              style=\"display:none;\">\n",
              "        \n",
              "  <svg xmlns=\"http://www.w3.org/2000/svg\" height=\"24px\"viewBox=\"0 0 24 24\"\n",
              "       width=\"24px\">\n",
              "    <path d=\"M0 0h24v24H0V0z\" fill=\"none\"/>\n",
              "    <path d=\"M18.56 5.44l.94 2.06.94-2.06 2.06-.94-2.06-.94-.94-2.06-.94 2.06-2.06.94zm-11 1L8.5 8.5l.94-2.06 2.06-.94-2.06-.94L8.5 2.5l-.94 2.06-2.06.94zm10 10l.94 2.06.94-2.06 2.06-.94-2.06-.94-.94-2.06-.94 2.06-2.06.94z\"/><path d=\"M17.41 7.96l-1.37-1.37c-.4-.4-.92-.59-1.43-.59-.52 0-1.04.2-1.43.59L10.3 9.45l-7.72 7.72c-.78.78-.78 2.05 0 2.83L4 21.41c.39.39.9.59 1.41.59.51 0 1.02-.2 1.41-.59l7.78-7.78 2.81-2.81c.8-.78.8-2.07 0-2.86zM5.41 20L4 18.59l7.72-7.72 1.47 1.35L5.41 20z\"/>\n",
              "  </svg>\n",
              "      </button>\n",
              "      \n",
              "  <style>\n",
              "    .colab-df-container {\n",
              "      display:flex;\n",
              "      flex-wrap:wrap;\n",
              "      gap: 12px;\n",
              "    }\n",
              "\n",
              "    .colab-df-convert {\n",
              "      background-color: #E8F0FE;\n",
              "      border: none;\n",
              "      border-radius: 50%;\n",
              "      cursor: pointer;\n",
              "      display: none;\n",
              "      fill: #1967D2;\n",
              "      height: 32px;\n",
              "      padding: 0 0 0 0;\n",
              "      width: 32px;\n",
              "    }\n",
              "\n",
              "    .colab-df-convert:hover {\n",
              "      background-color: #E2EBFA;\n",
              "      box-shadow: 0px 1px 2px rgba(60, 64, 67, 0.3), 0px 1px 3px 1px rgba(60, 64, 67, 0.15);\n",
              "      fill: #174EA6;\n",
              "    }\n",
              "\n",
              "    [theme=dark] .colab-df-convert {\n",
              "      background-color: #3B4455;\n",
              "      fill: #D2E3FC;\n",
              "    }\n",
              "\n",
              "    [theme=dark] .colab-df-convert:hover {\n",
              "      background-color: #434B5C;\n",
              "      box-shadow: 0px 1px 3px 1px rgba(0, 0, 0, 0.15);\n",
              "      filter: drop-shadow(0px 1px 2px rgba(0, 0, 0, 0.3));\n",
              "      fill: #FFFFFF;\n",
              "    }\n",
              "  </style>\n",
              "\n",
              "      <script>\n",
              "        const buttonEl =\n",
              "          document.querySelector('#df-73e2e5ab-54f9-4c74-a0a7-84bdf183aa4e button.colab-df-convert');\n",
              "        buttonEl.style.display =\n",
              "          google.colab.kernel.accessAllowed ? 'block' : 'none';\n",
              "\n",
              "        async function convertToInteractive(key) {\n",
              "          const element = document.querySelector('#df-73e2e5ab-54f9-4c74-a0a7-84bdf183aa4e');\n",
              "          const dataTable =\n",
              "            await google.colab.kernel.invokeFunction('convertToInteractive',\n",
              "                                                     [key], {});\n",
              "          if (!dataTable) return;\n",
              "\n",
              "          const docLinkHtml = 'Like what you see? Visit the ' +\n",
              "            '<a target=\"_blank\" href=https://colab.research.google.com/notebooks/data_table.ipynb>data table notebook</a>'\n",
              "            + ' to learn more about interactive tables.';\n",
              "          element.innerHTML = '';\n",
              "          dataTable['output_type'] = 'display_data';\n",
              "          await google.colab.output.renderOutput(dataTable, element);\n",
              "          const docLink = document.createElement('div');\n",
              "          docLink.innerHTML = docLinkHtml;\n",
              "          element.appendChild(docLink);\n",
              "        }\n",
              "      </script>\n",
              "    </div>\n",
              "  </div>\n",
              "  "
            ]
          },
          "metadata": {},
          "execution_count": 8
        }
      ]
    },
    {
      "cell_type": "markdown",
      "source": [
        "Будем выстраивать рекомендательную систему опираясь на количество часов наигранных пользователями"
      ],
      "metadata": {
        "id": "Fbd0HJfCYJ3Q"
      }
    },
    {
      "cell_type": "code",
      "source": [
        "df = df[df.action=='play'] #уберем действие \"покупка\", оставим только действие \"игра\"\n",
        "df = df.reset_index()\n",
        "df = df.drop(columns=['index'])\n",
        "df"
      ],
      "metadata": {
        "colab": {
          "base_uri": "https://localhost:8080/",
          "height": 433
        },
        "id": "t1ap_wRxlhub",
        "outputId": "4333724d-25d0-406d-d2bf-143164a01d0f"
      },
      "execution_count": 9,
      "outputs": [
        {
          "output_type": "execute_result",
          "data": {
            "text/plain": [
              "          userId                        game action  duration  unknown\n",
              "0      151603712  The Elder Scrolls V Skyrim   play     273.0        0\n",
              "1      151603712                   Fallout 4   play      87.0        0\n",
              "2      151603712                       Spore   play      14.9        0\n",
              "3      151603712           Fallout New Vegas   play      12.1        0\n",
              "4      151603712               Left 4 Dead 2   play       8.9        0\n",
              "...          ...                         ...    ...       ...      ...\n",
              "70484  128470551                Fallen Earth   play       2.4        0\n",
              "70485  128470551                 Magic Duels   play       2.2        0\n",
              "70486  128470551                 Titan Souls   play       1.5        0\n",
              "70487  128470551  Grand Theft Auto Vice City   play       1.5        0\n",
              "70488  128470551                        RUSH   play       1.4        0\n",
              "\n",
              "[70489 rows x 5 columns]"
            ],
            "text/html": [
              "\n",
              "  <div id=\"df-60bb5802-d840-4e4c-b73f-04480e0ad7f3\">\n",
              "    <div class=\"colab-df-container\">\n",
              "      <div>\n",
              "<style scoped>\n",
              "    .dataframe tbody tr th:only-of-type {\n",
              "        vertical-align: middle;\n",
              "    }\n",
              "\n",
              "    .dataframe tbody tr th {\n",
              "        vertical-align: top;\n",
              "    }\n",
              "\n",
              "    .dataframe thead th {\n",
              "        text-align: right;\n",
              "    }\n",
              "</style>\n",
              "<table border=\"1\" class=\"dataframe\">\n",
              "  <thead>\n",
              "    <tr style=\"text-align: right;\">\n",
              "      <th></th>\n",
              "      <th>userId</th>\n",
              "      <th>game</th>\n",
              "      <th>action</th>\n",
              "      <th>duration</th>\n",
              "      <th>unknown</th>\n",
              "    </tr>\n",
              "  </thead>\n",
              "  <tbody>\n",
              "    <tr>\n",
              "      <th>0</th>\n",
              "      <td>151603712</td>\n",
              "      <td>The Elder Scrolls V Skyrim</td>\n",
              "      <td>play</td>\n",
              "      <td>273.0</td>\n",
              "      <td>0</td>\n",
              "    </tr>\n",
              "    <tr>\n",
              "      <th>1</th>\n",
              "      <td>151603712</td>\n",
              "      <td>Fallout 4</td>\n",
              "      <td>play</td>\n",
              "      <td>87.0</td>\n",
              "      <td>0</td>\n",
              "    </tr>\n",
              "    <tr>\n",
              "      <th>2</th>\n",
              "      <td>151603712</td>\n",
              "      <td>Spore</td>\n",
              "      <td>play</td>\n",
              "      <td>14.9</td>\n",
              "      <td>0</td>\n",
              "    </tr>\n",
              "    <tr>\n",
              "      <th>3</th>\n",
              "      <td>151603712</td>\n",
              "      <td>Fallout New Vegas</td>\n",
              "      <td>play</td>\n",
              "      <td>12.1</td>\n",
              "      <td>0</td>\n",
              "    </tr>\n",
              "    <tr>\n",
              "      <th>4</th>\n",
              "      <td>151603712</td>\n",
              "      <td>Left 4 Dead 2</td>\n",
              "      <td>play</td>\n",
              "      <td>8.9</td>\n",
              "      <td>0</td>\n",
              "    </tr>\n",
              "    <tr>\n",
              "      <th>...</th>\n",
              "      <td>...</td>\n",
              "      <td>...</td>\n",
              "      <td>...</td>\n",
              "      <td>...</td>\n",
              "      <td>...</td>\n",
              "    </tr>\n",
              "    <tr>\n",
              "      <th>70484</th>\n",
              "      <td>128470551</td>\n",
              "      <td>Fallen Earth</td>\n",
              "      <td>play</td>\n",
              "      <td>2.4</td>\n",
              "      <td>0</td>\n",
              "    </tr>\n",
              "    <tr>\n",
              "      <th>70485</th>\n",
              "      <td>128470551</td>\n",
              "      <td>Magic Duels</td>\n",
              "      <td>play</td>\n",
              "      <td>2.2</td>\n",
              "      <td>0</td>\n",
              "    </tr>\n",
              "    <tr>\n",
              "      <th>70486</th>\n",
              "      <td>128470551</td>\n",
              "      <td>Titan Souls</td>\n",
              "      <td>play</td>\n",
              "      <td>1.5</td>\n",
              "      <td>0</td>\n",
              "    </tr>\n",
              "    <tr>\n",
              "      <th>70487</th>\n",
              "      <td>128470551</td>\n",
              "      <td>Grand Theft Auto Vice City</td>\n",
              "      <td>play</td>\n",
              "      <td>1.5</td>\n",
              "      <td>0</td>\n",
              "    </tr>\n",
              "    <tr>\n",
              "      <th>70488</th>\n",
              "      <td>128470551</td>\n",
              "      <td>RUSH</td>\n",
              "      <td>play</td>\n",
              "      <td>1.4</td>\n",
              "      <td>0</td>\n",
              "    </tr>\n",
              "  </tbody>\n",
              "</table>\n",
              "<p>70489 rows × 5 columns</p>\n",
              "</div>\n",
              "      <button class=\"colab-df-convert\" onclick=\"convertToInteractive('df-60bb5802-d840-4e4c-b73f-04480e0ad7f3')\"\n",
              "              title=\"Convert this dataframe to an interactive table.\"\n",
              "              style=\"display:none;\">\n",
              "        \n",
              "  <svg xmlns=\"http://www.w3.org/2000/svg\" height=\"24px\"viewBox=\"0 0 24 24\"\n",
              "       width=\"24px\">\n",
              "    <path d=\"M0 0h24v24H0V0z\" fill=\"none\"/>\n",
              "    <path d=\"M18.56 5.44l.94 2.06.94-2.06 2.06-.94-2.06-.94-.94-2.06-.94 2.06-2.06.94zm-11 1L8.5 8.5l.94-2.06 2.06-.94-2.06-.94L8.5 2.5l-.94 2.06-2.06.94zm10 10l.94 2.06.94-2.06 2.06-.94-2.06-.94-.94-2.06-.94 2.06-2.06.94z\"/><path d=\"M17.41 7.96l-1.37-1.37c-.4-.4-.92-.59-1.43-.59-.52 0-1.04.2-1.43.59L10.3 9.45l-7.72 7.72c-.78.78-.78 2.05 0 2.83L4 21.41c.39.39.9.59 1.41.59.51 0 1.02-.2 1.41-.59l7.78-7.78 2.81-2.81c.8-.78.8-2.07 0-2.86zM5.41 20L4 18.59l7.72-7.72 1.47 1.35L5.41 20z\"/>\n",
              "  </svg>\n",
              "      </button>\n",
              "      \n",
              "  <style>\n",
              "    .colab-df-container {\n",
              "      display:flex;\n",
              "      flex-wrap:wrap;\n",
              "      gap: 12px;\n",
              "    }\n",
              "\n",
              "    .colab-df-convert {\n",
              "      background-color: #E8F0FE;\n",
              "      border: none;\n",
              "      border-radius: 50%;\n",
              "      cursor: pointer;\n",
              "      display: none;\n",
              "      fill: #1967D2;\n",
              "      height: 32px;\n",
              "      padding: 0 0 0 0;\n",
              "      width: 32px;\n",
              "    }\n",
              "\n",
              "    .colab-df-convert:hover {\n",
              "      background-color: #E2EBFA;\n",
              "      box-shadow: 0px 1px 2px rgba(60, 64, 67, 0.3), 0px 1px 3px 1px rgba(60, 64, 67, 0.15);\n",
              "      fill: #174EA6;\n",
              "    }\n",
              "\n",
              "    [theme=dark] .colab-df-convert {\n",
              "      background-color: #3B4455;\n",
              "      fill: #D2E3FC;\n",
              "    }\n",
              "\n",
              "    [theme=dark] .colab-df-convert:hover {\n",
              "      background-color: #434B5C;\n",
              "      box-shadow: 0px 1px 3px 1px rgba(0, 0, 0, 0.15);\n",
              "      filter: drop-shadow(0px 1px 2px rgba(0, 0, 0, 0.3));\n",
              "      fill: #FFFFFF;\n",
              "    }\n",
              "  </style>\n",
              "\n",
              "      <script>\n",
              "        const buttonEl =\n",
              "          document.querySelector('#df-60bb5802-d840-4e4c-b73f-04480e0ad7f3 button.colab-df-convert');\n",
              "        buttonEl.style.display =\n",
              "          google.colab.kernel.accessAllowed ? 'block' : 'none';\n",
              "\n",
              "        async function convertToInteractive(key) {\n",
              "          const element = document.querySelector('#df-60bb5802-d840-4e4c-b73f-04480e0ad7f3');\n",
              "          const dataTable =\n",
              "            await google.colab.kernel.invokeFunction('convertToInteractive',\n",
              "                                                     [key], {});\n",
              "          if (!dataTable) return;\n",
              "\n",
              "          const docLinkHtml = 'Like what you see? Visit the ' +\n",
              "            '<a target=\"_blank\" href=https://colab.research.google.com/notebooks/data_table.ipynb>data table notebook</a>'\n",
              "            + ' to learn more about interactive tables.';\n",
              "          element.innerHTML = '';\n",
              "          dataTable['output_type'] = 'display_data';\n",
              "          await google.colab.output.renderOutput(dataTable, element);\n",
              "          const docLink = document.createElement('div');\n",
              "          docLink.innerHTML = docLinkHtml;\n",
              "          element.appendChild(docLink);\n",
              "        }\n",
              "      </script>\n",
              "    </div>\n",
              "  </div>\n",
              "  "
            ]
          },
          "metadata": {},
          "execution_count": 9
        }
      ]
    },
    {
      "cell_type": "code",
      "source": [
        "#уберем лишний столбец, если там все значения одинаковые\n",
        "if len(df.unknown.unique()) == 1:\n",
        "  df = df.drop(columns=['unknown'])"
      ],
      "metadata": {
        "id": "Mf9trxJ3eV1H"
      },
      "execution_count": 10,
      "outputs": []
    },
    {
      "cell_type": "code",
      "source": [
        "#сгруппирурем данные по типу игры и посмотрим, сколько потрачено времени на каждую игру\n",
        "group = df.groupby(['game']).sum().duration\n",
        "#выведем топ-20 игр по времени игры пользователей\n",
        "group = group.sort_values(ascending=False)[:20]\n",
        "group"
      ],
      "metadata": {
        "colab": {
          "base_uri": "https://localhost:8080/"
        },
        "id": "HoavXBZRU71-",
        "outputId": "2ec4692f-f88f-4ba8-de9f-9b54798ff09b"
      },
      "execution_count": 11,
      "outputs": [
        {
          "output_type": "execute_result",
          "data": {
            "text/plain": [
              "game\n",
              "Dota 2                                         981684.6\n",
              "Counter-Strike Global Offensive                322771.6\n",
              "Team Fortress 2                                173673.3\n",
              "Counter-Strike                                 134261.1\n",
              "Sid Meier's Civilization V                      99821.3\n",
              "Counter-Strike Source                           96075.5\n",
              "The Elder Scrolls V Skyrim                      70889.3\n",
              "Garry's Mod                                     49725.3\n",
              "Call of Duty Modern Warfare 2 - Multiplayer     42009.9\n",
              "Left 4 Dead 2                                   33596.7\n",
              "Football Manager 2013                           32308.6\n",
              "Football Manager 2012                           30845.8\n",
              "Football Manager 2014                           30574.8\n",
              "Terraria                                        29951.8\n",
              "Warframe                                        27074.6\n",
              "Football Manager 2015                           24283.1\n",
              "Arma 3                                          24055.7\n",
              "Grand Theft Auto V                              22956.7\n",
              "Borderlands 2                                   22667.9\n",
              "Empire Total War                                21030.3\n",
              "Name: duration, dtype: float64"
            ]
          },
          "metadata": {},
          "execution_count": 11
        }
      ]
    },
    {
      "cell_type": "markdown",
      "source": [
        "Посмотрим насколько большой разброс данных в столбце duration, по которому будем выстраивать систему рейтинга"
      ],
      "metadata": {
        "id": "z9wPf4AdPJe7"
      }
    },
    {
      "cell_type": "code",
      "source": [
        "sns.kdeplot(df[\"duration\"])\n",
        "sns.rugplot(df[\"duration\"])\n"
      ],
      "metadata": {
        "colab": {
          "base_uri": "https://localhost:8080/",
          "height": 316
        },
        "id": "XSVjmDYWsYPI",
        "outputId": "fb9362f8-83b8-46ac-8e12-8f9d625e878c"
      },
      "execution_count": 12,
      "outputs": [
        {
          "output_type": "execute_result",
          "data": {
            "text/plain": [
              "<AxesSubplot:xlabel='duration', ylabel='Density'>"
            ]
          },
          "metadata": {},
          "execution_count": 12
        },
        {
          "output_type": "display_data",
          "data": {
            "text/plain": [
              "<Figure size 432x288 with 1 Axes>"
            ],
            "image/png": "[encoded data removed]"
          },
          "metadata": {
            "needs_background": "light"
          }
        }
      ]
    },
    {
      "cell_type": "markdown",
      "source": [
        "Визуально можно оценить, что наиболее плотно данные расположены в пределах 2000 часов игры. Сравним насколько сильно отличается размер датасета до 2000 и до 4000 часов в стобце duration. Отсечем все случаи, когда user играл в игру меньше 1 часа."
      ],
      "metadata": {
        "id": "bLGz470DP_Vo"
      }
    },
    {
      "cell_type": "code",
      "source": [
        "df_2000 = df[df.duration<=2000]\n",
        "df_2000 = df_2000[df_2000.duration>=1]\n",
        "df_2000 = df_2000.reset_index() #создадим стобец index для визуализации"
      ],
      "metadata": {
        "id": "TfUY_VS4tzSc"
      },
      "execution_count": 13,
      "outputs": []
    },
    {
      "cell_type": "code",
      "source": [
        "df_2000"
      ],
      "metadata": {
        "colab": {
          "base_uri": "https://localhost:8080/",
          "height": 433
        },
        "id": "sBWgHfMRvDc4",
        "outputId": "24c93ca2-e29a-4b59-d2d0-43f247ff49fd"
      },
      "execution_count": 14,
      "outputs": [
        {
          "output_type": "execute_result",
          "data": {
            "text/plain": [
              "       index     userId                        game action  duration\n",
              "0          0  151603712  The Elder Scrolls V Skyrim   play     273.0\n",
              "1          1  151603712                   Fallout 4   play      87.0\n",
              "2          2  151603712                       Spore   play      14.9\n",
              "3          3  151603712           Fallout New Vegas   play      12.1\n",
              "4          4  151603712               Left 4 Dead 2   play       8.9\n",
              "...      ...        ...                         ...    ...       ...\n",
              "53516  70484  128470551                Fallen Earth   play       2.4\n",
              "53517  70485  128470551                 Magic Duels   play       2.2\n",
              "53518  70486  128470551                 Titan Souls   play       1.5\n",
              "53519  70487  128470551  Grand Theft Auto Vice City   play       1.5\n",
              "53520  70488  128470551                        RUSH   play       1.4\n",
              "\n",
              "[53521 rows x 5 columns]"
            ],
            "text/html": [
              "\n",
              "  <div id=\"df-ad26e37d-4685-4b11-a6f3-d85c1d563c3d\">\n",
              "    <div class=\"colab-df-container\">\n",
              "      <div>\n",
              "<style scoped>\n",
              "    .dataframe tbody tr th:only-of-type {\n",
              "        vertical-align: middle;\n",
              "    }\n",
              "\n",
              "    .dataframe tbody tr th {\n",
              "        vertical-align: top;\n",
              "    }\n",
              "\n",
              "    .dataframe thead th {\n",
              "        text-align: right;\n",
              "    }\n",
              "</style>\n",
              "<table border=\"1\" class=\"dataframe\">\n",
              "  <thead>\n",
              "    <tr style=\"text-align: right;\">\n",
              "      <th></th>\n",
              "      <th>index</th>\n",
              "      <th>userId</th>\n",
              "      <th>game</th>\n",
              "      <th>action</th>\n",
              "      <th>duration</th>\n",
              "    </tr>\n",
              "  </thead>\n",
              "  <tbody>\n",
              "    <tr>\n",
              "      <th>0</th>\n",
              "      <td>0</td>\n",
              "      <td>151603712</td>\n",
              "      <td>The Elder Scrolls V Skyrim</td>\n",
              "      <td>play</td>\n",
              "      <td>273.0</td>\n",
              "    </tr>\n",
              "    <tr>\n",
              "      <th>1</th>\n",
              "      <td>1</td>\n",
              "      <td>151603712</td>\n",
              "      <td>Fallout 4</td>\n",
              "      <td>play</td>\n",
              "      <td>87.0</td>\n",
              "    </tr>\n",
              "    <tr>\n",
              "      <th>2</th>\n",
              "      <td>2</td>\n",
              "      <td>151603712</td>\n",
              "      <td>Spore</td>\n",
              "      <td>play</td>\n",
              "      <td>14.9</td>\n",
              "    </tr>\n",
              "    <tr>\n",
              "      <th>3</th>\n",
              "      <td>3</td>\n",
              "      <td>151603712</td>\n",
              "      <td>Fallout New Vegas</td>\n",
              "      <td>play</td>\n",
              "      <td>12.1</td>\n",
              "    </tr>\n",
              "    <tr>\n",
              "      <th>4</th>\n",
              "      <td>4</td>\n",
              "      <td>151603712</td>\n",
              "      <td>Left 4 Dead 2</td>\n",
              "      <td>play</td>\n",
              "      <td>8.9</td>\n",
              "    </tr>\n",
              "    <tr>\n",
              "      <th>...</th>\n",
              "      <td>...</td>\n",
              "      <td>...</td>\n",
              "      <td>...</td>\n",
              "      <td>...</td>\n",
              "      <td>...</td>\n",
              "    </tr>\n",
              "    <tr>\n",
              "      <th>53516</th>\n",
              "      <td>70484</td>\n",
              "      <td>128470551</td>\n",
              "      <td>Fallen Earth</td>\n",
              "      <td>play</td>\n",
              "      <td>2.4</td>\n",
              "    </tr>\n",
              "    <tr>\n",
              "      <th>53517</th>\n",
              "      <td>70485</td>\n",
              "      <td>128470551</td>\n",
              "      <td>Magic Duels</td>\n",
              "      <td>play</td>\n",
              "      <td>2.2</td>\n",
              "    </tr>\n",
              "    <tr>\n",
              "      <th>53518</th>\n",
              "      <td>70486</td>\n",
              "      <td>128470551</td>\n",
              "      <td>Titan Souls</td>\n",
              "      <td>play</td>\n",
              "      <td>1.5</td>\n",
              "    </tr>\n",
              "    <tr>\n",
              "      <th>53519</th>\n",
              "      <td>70487</td>\n",
              "      <td>128470551</td>\n",
              "      <td>Grand Theft Auto Vice City</td>\n",
              "      <td>play</td>\n",
              "      <td>1.5</td>\n",
              "    </tr>\n",
              "    <tr>\n",
              "      <th>53520</th>\n",
              "      <td>70488</td>\n",
              "      <td>128470551</td>\n",
              "      <td>RUSH</td>\n",
              "      <td>play</td>\n",
              "      <td>1.4</td>\n",
              "    </tr>\n",
              "  </tbody>\n",
              "</table>\n",
              "<p>53521 rows × 5 columns</p>\n",
              "</div>\n",
              "      <button class=\"colab-df-convert\" onclick=\"convertToInteractive('df-ad26e37d-4685-4b11-a6f3-d85c1d563c3d')\"\n",
              "              title=\"Convert this dataframe to an interactive table.\"\n",
              "              style=\"display:none;\">\n",
              "        \n",
              "  <svg xmlns=\"http://www.w3.org/2000/svg\" height=\"24px\"viewBox=\"0 0 24 24\"\n",
              "       width=\"24px\">\n",
              "    <path d=\"M0 0h24v24H0V0z\" fill=\"none\"/>\n",
              "    <path d=\"M18.56 5.44l.94 2.06.94-2.06 2.06-.94-2.06-.94-.94-2.06-.94 2.06-2.06.94zm-11 1L8.5 8.5l.94-2.06 2.06-.94-2.06-.94L8.5 2.5l-.94 2.06-2.06.94zm10 10l.94 2.06.94-2.06 2.06-.94-2.06-.94-.94-2.06-.94 2.06-2.06.94z\"/><path d=\"M17.41 7.96l-1.37-1.37c-.4-.4-.92-.59-1.43-.59-.52 0-1.04.2-1.43.59L10.3 9.45l-7.72 7.72c-.78.78-.78 2.05 0 2.83L4 21.41c.39.39.9.59 1.41.59.51 0 1.02-.2 1.41-.59l7.78-7.78 2.81-2.81c.8-.78.8-2.07 0-2.86zM5.41 20L4 18.59l7.72-7.72 1.47 1.35L5.41 20z\"/>\n",
              "  </svg>\n",
              "      </button>\n",
              "      \n",
              "  <style>\n",
              "    .colab-df-container {\n",
              "      display:flex;\n",
              "      flex-wrap:wrap;\n",
              "      gap: 12px;\n",
              "    }\n",
              "\n",
              "    .colab-df-convert {\n",
              "      background-color: #E8F0FE;\n",
              "      border: none;\n",
              "      border-radius: 50%;\n",
              "      cursor: pointer;\n",
              "      display: none;\n",
              "      fill: #1967D2;\n",
              "      height: 32px;\n",
              "      padding: 0 0 0 0;\n",
              "      width: 32px;\n",
              "    }\n",
              "\n",
              "    .colab-df-convert:hover {\n",
              "      background-color: #E2EBFA;\n",
              "      box-shadow: 0px 1px 2px rgba(60, 64, 67, 0.3), 0px 1px 3px 1px rgba(60, 64, 67, 0.15);\n",
              "      fill: #174EA6;\n",
              "    }\n",
              "\n",
              "    [theme=dark] .colab-df-convert {\n",
              "      background-color: #3B4455;\n",
              "      fill: #D2E3FC;\n",
              "    }\n",
              "\n",
              "    [theme=dark] .colab-df-convert:hover {\n",
              "      background-color: #434B5C;\n",
              "      box-shadow: 0px 1px 3px 1px rgba(0, 0, 0, 0.15);\n",
              "      filter: drop-shadow(0px 1px 2px rgba(0, 0, 0, 0.3));\n",
              "      fill: #FFFFFF;\n",
              "    }\n",
              "  </style>\n",
              "\n",
              "      <script>\n",
              "        const buttonEl =\n",
              "          document.querySelector('#df-ad26e37d-4685-4b11-a6f3-d85c1d563c3d button.colab-df-convert');\n",
              "        buttonEl.style.display =\n",
              "          google.colab.kernel.accessAllowed ? 'block' : 'none';\n",
              "\n",
              "        async function convertToInteractive(key) {\n",
              "          const element = document.querySelector('#df-ad26e37d-4685-4b11-a6f3-d85c1d563c3d');\n",
              "          const dataTable =\n",
              "            await google.colab.kernel.invokeFunction('convertToInteractive',\n",
              "                                                     [key], {});\n",
              "          if (!dataTable) return;\n",
              "\n",
              "          const docLinkHtml = 'Like what you see? Visit the ' +\n",
              "            '<a target=\"_blank\" href=https://colab.research.google.com/notebooks/data_table.ipynb>data table notebook</a>'\n",
              "            + ' to learn more about interactive tables.';\n",
              "          element.innerHTML = '';\n",
              "          dataTable['output_type'] = 'display_data';\n",
              "          await google.colab.output.renderOutput(dataTable, element);\n",
              "          const docLink = document.createElement('div');\n",
              "          docLink.innerHTML = docLinkHtml;\n",
              "          element.appendChild(docLink);\n",
              "        }\n",
              "      </script>\n",
              "    </div>\n",
              "  </div>\n",
              "  "
            ]
          },
          "metadata": {},
          "execution_count": 14
        }
      ]
    },
    {
      "cell_type": "markdown",
      "source": [
        "Визулизируем разброс данных duration в завивисимости от index."
      ],
      "metadata": {
        "id": "_MMGxnuKRET4"
      }
    },
    {
      "cell_type": "code",
      "source": [
        "sns.jointplot(x = 'index', y = 'duration', data = df_2000)"
      ],
      "metadata": {
        "colab": {
          "base_uri": "https://localhost:8080/",
          "height": 479
        },
        "id": "2PjFQt1tKy6m",
        "outputId": "032bf4ad-6f7f-4cce-b6a3-24f13a0bd860"
      },
      "execution_count": 15,
      "outputs": [
        {
          "output_type": "execute_result",
          "data": {
            "text/plain": [
              "<seaborn.axisgrid.JointGrid at 0x7fa4d9e6a970>"
            ]
          },
          "metadata": {},
          "execution_count": 15
        },
        {
          "output_type": "display_data",
          "data": {
            "text/plain": [
              "<Figure size 432x432 with 3 Axes>"
            ],
            "image/png": "[encoded data removed]"
          },
          "metadata": {
            "needs_background": "light"
          }
        }
      ]
    },
    {
      "cell_type": "code",
      "source": [
        "#сгруппирурем данные по типу игры и посмотрим, сколько потрачено времени на каждую игру\n",
        "group_2000 = df_2000.groupby(['game']).sum().duration\n",
        "#выведем топ-20 игр по времени игры пользователей\n",
        "group_2000 = group_2000.sort_values(ascending=False)[:20]\n",
        "group_2000"
      ],
      "metadata": {
        "colab": {
          "base_uri": "https://localhost:8080/"
        },
        "id": "GuyTu6wqSU0L",
        "outputId": "169d7fee-363c-4411-cf76-09106f3bb827"
      },
      "execution_count": 16,
      "outputs": [
        {
          "output_type": "execute_result",
          "data": {
            "text/plain": [
              "game\n",
              "Dota 2                                         630314.3\n",
              "Counter-Strike Global Offensive                297485.3\n",
              "Team Fortress 2                                141432.8\n",
              "Counter-Strike                                  79426.1\n",
              "Counter-Strike Source                           75990.4\n",
              "The Elder Scrolls V Skyrim                      70872.3\n",
              "Sid Meier's Civilization V                      61171.3\n",
              "Garry's Mod                                     46036.1\n",
              "Call of Duty Modern Warfare 2 - Multiplayer     41995.4\n",
              "Terraria                                        29929.9\n",
              "Left 4 Dead 2                                   28791.4\n",
              "Football Manager 2012                           28757.5\n",
              "Warframe                                        27044.9\n",
              "Football Manager 2013                           26684.1\n",
              "Football Manager 2014                           23520.8\n",
              "Grand Theft Auto V                              22955.1\n",
              "Borderlands 2                                   22653.5\n",
              "Football Manager 2015                           21780.1\n",
              "Arma 3                                          21569.3\n",
              "Empire Total War                                21019.2\n",
              "Name: duration, dtype: float64"
            ]
          },
          "metadata": {},
          "execution_count": 16
        }
      ]
    },
    {
      "cell_type": "code",
      "source": [
        "df_4000 = df[df.duration<=4000]\n",
        "df_4000 = df_4000[df_4000.duration>=1]\n",
        "df_4000 = df_4000.reset_index() #создадим стобец index для визуализации"
      ],
      "metadata": {
        "id": "0mne4KIIM9sp"
      },
      "execution_count": 17,
      "outputs": []
    },
    {
      "cell_type": "code",
      "source": [
        "df_4000"
      ],
      "metadata": {
        "colab": {
          "base_uri": "https://localhost:8080/",
          "height": 433
        },
        "id": "WwSHkEuYND-S",
        "outputId": "9971baec-d241-41cd-921a-bae822885531"
      },
      "execution_count": 18,
      "outputs": [
        {
          "output_type": "execute_result",
          "data": {
            "text/plain": [
              "       index     userId                        game action  duration\n",
              "0          0  151603712  The Elder Scrolls V Skyrim   play     273.0\n",
              "1          1  151603712                   Fallout 4   play      87.0\n",
              "2          2  151603712                       Spore   play      14.9\n",
              "3          3  151603712           Fallout New Vegas   play      12.1\n",
              "4          4  151603712               Left 4 Dead 2   play       8.9\n",
              "...      ...        ...                         ...    ...       ...\n",
              "53654  70484  128470551                Fallen Earth   play       2.4\n",
              "53655  70485  128470551                 Magic Duels   play       2.2\n",
              "53656  70486  128470551                 Titan Souls   play       1.5\n",
              "53657  70487  128470551  Grand Theft Auto Vice City   play       1.5\n",
              "53658  70488  128470551                        RUSH   play       1.4\n",
              "\n",
              "[53659 rows x 5 columns]"
            ],
            "text/html": [
              "\n",
              "  <div id=\"df-bf34e9d9-b2f2-4d03-a1dd-5312715e4696\">\n",
              "    <div class=\"colab-df-container\">\n",
              "      <div>\n",
              "<style scoped>\n",
              "    .dataframe tbody tr th:only-of-type {\n",
              "        vertical-align: middle;\n",
              "    }\n",
              "\n",
              "    .dataframe tbody tr th {\n",
              "        vertical-align: top;\n",
              "    }\n",
              "\n",
              "    .dataframe thead th {\n",
              "        text-align: right;\n",
              "    }\n",
              "</style>\n",
              "<table border=\"1\" class=\"dataframe\">\n",
              "  <thead>\n",
              "    <tr style=\"text-align: right;\">\n",
              "      <th></th>\n",
              "      <th>index</th>\n",
              "      <th>userId</th>\n",
              "      <th>game</th>\n",
              "      <th>action</th>\n",
              "      <th>duration</th>\n",
              "    </tr>\n",
              "  </thead>\n",
              "  <tbody>\n",
              "    <tr>\n",
              "      <th>0</th>\n",
              "      <td>0</td>\n",
              "      <td>151603712</td>\n",
              "      <td>The Elder Scrolls V Skyrim</td>\n",
              "      <td>play</td>\n",
              "      <td>273.0</td>\n",
              "    </tr>\n",
              "    <tr>\n",
              "      <th>1</th>\n",
              "      <td>1</td>\n",
              "      <td>151603712</td>\n",
              "      <td>Fallout 4</td>\n",
              "      <td>play</td>\n",
              "      <td>87.0</td>\n",
              "    </tr>\n",
              "    <tr>\n",
              "      <th>2</th>\n",
              "      <td>2</td>\n",
              "      <td>151603712</td>\n",
              "      <td>Spore</td>\n",
              "      <td>play</td>\n",
              "      <td>14.9</td>\n",
              "    </tr>\n",
              "    <tr>\n",
              "      <th>3</th>\n",
              "      <td>3</td>\n",
              "      <td>151603712</td>\n",
              "      <td>Fallout New Vegas</td>\n",
              "      <td>play</td>\n",
              "      <td>12.1</td>\n",
              "    </tr>\n",
              "    <tr>\n",
              "      <th>4</th>\n",
              "      <td>4</td>\n",
              "      <td>151603712</td>\n",
              "      <td>Left 4 Dead 2</td>\n",
              "      <td>play</td>\n",
              "      <td>8.9</td>\n",
              "    </tr>\n",
              "    <tr>\n",
              "      <th>...</th>\n",
              "      <td>...</td>\n",
              "      <td>...</td>\n",
              "      <td>...</td>\n",
              "      <td>...</td>\n",
              "      <td>...</td>\n",
              "    </tr>\n",
              "    <tr>\n",
              "      <th>53654</th>\n",
              "      <td>70484</td>\n",
              "      <td>128470551</td>\n",
              "      <td>Fallen Earth</td>\n",
              "      <td>play</td>\n",
              "      <td>2.4</td>\n",
              "    </tr>\n",
              "    <tr>\n",
              "      <th>53655</th>\n",
              "      <td>70485</td>\n",
              "      <td>128470551</td>\n",
              "      <td>Magic Duels</td>\n",
              "      <td>play</td>\n",
              "      <td>2.2</td>\n",
              "    </tr>\n",
              "    <tr>\n",
              "      <th>53656</th>\n",
              "      <td>70486</td>\n",
              "      <td>128470551</td>\n",
              "      <td>Titan Souls</td>\n",
              "      <td>play</td>\n",
              "      <td>1.5</td>\n",
              "    </tr>\n",
              "    <tr>\n",
              "      <th>53657</th>\n",
              "      <td>70487</td>\n",
              "      <td>128470551</td>\n",
              "      <td>Grand Theft Auto Vice City</td>\n",
              "      <td>play</td>\n",
              "      <td>1.5</td>\n",
              "    </tr>\n",
              "    <tr>\n",
              "      <th>53658</th>\n",
              "      <td>70488</td>\n",
              "      <td>128470551</td>\n",
              "      <td>RUSH</td>\n",
              "      <td>play</td>\n",
              "      <td>1.4</td>\n",
              "    </tr>\n",
              "  </tbody>\n",
              "</table>\n",
              "<p>53659 rows × 5 columns</p>\n",
              "</div>\n",
              "      <button class=\"colab-df-convert\" onclick=\"convertToInteractive('df-bf34e9d9-b2f2-4d03-a1dd-5312715e4696')\"\n",
              "              title=\"Convert this dataframe to an interactive table.\"\n",
              "              style=\"display:none;\">\n",
              "        \n",
              "  <svg xmlns=\"http://www.w3.org/2000/svg\" height=\"24px\"viewBox=\"0 0 24 24\"\n",
              "       width=\"24px\">\n",
              "    <path d=\"M0 0h24v24H0V0z\" fill=\"none\"/>\n",
              "    <path d=\"M18.56 5.44l.94 2.06.94-2.06 2.06-.94-2.06-.94-.94-2.06-.94 2.06-2.06.94zm-11 1L8.5 8.5l.94-2.06 2.06-.94-2.06-.94L8.5 2.5l-.94 2.06-2.06.94zm10 10l.94 2.06.94-2.06 2.06-.94-2.06-.94-.94-2.06-.94 2.06-2.06.94z\"/><path d=\"M17.41 7.96l-1.37-1.37c-.4-.4-.92-.59-1.43-.59-.52 0-1.04.2-1.43.59L10.3 9.45l-7.72 7.72c-.78.78-.78 2.05 0 2.83L4 21.41c.39.39.9.59 1.41.59.51 0 1.02-.2 1.41-.59l7.78-7.78 2.81-2.81c.8-.78.8-2.07 0-2.86zM5.41 20L4 18.59l7.72-7.72 1.47 1.35L5.41 20z\"/>\n",
              "  </svg>\n",
              "      </button>\n",
              "      \n",
              "  <style>\n",
              "    .colab-df-container {\n",
              "      display:flex;\n",
              "      flex-wrap:wrap;\n",
              "      gap: 12px;\n",
              "    }\n",
              "\n",
              "    .colab-df-convert {\n",
              "      background-color: #E8F0FE;\n",
              "      border: none;\n",
              "      border-radius: 50%;\n",
              "      cursor: pointer;\n",
              "      display: none;\n",
              "      fill: #1967D2;\n",
              "      height: 32px;\n",
              "      padding: 0 0 0 0;\n",
              "      width: 32px;\n",
              "    }\n",
              "\n",
              "    .colab-df-convert:hover {\n",
              "      background-color: #E2EBFA;\n",
              "      box-shadow: 0px 1px 2px rgba(60, 64, 67, 0.3), 0px 1px 3px 1px rgba(60, 64, 67, 0.15);\n",
              "      fill: #174EA6;\n",
              "    }\n",
              "\n",
              "    [theme=dark] .colab-df-convert {\n",
              "      background-color: #3B4455;\n",
              "      fill: #D2E3FC;\n",
              "    }\n",
              "\n",
              "    [theme=dark] .colab-df-convert:hover {\n",
              "      background-color: #434B5C;\n",
              "      box-shadow: 0px 1px 3px 1px rgba(0, 0, 0, 0.15);\n",
              "      filter: drop-shadow(0px 1px 2px rgba(0, 0, 0, 0.3));\n",
              "      fill: #FFFFFF;\n",
              "    }\n",
              "  </style>\n",
              "\n",
              "      <script>\n",
              "        const buttonEl =\n",
              "          document.querySelector('#df-bf34e9d9-b2f2-4d03-a1dd-5312715e4696 button.colab-df-convert');\n",
              "        buttonEl.style.display =\n",
              "          google.colab.kernel.accessAllowed ? 'block' : 'none';\n",
              "\n",
              "        async function convertToInteractive(key) {\n",
              "          const element = document.querySelector('#df-bf34e9d9-b2f2-4d03-a1dd-5312715e4696');\n",
              "          const dataTable =\n",
              "            await google.colab.kernel.invokeFunction('convertToInteractive',\n",
              "                                                     [key], {});\n",
              "          if (!dataTable) return;\n",
              "\n",
              "          const docLinkHtml = 'Like what you see? Visit the ' +\n",
              "            '<a target=\"_blank\" href=https://colab.research.google.com/notebooks/data_table.ipynb>data table notebook</a>'\n",
              "            + ' to learn more about interactive tables.';\n",
              "          element.innerHTML = '';\n",
              "          dataTable['output_type'] = 'display_data';\n",
              "          await google.colab.output.renderOutput(dataTable, element);\n",
              "          const docLink = document.createElement('div');\n",
              "          docLink.innerHTML = docLinkHtml;\n",
              "          element.appendChild(docLink);\n",
              "        }\n",
              "      </script>\n",
              "    </div>\n",
              "  </div>\n",
              "  "
            ]
          },
          "metadata": {},
          "execution_count": 18
        }
      ]
    },
    {
      "cell_type": "markdown",
      "source": [
        "Визулизируем разброс данных duration в завивисимости от index.\n"
      ],
      "metadata": {
        "id": "Ajznqri8RQwu"
      }
    },
    {
      "cell_type": "code",
      "source": [
        "sns.jointplot(x = 'index', y = 'duration', data = df_4000)"
      ],
      "metadata": {
        "colab": {
          "base_uri": "https://localhost:8080/",
          "height": 479
        },
        "id": "NFXOtJXSuxjB",
        "outputId": "c70bf496-7784-4d85-a27e-fa99a2070232"
      },
      "execution_count": 19,
      "outputs": [
        {
          "output_type": "execute_result",
          "data": {
            "text/plain": [
              "<seaborn.axisgrid.JointGrid at 0x7fa4d9003bb0>"
            ]
          },
          "metadata": {},
          "execution_count": 19
        },
        {
          "output_type": "display_data",
          "data": {
            "text/plain": [
              "<Figure size 432x432 with 3 Axes>"
            ],
            "image/png": "[encoded data removed]"
          },
          "metadata": {
            "needs_background": "light"
          }
        }
      ]
    },
    {
      "cell_type": "code",
      "source": [
        "#сгруппирурем данные по типу игры и посмотрим, сколько потрачено времени на каждую игру\n",
        "group_4000 = df_4000.groupby(['game']).sum().duration\n",
        "#выведем топ-20 игр по времени игры пользователей\n",
        "group_4000 = group_4000.sort_values(ascending=False)[:20]\n",
        "group_4000"
      ],
      "metadata": {
        "colab": {
          "base_uri": "https://localhost:8080/"
        },
        "id": "lnUWNL7ZS0i4",
        "outputId": "095291a6-c911-4dd1-ba61-b380a78905e9"
      },
      "execution_count": 20,
      "outputs": [
        {
          "output_type": "execute_result",
          "data": {
            "text/plain": [
              "game\n",
              "Dota 2                                         860933.3\n",
              "Counter-Strike Global Offensive                314065.3\n",
              "Team Fortress 2                                163760.8\n",
              "Counter-Strike                                 120517.1\n",
              "Counter-Strike Source                           86955.4\n",
              "The Elder Scrolls V Skyrim                      70872.3\n",
              "Sid Meier's Civilization V                      65836.3\n",
              "Garry's Mod                                     49703.1\n",
              "Call of Duty Modern Warfare 2 - Multiplayer     41995.4\n",
              "Left 4 Dead 2                                   33556.4\n",
              "Football Manager 2013                           32307.1\n",
              "Football Manager 2012                           30845.5\n",
              "Terraria                                        29929.9\n",
              "Warframe                                        27044.9\n",
              "Football Manager 2014                           25799.8\n",
              "Football Manager 2015                           24283.1\n",
              "Arma 3                                          24053.3\n",
              "Grand Theft Auto V                              22955.1\n",
              "Borderlands 2                                   22653.5\n",
              "Empire Total War                                21019.2\n",
              "Name: duration, dtype: float64"
            ]
          },
          "metadata": {},
          "execution_count": 20
        }
      ]
    },
    {
      "cell_type": "code",
      "source": [
        "compare_2000_4000 = pd.concat([group_2000, group_4000, group], axis=1)\n",
        "compare_2000_4000"
      ],
      "metadata": {
        "colab": {
          "base_uri": "https://localhost:8080/",
          "height": 710
        },
        "id": "K_bBJSSDTAE3",
        "outputId": "88623c07-8b60-4a72-c05f-bcea855484ac"
      },
      "execution_count": 21,
      "outputs": [
        {
          "output_type": "execute_result",
          "data": {
            "text/plain": [
              "                                             duration  duration  duration\n",
              "game                                                                     \n",
              "Dota 2                                       630314.3  860933.3  981684.6\n",
              "Counter-Strike Global Offensive              297485.3  314065.3  322771.6\n",
              "Team Fortress 2                              141432.8  163760.8  173673.3\n",
              "Counter-Strike                                79426.1  120517.1  134261.1\n",
              "Counter-Strike Source                         75990.4   86955.4   96075.5\n",
              "The Elder Scrolls V Skyrim                    70872.3   70872.3   70889.3\n",
              "Sid Meier's Civilization V                    61171.3   65836.3   99821.3\n",
              "Garry's Mod                                   46036.1   49703.1   49725.3\n",
              "Call of Duty Modern Warfare 2 - Multiplayer   41995.4   41995.4   42009.9\n",
              "Terraria                                      29929.9   29929.9   29951.8\n",
              "Left 4 Dead 2                                 28791.4   33556.4   33596.7\n",
              "Football Manager 2012                         28757.5   30845.5   30845.8\n",
              "Warframe                                      27044.9   27044.9   27074.6\n",
              "Football Manager 2013                         26684.1   32307.1   32308.6\n",
              "Football Manager 2014                         23520.8   25799.8   30574.8\n",
              "Grand Theft Auto V                            22955.1   22955.1   22956.7\n",
              "Borderlands 2                                 22653.5   22653.5   22667.9\n",
              "Football Manager 2015                         21780.1   24283.1   24283.1\n",
              "Arma 3                                        21569.3   24053.3   24055.7\n",
              "Empire Total War                              21019.2   21019.2   21030.3"
            ],
            "text/html": [
              "\n",
              "  <div id=\"df-1663a1d3-79ff-4468-bbdc-b52218754816\">\n",
              "    <div class=\"colab-df-container\">\n",
              "      <div>\n",
              "<style scoped>\n",
              "    .dataframe tbody tr th:only-of-type {\n",
              "        vertical-align: middle;\n",
              "    }\n",
              "\n",
              "    .dataframe tbody tr th {\n",
              "        vertical-align: top;\n",
              "    }\n",
              "\n",
              "    .dataframe thead th {\n",
              "        text-align: right;\n",
              "    }\n",
              "</style>\n",
              "<table border=\"1\" class=\"dataframe\">\n",
              "  <thead>\n",
              "    <tr style=\"text-align: right;\">\n",
              "      <th></th>\n",
              "      <th>duration</th>\n",
              "      <th>duration</th>\n",
              "      <th>duration</th>\n",
              "    </tr>\n",
              "    <tr>\n",
              "      <th>game</th>\n",
              "      <th></th>\n",
              "      <th></th>\n",
              "      <th></th>\n",
              "    </tr>\n",
              "  </thead>\n",
              "  <tbody>\n",
              "    <tr>\n",
              "      <th>Dota 2</th>\n",
              "      <td>630314.3</td>\n",
              "      <td>860933.3</td>\n",
              "      <td>981684.6</td>\n",
              "    </tr>\n",
              "    <tr>\n",
              "      <th>Counter-Strike Global Offensive</th>\n",
              "      <td>297485.3</td>\n",
              "      <td>314065.3</td>\n",
              "      <td>322771.6</td>\n",
              "    </tr>\n",
              "    <tr>\n",
              "      <th>Team Fortress 2</th>\n",
              "      <td>141432.8</td>\n",
              "      <td>163760.8</td>\n",
              "      <td>173673.3</td>\n",
              "    </tr>\n",
              "    <tr>\n",
              "      <th>Counter-Strike</th>\n",
              "      <td>79426.1</td>\n",
              "      <td>120517.1</td>\n",
              "      <td>134261.1</td>\n",
              "    </tr>\n",
              "    <tr>\n",
              "      <th>Counter-Strike Source</th>\n",
              "      <td>75990.4</td>\n",
              "      <td>86955.4</td>\n",
              "      <td>96075.5</td>\n",
              "    </tr>\n",
              "    <tr>\n",
              "      <th>The Elder Scrolls V Skyrim</th>\n",
              "      <td>70872.3</td>\n",
              "      <td>70872.3</td>\n",
              "      <td>70889.3</td>\n",
              "    </tr>\n",
              "    <tr>\n",
              "      <th>Sid Meier's Civilization V</th>\n",
              "      <td>61171.3</td>\n",
              "      <td>65836.3</td>\n",
              "      <td>99821.3</td>\n",
              "    </tr>\n",
              "    <tr>\n",
              "      <th>Garry's Mod</th>\n",
              "      <td>46036.1</td>\n",
              "      <td>49703.1</td>\n",
              "      <td>49725.3</td>\n",
              "    </tr>\n",
              "    <tr>\n",
              "      <th>Call of Duty Modern Warfare 2 - Multiplayer</th>\n",
              "      <td>41995.4</td>\n",
              "      <td>41995.4</td>\n",
              "      <td>42009.9</td>\n",
              "    </tr>\n",
              "    <tr>\n",
              "      <th>Terraria</th>\n",
              "      <td>29929.9</td>\n",
              "      <td>29929.9</td>\n",
              "      <td>29951.8</td>\n",
              "    </tr>\n",
              "    <tr>\n",
              "      <th>Left 4 Dead 2</th>\n",
              "      <td>28791.4</td>\n",
              "      <td>33556.4</td>\n",
              "      <td>33596.7</td>\n",
              "    </tr>\n",
              "    <tr>\n",
              "      <th>Football Manager 2012</th>\n",
              "      <td>28757.5</td>\n",
              "      <td>30845.5</td>\n",
              "      <td>30845.8</td>\n",
              "    </tr>\n",
              "    <tr>\n",
              "      <th>Warframe</th>\n",
              "      <td>27044.9</td>\n",
              "      <td>27044.9</td>\n",
              "      <td>27074.6</td>\n",
              "    </tr>\n",
              "    <tr>\n",
              "      <th>Football Manager 2013</th>\n",
              "      <td>26684.1</td>\n",
              "      <td>32307.1</td>\n",
              "      <td>32308.6</td>\n",
              "    </tr>\n",
              "    <tr>\n",
              "      <th>Football Manager 2014</th>\n",
              "      <td>23520.8</td>\n",
              "      <td>25799.8</td>\n",
              "      <td>30574.8</td>\n",
              "    </tr>\n",
              "    <tr>\n",
              "      <th>Grand Theft Auto V</th>\n",
              "      <td>22955.1</td>\n",
              "      <td>22955.1</td>\n",
              "      <td>22956.7</td>\n",
              "    </tr>\n",
              "    <tr>\n",
              "      <th>Borderlands 2</th>\n",
              "      <td>22653.5</td>\n",
              "      <td>22653.5</td>\n",
              "      <td>22667.9</td>\n",
              "    </tr>\n",
              "    <tr>\n",
              "      <th>Football Manager 2015</th>\n",
              "      <td>21780.1</td>\n",
              "      <td>24283.1</td>\n",
              "      <td>24283.1</td>\n",
              "    </tr>\n",
              "    <tr>\n",
              "      <th>Arma 3</th>\n",
              "      <td>21569.3</td>\n",
              "      <td>24053.3</td>\n",
              "      <td>24055.7</td>\n",
              "    </tr>\n",
              "    <tr>\n",
              "      <th>Empire Total War</th>\n",
              "      <td>21019.2</td>\n",
              "      <td>21019.2</td>\n",
              "      <td>21030.3</td>\n",
              "    </tr>\n",
              "  </tbody>\n",
              "</table>\n",
              "</div>\n",
              "      <button class=\"colab-df-convert\" onclick=\"convertToInteractive('df-1663a1d3-79ff-4468-bbdc-b52218754816')\"\n",
              "              title=\"Convert this dataframe to an interactive table.\"\n",
              "              style=\"display:none;\">\n",
              "        \n",
              "  <svg xmlns=\"http://www.w3.org/2000/svg\" height=\"24px\"viewBox=\"0 0 24 24\"\n",
              "       width=\"24px\">\n",
              "    <path d=\"M0 0h24v24H0V0z\" fill=\"none\"/>\n",
              "    <path d=\"M18.56 5.44l.94 2.06.94-2.06 2.06-.94-2.06-.94-.94-2.06-.94 2.06-2.06.94zm-11 1L8.5 8.5l.94-2.06 2.06-.94-2.06-.94L8.5 2.5l-.94 2.06-2.06.94zm10 10l.94 2.06.94-2.06 2.06-.94-2.06-.94-.94-2.06-.94 2.06-2.06.94z\"/><path d=\"M17.41 7.96l-1.37-1.37c-.4-.4-.92-.59-1.43-.59-.52 0-1.04.2-1.43.59L10.3 9.45l-7.72 7.72c-.78.78-.78 2.05 0 2.83L4 21.41c.39.39.9.59 1.41.59.51 0 1.02-.2 1.41-.59l7.78-7.78 2.81-2.81c.8-.78.8-2.07 0-2.86zM5.41 20L4 18.59l7.72-7.72 1.47 1.35L5.41 20z\"/>\n",
              "  </svg>\n",
              "      </button>\n",
              "      \n",
              "  <style>\n",
              "    .colab-df-container {\n",
              "      display:flex;\n",
              "      flex-wrap:wrap;\n",
              "      gap: 12px;\n",
              "    }\n",
              "\n",
              "    .colab-df-convert {\n",
              "      background-color: #E8F0FE;\n",
              "      border: none;\n",
              "      border-radius: 50%;\n",
              "      cursor: pointer;\n",
              "      display: none;\n",
              "      fill: #1967D2;\n",
              "      height: 32px;\n",
              "      padding: 0 0 0 0;\n",
              "      width: 32px;\n",
              "    }\n",
              "\n",
              "    .colab-df-convert:hover {\n",
              "      background-color: #E2EBFA;\n",
              "      box-shadow: 0px 1px 2px rgba(60, 64, 67, 0.3), 0px 1px 3px 1px rgba(60, 64, 67, 0.15);\n",
              "      fill: #174EA6;\n",
              "    }\n",
              "\n",
              "    [theme=dark] .colab-df-convert {\n",
              "      background-color: #3B4455;\n",
              "      fill: #D2E3FC;\n",
              "    }\n",
              "\n",
              "    [theme=dark] .colab-df-convert:hover {\n",
              "      background-color: #434B5C;\n",
              "      box-shadow: 0px 1px 3px 1px rgba(0, 0, 0, 0.15);\n",
              "      filter: drop-shadow(0px 1px 2px rgba(0, 0, 0, 0.3));\n",
              "      fill: #FFFFFF;\n",
              "    }\n",
              "  </style>\n",
              "\n",
              "      <script>\n",
              "        const buttonEl =\n",
              "          document.querySelector('#df-1663a1d3-79ff-4468-bbdc-b52218754816 button.colab-df-convert');\n",
              "        buttonEl.style.display =\n",
              "          google.colab.kernel.accessAllowed ? 'block' : 'none';\n",
              "\n",
              "        async function convertToInteractive(key) {\n",
              "          const element = document.querySelector('#df-1663a1d3-79ff-4468-bbdc-b52218754816');\n",
              "          const dataTable =\n",
              "            await google.colab.kernel.invokeFunction('convertToInteractive',\n",
              "                                                     [key], {});\n",
              "          if (!dataTable) return;\n",
              "\n",
              "          const docLinkHtml = 'Like what you see? Visit the ' +\n",
              "            '<a target=\"_blank\" href=https://colab.research.google.com/notebooks/data_table.ipynb>data table notebook</a>'\n",
              "            + ' to learn more about interactive tables.';\n",
              "          element.innerHTML = '';\n",
              "          dataTable['output_type'] = 'display_data';\n",
              "          await google.colab.output.renderOutput(dataTable, element);\n",
              "          const docLink = document.createElement('div');\n",
              "          docLink.innerHTML = docLinkHtml;\n",
              "          element.appendChild(docLink);\n",
              "        }\n",
              "      </script>\n",
              "    </div>\n",
              "  </div>\n",
              "  "
            ]
          },
          "metadata": {},
          "execution_count": 21
        }
      ]
    },
    {
      "cell_type": "markdown",
      "source": [
        "Вывод: разница между df_2000 и df_4000 незначительно. Визуально у df_4000 разброс данных больше. Работаем с df_2000. Если сравнить по топ-20 игр, видим, что они не поменялись в целом, но поменялись местами."
      ],
      "metadata": {
        "id": "ndX33yXEQujT"
      }
    },
    {
      "cell_type": "markdown",
      "source": [
        "**Проведем кластеризацию данных**"
      ],
      "metadata": {
        "id": "iRXBtzlVSMOR"
      }
    },
    {
      "cell_type": "markdown",
      "source": [
        "Просуммируем все случаи, когда один и тот же user играет в одну и ту же игру"
      ],
      "metadata": {
        "id": "BepBTblLX3JV"
      }
    },
    {
      "cell_type": "markdown",
      "source": [
        "Переформотируем датасет в формат userId - game - duration \n",
        "(просуммируем время игры каждого пользователя в конкретную игру)\n",
        "\n",
        "создадим gameId от 1 до количества игр в датасете и переобозначим userId от 1 до количества пользователей в датасете\n"
      ],
      "metadata": {
        "id": "NNb7vwYLdW-6"
      }
    },
    {
      "cell_type": "code",
      "source": [
        "game_dict = {}\n",
        "id = 1\n",
        "\n",
        "for index, row in df_2000.iterrows():\n",
        "    if game_dict.get(row['game']) is None:\n",
        "        game_dict[row['game']] = id\n",
        "        df_2000.at[index, 'gameId'] = id\n",
        "        id += 1\n",
        "    else:\n",
        "        df_2000.at[index, 'gameId'] = game_dict.get(row['game'])"
      ],
      "metadata": {
        "id": "-pMxzK81i8BD"
      },
      "execution_count": 22,
      "outputs": []
    },
    {
      "cell_type": "code",
      "source": [
        "user_dict = {}\n",
        "id = 1\n",
        "\n",
        "for index, row in df_2000.iterrows():\n",
        "    if user_dict.get(row['userId']) is None:\n",
        "        user_dict[row['userId']] = id\n",
        "        df_2000.at[index, 'userId'] = id\n",
        "        id += 1\n",
        "    else:\n",
        "        df_2000.at[index, 'userId'] = user_dict.get(row['userId'])"
      ],
      "metadata": {
        "id": "NKWi8OBRjF_m"
      },
      "execution_count": 23,
      "outputs": []
    },
    {
      "cell_type": "code",
      "source": [
        "df_2000.gameId = df_2000.gameId.values.astype(np.int)"
      ],
      "metadata": {
        "colab": {
          "base_uri": "https://localhost:8080/"
        },
        "id": "9qm_sz_L6T0p",
        "outputId": "c689a96f-fc4b-416e-c930-93b928fd4065"
      },
      "execution_count": null,
      "outputs": [
        {
          "output_type": "stream",
          "name": "stderr",
          "text": [
            "<ipython-input-29-ab8e1963082a>:1: DeprecationWarning: `np.int` is a deprecated alias for the builtin `int`. To silence this warning, use `int` by itself. Doing this will not modify any behavior and is safe. When replacing `np.int`, you may wish to use e.g. `np.int64` or `np.int32` to specify the precision. If you wish to review your current use, check the release note link for additional information.\n",
            "Deprecated in NumPy 1.20; for more details and guidance: https://numpy.org/devdocs/release/1.20.0-notes.html#deprecations\n",
            "  df_2000.gameId = df_2000.gameId.values.astype(np.int)\n"
          ]
        }
      ]
    },
    {
      "cell_type": "markdown",
      "source": [
        "Создадим вспомогательный стобец sessionId для суммирования повторов, когда в таблице 1 и тот же пользователь играет в одну и ту же игру (такие ситуации присутствуют в данном датасете в небольшом количестве)."
      ],
      "metadata": {
        "id": "yicAttSFPCjC"
      }
    },
    {
      "cell_type": "code",
      "source": [
        "df_2000['sessionId'] = df_2000.apply(lambda row: str(row['gameId']) + str(row['userId']), axis=1) #созданием sessionID"
      ],
      "metadata": {
        "id": "EaPxy2NCYEfe"
      },
      "execution_count": null,
      "outputs": []
    },
    {
      "cell_type": "code",
      "source": [
        "df_2000 = df_2000.drop(columns=['index', 'game', 'action'])"
      ],
      "metadata": {
        "id": "p2edPGQqGW25"
      },
      "execution_count": null,
      "outputs": []
    },
    {
      "cell_type": "code",
      "source": [
        "df_2000"
      ],
      "metadata": {
        "colab": {
          "base_uri": "https://localhost:8080/",
          "height": 433
        },
        "id": "LXmm9gVZ5VfA",
        "outputId": "0facc49b-ad98-4d22-93bd-45ec12c4c865"
      },
      "execution_count": null,
      "outputs": [
        {
          "output_type": "execute_result",
          "data": {
            "text/plain": [
              "       userId  duration  gameId sessionId\n",
              "0           1     273.0       1        11\n",
              "1           1      87.0       2        21\n",
              "2           1      14.9       3        31\n",
              "3           1      12.1       4        41\n",
              "4           1       8.9       5        51\n",
              "...       ...       ...     ...       ...\n",
              "53516    9555       2.4    1152  11529555\n",
              "53517    9555       2.2    1008  10089555\n",
              "53518    9555       1.5    2374  23749555\n",
              "53519    9555       1.5    1003  10039555\n",
              "53520    9555       1.4     196   1969555\n",
              "\n",
              "[53521 rows x 4 columns]"
            ],
            "text/html": [
              "\n",
              "  <div id=\"df-9c744c40-a80c-4a8a-a584-e8691da0ef15\">\n",
              "    <div class=\"colab-df-container\">\n",
              "      <div>\n",
              "<style scoped>\n",
              "    .dataframe tbody tr th:only-of-type {\n",
              "        vertical-align: middle;\n",
              "    }\n",
              "\n",
              "    .dataframe tbody tr th {\n",
              "        vertical-align: top;\n",
              "    }\n",
              "\n",
              "    .dataframe thead th {\n",
              "        text-align: right;\n",
              "    }\n",
              "</style>\n",
              "<table border=\"1\" class=\"dataframe\">\n",
              "  <thead>\n",
              "    <tr style=\"text-align: right;\">\n",
              "      <th></th>\n",
              "      <th>userId</th>\n",
              "      <th>duration</th>\n",
              "      <th>gameId</th>\n",
              "      <th>sessionId</th>\n",
              "    </tr>\n",
              "  </thead>\n",
              "  <tbody>\n",
              "    <tr>\n",
              "      <th>0</th>\n",
              "      <td>1</td>\n",
              "      <td>273.0</td>\n",
              "      <td>1</td>\n",
              "      <td>11</td>\n",
              "    </tr>\n",
              "    <tr>\n",
              "      <th>1</th>\n",
              "      <td>1</td>\n",
              "      <td>87.0</td>\n",
              "      <td>2</td>\n",
              "      <td>21</td>\n",
              "    </tr>\n",
              "    <tr>\n",
              "      <th>2</th>\n",
              "      <td>1</td>\n",
              "      <td>14.9</td>\n",
              "      <td>3</td>\n",
              "      <td>31</td>\n",
              "    </tr>\n",
              "    <tr>\n",
              "      <th>3</th>\n",
              "      <td>1</td>\n",
              "      <td>12.1</td>\n",
              "      <td>4</td>\n",
              "      <td>41</td>\n",
              "    </tr>\n",
              "    <tr>\n",
              "      <th>4</th>\n",
              "      <td>1</td>\n",
              "      <td>8.9</td>\n",
              "      <td>5</td>\n",
              "      <td>51</td>\n",
              "    </tr>\n",
              "    <tr>\n",
              "      <th>...</th>\n",
              "      <td>...</td>\n",
              "      <td>...</td>\n",
              "      <td>...</td>\n",
              "      <td>...</td>\n",
              "    </tr>\n",
              "    <tr>\n",
              "      <th>53516</th>\n",
              "      <td>9555</td>\n",
              "      <td>2.4</td>\n",
              "      <td>1152</td>\n",
              "      <td>11529555</td>\n",
              "    </tr>\n",
              "    <tr>\n",
              "      <th>53517</th>\n",
              "      <td>9555</td>\n",
              "      <td>2.2</td>\n",
              "      <td>1008</td>\n",
              "      <td>10089555</td>\n",
              "    </tr>\n",
              "    <tr>\n",
              "      <th>53518</th>\n",
              "      <td>9555</td>\n",
              "      <td>1.5</td>\n",
              "      <td>2374</td>\n",
              "      <td>23749555</td>\n",
              "    </tr>\n",
              "    <tr>\n",
              "      <th>53519</th>\n",
              "      <td>9555</td>\n",
              "      <td>1.5</td>\n",
              "      <td>1003</td>\n",
              "      <td>10039555</td>\n",
              "    </tr>\n",
              "    <tr>\n",
              "      <th>53520</th>\n",
              "      <td>9555</td>\n",
              "      <td>1.4</td>\n",
              "      <td>196</td>\n",
              "      <td>1969555</td>\n",
              "    </tr>\n",
              "  </tbody>\n",
              "</table>\n",
              "<p>53521 rows × 4 columns</p>\n",
              "</div>\n",
              "      <button class=\"colab-df-convert\" onclick=\"convertToInteractive('df-9c744c40-a80c-4a8a-a584-e8691da0ef15')\"\n",
              "              title=\"Convert this dataframe to an interactive table.\"\n",
              "              style=\"display:none;\">\n",
              "        \n",
              "  <svg xmlns=\"http://www.w3.org/2000/svg\" height=\"24px\"viewBox=\"0 0 24 24\"\n",
              "       width=\"24px\">\n",
              "    <path d=\"M0 0h24v24H0V0z\" fill=\"none\"/>\n",
              "    <path d=\"M18.56 5.44l.94 2.06.94-2.06 2.06-.94-2.06-.94-.94-2.06-.94 2.06-2.06.94zm-11 1L8.5 8.5l.94-2.06 2.06-.94-2.06-.94L8.5 2.5l-.94 2.06-2.06.94zm10 10l.94 2.06.94-2.06 2.06-.94-2.06-.94-.94-2.06-.94 2.06-2.06.94z\"/><path d=\"M17.41 7.96l-1.37-1.37c-.4-.4-.92-.59-1.43-.59-.52 0-1.04.2-1.43.59L10.3 9.45l-7.72 7.72c-.78.78-.78 2.05 0 2.83L4 21.41c.39.39.9.59 1.41.59.51 0 1.02-.2 1.41-.59l7.78-7.78 2.81-2.81c.8-.78.8-2.07 0-2.86zM5.41 20L4 18.59l7.72-7.72 1.47 1.35L5.41 20z\"/>\n",
              "  </svg>\n",
              "      </button>\n",
              "      \n",
              "  <style>\n",
              "    .colab-df-container {\n",
              "      display:flex;\n",
              "      flex-wrap:wrap;\n",
              "      gap: 12px;\n",
              "    }\n",
              "\n",
              "    .colab-df-convert {\n",
              "      background-color: #E8F0FE;\n",
              "      border: none;\n",
              "      border-radius: 50%;\n",
              "      cursor: pointer;\n",
              "      display: none;\n",
              "      fill: #1967D2;\n",
              "      height: 32px;\n",
              "      padding: 0 0 0 0;\n",
              "      width: 32px;\n",
              "    }\n",
              "\n",
              "    .colab-df-convert:hover {\n",
              "      background-color: #E2EBFA;\n",
              "      box-shadow: 0px 1px 2px rgba(60, 64, 67, 0.3), 0px 1px 3px 1px rgba(60, 64, 67, 0.15);\n",
              "      fill: #174EA6;\n",
              "    }\n",
              "\n",
              "    [theme=dark] .colab-df-convert {\n",
              "      background-color: #3B4455;\n",
              "      fill: #D2E3FC;\n",
              "    }\n",
              "\n",
              "    [theme=dark] .colab-df-convert:hover {\n",
              "      background-color: #434B5C;\n",
              "      box-shadow: 0px 1px 3px 1px rgba(0, 0, 0, 0.15);\n",
              "      filter: drop-shadow(0px 1px 2px rgba(0, 0, 0, 0.3));\n",
              "      fill: #FFFFFF;\n",
              "    }\n",
              "  </style>\n",
              "\n",
              "      <script>\n",
              "        const buttonEl =\n",
              "          document.querySelector('#df-9c744c40-a80c-4a8a-a584-e8691da0ef15 button.colab-df-convert');\n",
              "        buttonEl.style.display =\n",
              "          google.colab.kernel.accessAllowed ? 'block' : 'none';\n",
              "\n",
              "        async function convertToInteractive(key) {\n",
              "          const element = document.querySelector('#df-9c744c40-a80c-4a8a-a584-e8691da0ef15');\n",
              "          const dataTable =\n",
              "            await google.colab.kernel.invokeFunction('convertToInteractive',\n",
              "                                                     [key], {});\n",
              "          if (!dataTable) return;\n",
              "\n",
              "          const docLinkHtml = 'Like what you see? Visit the ' +\n",
              "            '<a target=\"_blank\" href=https://colab.research.google.com/notebooks/data_table.ipynb>data table notebook</a>'\n",
              "            + ' to learn more about interactive tables.';\n",
              "          element.innerHTML = '';\n",
              "          dataTable['output_type'] = 'display_data';\n",
              "          await google.colab.output.renderOutput(dataTable, element);\n",
              "          const docLink = document.createElement('div');\n",
              "          docLink.innerHTML = docLinkHtml;\n",
              "          element.appendChild(docLink);\n",
              "        }\n",
              "      </script>\n",
              "    </div>\n",
              "  </div>\n",
              "  "
            ]
          },
          "metadata": {},
          "execution_count": 32
        }
      ]
    },
    {
      "cell_type": "code",
      "source": [
        "#создадим так же вспомогательный список по которому будем циклом проводить суммирование\n",
        "sessionId_sorted = df_2000.sessionId.unique() \n",
        "sessionId_sorted, len(sessionId_sorted)"
      ],
      "metadata": {
        "colab": {
          "base_uri": "https://localhost:8080/"
        },
        "id": "Z9yZwFZOYOZr",
        "outputId": "4770c896-9fd3-4c23-d33e-0b5d7d5ec688"
      },
      "execution_count": null,
      "outputs": [
        {
          "output_type": "execute_result",
          "data": {
            "text/plain": [
              "(array(['11', '21', '31', ..., '23749555', '10039555', '1969555'],\n",
              "       dtype=object), 53401)"
            ]
          },
          "metadata": {},
          "execution_count": 33
        }
      ]
    },
    {
      "cell_type": "code",
      "source": [
        "#суммируем все повторы\n",
        "new_data = pd.DataFrame()\n",
        "for i in range(len(sessionId_sorted)):\n",
        "  if len(df_2000[df_2000.sessionId==sessionId_sorted[i]]) != 1:\n",
        "    new_data = new_data.append({'userId': df_2000[df_2000.sessionId==sessionId_sorted[i]].userId.iloc[0], \n",
        "                             'duration': df_2000[df_2000.sessionId==sessionId_sorted[i]].duration.sum(), \n",
        "                             'gameId': df_2000[df_2000.sessionId==sessionId_sorted[i]].gameId.iloc[0], \n",
        "                             'sessionId': df_2000[df_2000.sessionId==sessionId_sorted[i]].sessionId.iloc[0]}, ignore_index=True)\n",
        "  else:\n",
        "    new_data = new_data.append(df_2000[df_2000.sessionId==sessionId_sorted[i]], ignore_index=True)"
      ],
      "metadata": {
        "id": "MfOSLH5cYdak"
      },
      "execution_count": null,
      "outputs": []
    },
    {
      "cell_type": "code",
      "source": [
        "#нормализуем данные в столбце duration для лучшей кластеризации\n",
        "data = new_data.copy()\n",
        "data = data.drop(columns=['sessionId'])\n",
        "arr = np.array([data.duration])\n",
        "duration_n = normalize(arr) \n",
        "\n",
        "duration_n_list = []\n",
        "for i in duration_n[0]:\n",
        "  duration_n_list.append(i)\n",
        "\n",
        "data['dur_norm'] = duration_n_list\n",
        "data.head()"
      ],
      "metadata": {
        "colab": {
          "base_uri": "https://localhost:8080/",
          "height": 221
        },
        "id": "O65sxdwGtnH7",
        "outputId": "0ccf6efc-723c-4dea-f5c2-7cf0d756765e"
      },
      "execution_count": null,
      "outputs": [
        {
          "output_type": "execute_result",
          "data": {
            "text/plain": [
              "   userId  duration  gameId  dur_norm\n",
              "0       1     273.0       1  0.006890\n",
              "1       1      87.0       2  0.002196\n",
              "2       1      14.9       3  0.000376\n",
              "3       1      12.1       4  0.000305\n",
              "4       1       8.9       5  0.000225"
            ],
            "text/html": [
              "\n",
              "  <div id=\"df-67f78595-3216-438a-a109-71bb337338d2\">\n",
              "    <div class=\"colab-df-container\">\n",
              "      <div>\n",
              "<style scoped>\n",
              "    .dataframe tbody tr th:only-of-type {\n",
              "        vertical-align: middle;\n",
              "    }\n",
              "\n",
              "    .dataframe tbody tr th {\n",
              "        vertical-align: top;\n",
              "    }\n",
              "\n",
              "    .dataframe thead th {\n",
              "        text-align: right;\n",
              "    }\n",
              "</style>\n",
              "<table border=\"1\" class=\"dataframe\">\n",
              "  <thead>\n",
              "    <tr style=\"text-align: right;\">\n",
              "      <th></th>\n",
              "      <th>userId</th>\n",
              "      <th>duration</th>\n",
              "      <th>gameId</th>\n",
              "      <th>dur_norm</th>\n",
              "    </tr>\n",
              "  </thead>\n",
              "  <tbody>\n",
              "    <tr>\n",
              "      <th>0</th>\n",
              "      <td>1</td>\n",
              "      <td>273.0</td>\n",
              "      <td>1</td>\n",
              "      <td>0.006890</td>\n",
              "    </tr>\n",
              "    <tr>\n",
              "      <th>1</th>\n",
              "      <td>1</td>\n",
              "      <td>87.0</td>\n",
              "      <td>2</td>\n",
              "      <td>0.002196</td>\n",
              "    </tr>\n",
              "    <tr>\n",
              "      <th>2</th>\n",
              "      <td>1</td>\n",
              "      <td>14.9</td>\n",
              "      <td>3</td>\n",
              "      <td>0.000376</td>\n",
              "    </tr>\n",
              "    <tr>\n",
              "      <th>3</th>\n",
              "      <td>1</td>\n",
              "      <td>12.1</td>\n",
              "      <td>4</td>\n",
              "      <td>0.000305</td>\n",
              "    </tr>\n",
              "    <tr>\n",
              "      <th>4</th>\n",
              "      <td>1</td>\n",
              "      <td>8.9</td>\n",
              "      <td>5</td>\n",
              "      <td>0.000225</td>\n",
              "    </tr>\n",
              "  </tbody>\n",
              "</table>\n",
              "</div>\n",
              "      <button class=\"colab-df-convert\" onclick=\"convertToInteractive('df-67f78595-3216-438a-a109-71bb337338d2')\"\n",
              "              title=\"Convert this dataframe to an interactive table.\"\n",
              "              style=\"display:none;\">\n",
              "        \n",
              "  <svg xmlns=\"http://www.w3.org/2000/svg\" height=\"24px\"viewBox=\"0 0 24 24\"\n",
              "       width=\"24px\">\n",
              "    <path d=\"M0 0h24v24H0V0z\" fill=\"none\"/>\n",
              "    <path d=\"M18.56 5.44l.94 2.06.94-2.06 2.06-.94-2.06-.94-.94-2.06-.94 2.06-2.06.94zm-11 1L8.5 8.5l.94-2.06 2.06-.94-2.06-.94L8.5 2.5l-.94 2.06-2.06.94zm10 10l.94 2.06.94-2.06 2.06-.94-2.06-.94-.94-2.06-.94 2.06-2.06.94z\"/><path d=\"M17.41 7.96l-1.37-1.37c-.4-.4-.92-.59-1.43-.59-.52 0-1.04.2-1.43.59L10.3 9.45l-7.72 7.72c-.78.78-.78 2.05 0 2.83L4 21.41c.39.39.9.59 1.41.59.51 0 1.02-.2 1.41-.59l7.78-7.78 2.81-2.81c.8-.78.8-2.07 0-2.86zM5.41 20L4 18.59l7.72-7.72 1.47 1.35L5.41 20z\"/>\n",
              "  </svg>\n",
              "      </button>\n",
              "      \n",
              "  <style>\n",
              "    .colab-df-container {\n",
              "      display:flex;\n",
              "      flex-wrap:wrap;\n",
              "      gap: 12px;\n",
              "    }\n",
              "\n",
              "    .colab-df-convert {\n",
              "      background-color: #E8F0FE;\n",
              "      border: none;\n",
              "      border-radius: 50%;\n",
              "      cursor: pointer;\n",
              "      display: none;\n",
              "      fill: #1967D2;\n",
              "      height: 32px;\n",
              "      padding: 0 0 0 0;\n",
              "      width: 32px;\n",
              "    }\n",
              "\n",
              "    .colab-df-convert:hover {\n",
              "      background-color: #E2EBFA;\n",
              "      box-shadow: 0px 1px 2px rgba(60, 64, 67, 0.3), 0px 1px 3px 1px rgba(60, 64, 67, 0.15);\n",
              "      fill: #174EA6;\n",
              "    }\n",
              "\n",
              "    [theme=dark] .colab-df-convert {\n",
              "      background-color: #3B4455;\n",
              "      fill: #D2E3FC;\n",
              "    }\n",
              "\n",
              "    [theme=dark] .colab-df-convert:hover {\n",
              "      background-color: #434B5C;\n",
              "      box-shadow: 0px 1px 3px 1px rgba(0, 0, 0, 0.15);\n",
              "      filter: drop-shadow(0px 1px 2px rgba(0, 0, 0, 0.3));\n",
              "      fill: #FFFFFF;\n",
              "    }\n",
              "  </style>\n",
              "\n",
              "      <script>\n",
              "        const buttonEl =\n",
              "          document.querySelector('#df-67f78595-3216-438a-a109-71bb337338d2 button.colab-df-convert');\n",
              "        buttonEl.style.display =\n",
              "          google.colab.kernel.accessAllowed ? 'block' : 'none';\n",
              "\n",
              "        async function convertToInteractive(key) {\n",
              "          const element = document.querySelector('#df-67f78595-3216-438a-a109-71bb337338d2');\n",
              "          const dataTable =\n",
              "            await google.colab.kernel.invokeFunction('convertToInteractive',\n",
              "                                                     [key], {});\n",
              "          if (!dataTable) return;\n",
              "\n",
              "          const docLinkHtml = 'Like what you see? Visit the ' +\n",
              "            '<a target=\"_blank\" href=https://colab.research.google.com/notebooks/data_table.ipynb>data table notebook</a>'\n",
              "            + ' to learn more about interactive tables.';\n",
              "          element.innerHTML = '';\n",
              "          dataTable['output_type'] = 'display_data';\n",
              "          await google.colab.output.renderOutput(dataTable, element);\n",
              "          const docLink = document.createElement('div');\n",
              "          docLink.innerHTML = docLinkHtml;\n",
              "          element.appendChild(docLink);\n",
              "        }\n",
              "      </script>\n",
              "    </div>\n",
              "  </div>\n",
              "  "
            ]
          },
          "metadata": {},
          "execution_count": 35
        }
      ]
    },
    {
      "cell_type": "code",
      "source": [
        "#удалим ненужные для кластеризации столбцы\n",
        "#сформируем датасет userId, gameId, dur_norm\n",
        "data = data.drop(columns=['duration'])\n",
        "data"
      ],
      "metadata": {
        "colab": {
          "base_uri": "https://localhost:8080/",
          "height": 433
        },
        "id": "5We1bGTHXEuT",
        "outputId": "b7b489c7-5ecd-48f1-c7e4-a9a420e76d97"
      },
      "execution_count": null,
      "outputs": [
        {
          "output_type": "execute_result",
          "data": {
            "text/plain": [
              "       userId  gameId  dur_norm\n",
              "0           1       1  0.006890\n",
              "1           1       2  0.002196\n",
              "2           1       3  0.000376\n",
              "3           1       4  0.000305\n",
              "4           1       5  0.000225\n",
              "...       ...     ...       ...\n",
              "53396    9555    1152  0.000061\n",
              "53397    9555    1008  0.000056\n",
              "53398    9555    2374  0.000038\n",
              "53399    9555    1003  0.000038\n",
              "53400    9555     196  0.000035\n",
              "\n",
              "[53401 rows x 3 columns]"
            ],
            "text/html": [
              "\n",
              "  <div id=\"df-afae2c4b-4f95-4b8e-9527-86be40efb8e4\">\n",
              "    <div class=\"colab-df-container\">\n",
              "      <div>\n",
              "<style scoped>\n",
              "    .dataframe tbody tr th:only-of-type {\n",
              "        vertical-align: middle;\n",
              "    }\n",
              "\n",
              "    .dataframe tbody tr th {\n",
              "        vertical-align: top;\n",
              "    }\n",
              "\n",
              "    .dataframe thead th {\n",
              "        text-align: right;\n",
              "    }\n",
              "</style>\n",
              "<table border=\"1\" class=\"dataframe\">\n",
              "  <thead>\n",
              "    <tr style=\"text-align: right;\">\n",
              "      <th></th>\n",
              "      <th>userId</th>\n",
              "      <th>gameId</th>\n",
              "      <th>dur_norm</th>\n",
              "    </tr>\n",
              "  </thead>\n",
              "  <tbody>\n",
              "    <tr>\n",
              "      <th>0</th>\n",
              "      <td>1</td>\n",
              "      <td>1</td>\n",
              "      <td>0.006890</td>\n",
              "    </tr>\n",
              "    <tr>\n",
              "      <th>1</th>\n",
              "      <td>1</td>\n",
              "      <td>2</td>\n",
              "      <td>0.002196</td>\n",
              "    </tr>\n",
              "    <tr>\n",
              "      <th>2</th>\n",
              "      <td>1</td>\n",
              "      <td>3</td>\n",
              "      <td>0.000376</td>\n",
              "    </tr>\n",
              "    <tr>\n",
              "      <th>3</th>\n",
              "      <td>1</td>\n",
              "      <td>4</td>\n",
              "      <td>0.000305</td>\n",
              "    </tr>\n",
              "    <tr>\n",
              "      <th>4</th>\n",
              "      <td>1</td>\n",
              "      <td>5</td>\n",
              "      <td>0.000225</td>\n",
              "    </tr>\n",
              "    <tr>\n",
              "      <th>...</th>\n",
              "      <td>...</td>\n",
              "      <td>...</td>\n",
              "      <td>...</td>\n",
              "    </tr>\n",
              "    <tr>\n",
              "      <th>53396</th>\n",
              "      <td>9555</td>\n",
              "      <td>1152</td>\n",
              "      <td>0.000061</td>\n",
              "    </tr>\n",
              "    <tr>\n",
              "      <th>53397</th>\n",
              "      <td>9555</td>\n",
              "      <td>1008</td>\n",
              "      <td>0.000056</td>\n",
              "    </tr>\n",
              "    <tr>\n",
              "      <th>53398</th>\n",
              "      <td>9555</td>\n",
              "      <td>2374</td>\n",
              "      <td>0.000038</td>\n",
              "    </tr>\n",
              "    <tr>\n",
              "      <th>53399</th>\n",
              "      <td>9555</td>\n",
              "      <td>1003</td>\n",
              "      <td>0.000038</td>\n",
              "    </tr>\n",
              "    <tr>\n",
              "      <th>53400</th>\n",
              "      <td>9555</td>\n",
              "      <td>196</td>\n",
              "      <td>0.000035</td>\n",
              "    </tr>\n",
              "  </tbody>\n",
              "</table>\n",
              "<p>53401 rows × 3 columns</p>\n",
              "</div>\n",
              "      <button class=\"colab-df-convert\" onclick=\"convertToInteractive('df-afae2c4b-4f95-4b8e-9527-86be40efb8e4')\"\n",
              "              title=\"Convert this dataframe to an interactive table.\"\n",
              "              style=\"display:none;\">\n",
              "        \n",
              "  <svg xmlns=\"http://www.w3.org/2000/svg\" height=\"24px\"viewBox=\"0 0 24 24\"\n",
              "       width=\"24px\">\n",
              "    <path d=\"M0 0h24v24H0V0z\" fill=\"none\"/>\n",
              "    <path d=\"M18.56 5.44l.94 2.06.94-2.06 2.06-.94-2.06-.94-.94-2.06-.94 2.06-2.06.94zm-11 1L8.5 8.5l.94-2.06 2.06-.94-2.06-.94L8.5 2.5l-.94 2.06-2.06.94zm10 10l.94 2.06.94-2.06 2.06-.94-2.06-.94-.94-2.06-.94 2.06-2.06.94z\"/><path d=\"M17.41 7.96l-1.37-1.37c-.4-.4-.92-.59-1.43-.59-.52 0-1.04.2-1.43.59L10.3 9.45l-7.72 7.72c-.78.78-.78 2.05 0 2.83L4 21.41c.39.39.9.59 1.41.59.51 0 1.02-.2 1.41-.59l7.78-7.78 2.81-2.81c.8-.78.8-2.07 0-2.86zM5.41 20L4 18.59l7.72-7.72 1.47 1.35L5.41 20z\"/>\n",
              "  </svg>\n",
              "      </button>\n",
              "      \n",
              "  <style>\n",
              "    .colab-df-container {\n",
              "      display:flex;\n",
              "      flex-wrap:wrap;\n",
              "      gap: 12px;\n",
              "    }\n",
              "\n",
              "    .colab-df-convert {\n",
              "      background-color: #E8F0FE;\n",
              "      border: none;\n",
              "      border-radius: 50%;\n",
              "      cursor: pointer;\n",
              "      display: none;\n",
              "      fill: #1967D2;\n",
              "      height: 32px;\n",
              "      padding: 0 0 0 0;\n",
              "      width: 32px;\n",
              "    }\n",
              "\n",
              "    .colab-df-convert:hover {\n",
              "      background-color: #E2EBFA;\n",
              "      box-shadow: 0px 1px 2px rgba(60, 64, 67, 0.3), 0px 1px 3px 1px rgba(60, 64, 67, 0.15);\n",
              "      fill: #174EA6;\n",
              "    }\n",
              "\n",
              "    [theme=dark] .colab-df-convert {\n",
              "      background-color: #3B4455;\n",
              "      fill: #D2E3FC;\n",
              "    }\n",
              "\n",
              "    [theme=dark] .colab-df-convert:hover {\n",
              "      background-color: #434B5C;\n",
              "      box-shadow: 0px 1px 3px 1px rgba(0, 0, 0, 0.15);\n",
              "      filter: drop-shadow(0px 1px 2px rgba(0, 0, 0, 0.3));\n",
              "      fill: #FFFFFF;\n",
              "    }\n",
              "  </style>\n",
              "\n",
              "      <script>\n",
              "        const buttonEl =\n",
              "          document.querySelector('#df-afae2c4b-4f95-4b8e-9527-86be40efb8e4 button.colab-df-convert');\n",
              "        buttonEl.style.display =\n",
              "          google.colab.kernel.accessAllowed ? 'block' : 'none';\n",
              "\n",
              "        async function convertToInteractive(key) {\n",
              "          const element = document.querySelector('#df-afae2c4b-4f95-4b8e-9527-86be40efb8e4');\n",
              "          const dataTable =\n",
              "            await google.colab.kernel.invokeFunction('convertToInteractive',\n",
              "                                                     [key], {});\n",
              "          if (!dataTable) return;\n",
              "\n",
              "          const docLinkHtml = 'Like what you see? Visit the ' +\n",
              "            '<a target=\"_blank\" href=https://colab.research.google.com/notebooks/data_table.ipynb>data table notebook</a>'\n",
              "            + ' to learn more about interactive tables.';\n",
              "          element.innerHTML = '';\n",
              "          dataTable['output_type'] = 'display_data';\n",
              "          await google.colab.output.renderOutput(dataTable, element);\n",
              "          const docLink = document.createElement('div');\n",
              "          docLink.innerHTML = docLinkHtml;\n",
              "          element.appendChild(docLink);\n",
              "        }\n",
              "      </script>\n",
              "    </div>\n",
              "  </div>\n",
              "  "
            ]
          },
          "metadata": {},
          "execution_count": 36
        }
      ]
    },
    {
      "cell_type": "code",
      "source": [
        "#список для хранения значений функции потерь\n",
        "loss = []\n",
        "\n",
        "#используем цикл для обучения моделей с разным количеством кластеров и расчета значения функции потерь\n",
        "for i in range(1, 101):\n",
        "    kmeans = KMeans(n_clusters=i, init='k-means++', max_iter=300, n_init=10, random_state=0)\n",
        "    kmeans.fit(data)\n",
        "    loss.append(kmeans.inertia_)\n",
        "\n",
        "#построим график функции потерь\n",
        "plt.plot(range(1, 101), loss)\n",
        "plt.title('Метод локтя')\n",
        "plt.xlabel('Количество кластеров')\n",
        "plt.ylabel('Функция потерь')\n",
        "plt.show()\n",
        "\n",
        "#используем библиотеку kneed для нахождения оптимального количества кластеров\n",
        "kl = KneeLocator(range(1, 101), loss, curve='convex', direction='decreasing')\n",
        "print(f'Оптимальное количество кластеров: {kl.elbow}')"
      ],
      "metadata": {
        "colab": {
          "base_uri": "https://localhost:8080/",
          "height": 333
        },
        "id": "rRI540fUZS1z",
        "outputId": "927e329d-14db-4e83-9261-ab36d15670ab"
      },
      "execution_count": null,
      "outputs": [
        {
          "output_type": "display_data",
          "data": {
            "text/plain": [
              "<Figure size 432x288 with 1 Axes>"
            ],
            "image/png": "[encoded data removed]"
          },
          "metadata": {
            "needs_background": "light"
          }
        },
        {
          "output_type": "stream",
          "name": "stdout",
          "text": [
            "Оптимальное количество кластеров: 6\n"
          ]
        }
      ]
    },
    {
      "cell_type": "markdown",
      "source": [
        "Начнем кластеризацию"
      ],
      "metadata": {
        "id": "BBBViUL6VCj1"
      }
    },
    {
      "cell_type": "code",
      "source": [
        "#стандартизируем данные\n",
        "x = np.nan_to_num(data)\n",
        "Clust_dataset=StandardScaler().fit_transform(x)\n",
        "\n",
        "clasterNum = 6\n",
        "k_means = KMeans(init=\"k-means++\", n_clusters=clasterNum, n_init=12)\n",
        "k_means.fit(Clust_dataset)\n",
        "labels=k_means.labels_"
      ],
      "metadata": {
        "id": "vyt_sH4XWJc4"
      },
      "execution_count": null,
      "outputs": []
    },
    {
      "cell_type": "code",
      "source": [
        "#сравним длину labels и нашего датасета\n",
        "len(labels), len(data)"
      ],
      "metadata": {
        "colab": {
          "base_uri": "https://localhost:8080/"
        },
        "id": "gwr6ZVB9Xa0v",
        "outputId": "138eacf5-3426-4215-a69c-8f14d83fde59"
      },
      "execution_count": null,
      "outputs": [
        {
          "output_type": "execute_result",
          "data": {
            "text/plain": [
              "(53401, 53401)"
            ]
          },
          "metadata": {},
          "execution_count": 38
        }
      ]
    },
    {
      "cell_type": "code",
      "source": [
        "#проверим, кол-во кластеров\n",
        "unique_numbers = list(set(labels))\n",
        "print(unique_numbers)"
      ],
      "metadata": {
        "colab": {
          "base_uri": "https://localhost:8080/"
        },
        "id": "ELB22Y2_Xmk1",
        "outputId": "4c5dc8e6-dfda-4d94-b27a-80f12e38c1be"
      },
      "execution_count": null,
      "outputs": [
        {
          "output_type": "stream",
          "name": "stdout",
          "text": [
            "[0, 1, 2, 3, 4, 5]\n"
          ]
        }
      ]
    },
    {
      "cell_type": "code",
      "source": [
        "#сделаем датафрейм кластеров, чтобы потом соединить его с основным датафреймом\n",
        "df_labels = pd.DataFrame(labels, columns=['cluster'])\n",
        "df_labels.isna().sum()"
      ],
      "metadata": {
        "colab": {
          "base_uri": "https://localhost:8080/"
        },
        "id": "pX0L_RhqXqrB",
        "outputId": "7ca90a2d-9362-48d6-c88d-ca1f225befb4"
      },
      "execution_count": null,
      "outputs": [
        {
          "output_type": "execute_result",
          "data": {
            "text/plain": [
              "cluster    0\n",
              "dtype: int64"
            ]
          },
          "metadata": {},
          "execution_count": 40
        }
      ]
    },
    {
      "cell_type": "code",
      "source": [
        "#сделаем индексы для датафрейма лэйблов таким же, как у исходного датафрейма для более простого соединения\n",
        "indexes = data.index\n",
        "indexes\n",
        "df_labels.index = indexes\n",
        "df_labels"
      ],
      "metadata": {
        "colab": {
          "base_uri": "https://localhost:8080/",
          "height": 433
        },
        "id": "bIlBDlJAXt_b",
        "outputId": "17168006-2da8-481d-9eeb-499efa42592b"
      },
      "execution_count": null,
      "outputs": [
        {
          "output_type": "execute_result",
          "data": {
            "text/plain": [
              "       cluster\n",
              "0            4\n",
              "1            4\n",
              "2            4\n",
              "3            4\n",
              "4            4\n",
              "...        ...\n",
              "53396        2\n",
              "53397        2\n",
              "53398        1\n",
              "53399        2\n",
              "53400        2\n",
              "\n",
              "[53401 rows x 1 columns]"
            ],
            "text/html": [
              "\n",
              "  <div id=\"df-35cd1a60-b123-4db6-b025-4d41ad5bfec5\">\n",
              "    <div class=\"colab-df-container\">\n",
              "      <div>\n",
              "<style scoped>\n",
              "    .dataframe tbody tr th:only-of-type {\n",
              "        vertical-align: middle;\n",
              "    }\n",
              "\n",
              "    .dataframe tbody tr th {\n",
              "        vertical-align: top;\n",
              "    }\n",
              "\n",
              "    .dataframe thead th {\n",
              "        text-align: right;\n",
              "    }\n",
              "</style>\n",
              "<table border=\"1\" class=\"dataframe\">\n",
              "  <thead>\n",
              "    <tr style=\"text-align: right;\">\n",
              "      <th></th>\n",
              "      <th>cluster</th>\n",
              "    </tr>\n",
              "  </thead>\n",
              "  <tbody>\n",
              "    <tr>\n",
              "      <th>0</th>\n",
              "      <td>4</td>\n",
              "    </tr>\n",
              "    <tr>\n",
              "      <th>1</th>\n",
              "      <td>4</td>\n",
              "    </tr>\n",
              "    <tr>\n",
              "      <th>2</th>\n",
              "      <td>4</td>\n",
              "    </tr>\n",
              "    <tr>\n",
              "      <th>3</th>\n",
              "      <td>4</td>\n",
              "    </tr>\n",
              "    <tr>\n",
              "      <th>4</th>\n",
              "      <td>4</td>\n",
              "    </tr>\n",
              "    <tr>\n",
              "      <th>...</th>\n",
              "      <td>...</td>\n",
              "    </tr>\n",
              "    <tr>\n",
              "      <th>53396</th>\n",
              "      <td>2</td>\n",
              "    </tr>\n",
              "    <tr>\n",
              "      <th>53397</th>\n",
              "      <td>2</td>\n",
              "    </tr>\n",
              "    <tr>\n",
              "      <th>53398</th>\n",
              "      <td>1</td>\n",
              "    </tr>\n",
              "    <tr>\n",
              "      <th>53399</th>\n",
              "      <td>2</td>\n",
              "    </tr>\n",
              "    <tr>\n",
              "      <th>53400</th>\n",
              "      <td>2</td>\n",
              "    </tr>\n",
              "  </tbody>\n",
              "</table>\n",
              "<p>53401 rows × 1 columns</p>\n",
              "</div>\n",
              "      <button class=\"colab-df-convert\" onclick=\"convertToInteractive('df-35cd1a60-b123-4db6-b025-4d41ad5bfec5')\"\n",
              "              title=\"Convert this dataframe to an interactive table.\"\n",
              "              style=\"display:none;\">\n",
              "        \n",
              "  <svg xmlns=\"http://www.w3.org/2000/svg\" height=\"24px\"viewBox=\"0 0 24 24\"\n",
              "       width=\"24px\">\n",
              "    <path d=\"M0 0h24v24H0V0z\" fill=\"none\"/>\n",
              "    <path d=\"M18.56 5.44l.94 2.06.94-2.06 2.06-.94-2.06-.94-.94-2.06-.94 2.06-2.06.94zm-11 1L8.5 8.5l.94-2.06 2.06-.94-2.06-.94L8.5 2.5l-.94 2.06-2.06.94zm10 10l.94 2.06.94-2.06 2.06-.94-2.06-.94-.94-2.06-.94 2.06-2.06.94z\"/><path d=\"M17.41 7.96l-1.37-1.37c-.4-.4-.92-.59-1.43-.59-.52 0-1.04.2-1.43.59L10.3 9.45l-7.72 7.72c-.78.78-.78 2.05 0 2.83L4 21.41c.39.39.9.59 1.41.59.51 0 1.02-.2 1.41-.59l7.78-7.78 2.81-2.81c.8-.78.8-2.07 0-2.86zM5.41 20L4 18.59l7.72-7.72 1.47 1.35L5.41 20z\"/>\n",
              "  </svg>\n",
              "      </button>\n",
              "      \n",
              "  <style>\n",
              "    .colab-df-container {\n",
              "      display:flex;\n",
              "      flex-wrap:wrap;\n",
              "      gap: 12px;\n",
              "    }\n",
              "\n",
              "    .colab-df-convert {\n",
              "      background-color: #E8F0FE;\n",
              "      border: none;\n",
              "      border-radius: 50%;\n",
              "      cursor: pointer;\n",
              "      display: none;\n",
              "      fill: #1967D2;\n",
              "      height: 32px;\n",
              "      padding: 0 0 0 0;\n",
              "      width: 32px;\n",
              "    }\n",
              "\n",
              "    .colab-df-convert:hover {\n",
              "      background-color: #E2EBFA;\n",
              "      box-shadow: 0px 1px 2px rgba(60, 64, 67, 0.3), 0px 1px 3px 1px rgba(60, 64, 67, 0.15);\n",
              "      fill: #174EA6;\n",
              "    }\n",
              "\n",
              "    [theme=dark] .colab-df-convert {\n",
              "      background-color: #3B4455;\n",
              "      fill: #D2E3FC;\n",
              "    }\n",
              "\n",
              "    [theme=dark] .colab-df-convert:hover {\n",
              "      background-color: #434B5C;\n",
              "      box-shadow: 0px 1px 3px 1px rgba(0, 0, 0, 0.15);\n",
              "      filter: drop-shadow(0px 1px 2px rgba(0, 0, 0, 0.3));\n",
              "      fill: #FFFFFF;\n",
              "    }\n",
              "  </style>\n",
              "\n",
              "      <script>\n",
              "        const buttonEl =\n",
              "          document.querySelector('#df-35cd1a60-b123-4db6-b025-4d41ad5bfec5 button.colab-df-convert');\n",
              "        buttonEl.style.display =\n",
              "          google.colab.kernel.accessAllowed ? 'block' : 'none';\n",
              "\n",
              "        async function convertToInteractive(key) {\n",
              "          const element = document.querySelector('#df-35cd1a60-b123-4db6-b025-4d41ad5bfec5');\n",
              "          const dataTable =\n",
              "            await google.colab.kernel.invokeFunction('convertToInteractive',\n",
              "                                                     [key], {});\n",
              "          if (!dataTable) return;\n",
              "\n",
              "          const docLinkHtml = 'Like what you see? Visit the ' +\n",
              "            '<a target=\"_blank\" href=https://colab.research.google.com/notebooks/data_table.ipynb>data table notebook</a>'\n",
              "            + ' to learn more about interactive tables.';\n",
              "          element.innerHTML = '';\n",
              "          dataTable['output_type'] = 'display_data';\n",
              "          await google.colab.output.renderOutput(dataTable, element);\n",
              "          const docLink = document.createElement('div');\n",
              "          docLink.innerHTML = docLinkHtml;\n",
              "          element.appendChild(docLink);\n",
              "        }\n",
              "      </script>\n",
              "    </div>\n",
              "  </div>\n",
              "  "
            ]
          },
          "metadata": {},
          "execution_count": 41
        }
      ]
    },
    {
      "cell_type": "code",
      "source": [
        "#дополняем основной датафрейм кластерами\n",
        "data_clust = pd.merge(left=data, right=df_labels, left_index=True, right_index=True)\n",
        "data_clust"
      ],
      "metadata": {
        "colab": {
          "base_uri": "https://localhost:8080/",
          "height": 433
        },
        "id": "4yOWWOxAXwpY",
        "outputId": "059731aa-5106-4191-805f-09699c1f0c55"
      },
      "execution_count": null,
      "outputs": [
        {
          "output_type": "execute_result",
          "data": {
            "text/plain": [
              "       userId  gameId  dur_norm  cluster\n",
              "0           1       1  0.006890        4\n",
              "1           1       2  0.002196        4\n",
              "2           1       3  0.000376        4\n",
              "3           1       4  0.000305        4\n",
              "4           1       5  0.000225        4\n",
              "...       ...     ...       ...      ...\n",
              "53396    9555    1152  0.000061        2\n",
              "53397    9555    1008  0.000056        2\n",
              "53398    9555    2374  0.000038        1\n",
              "53399    9555    1003  0.000038        2\n",
              "53400    9555     196  0.000035        2\n",
              "\n",
              "[53401 rows x 4 columns]"
            ],
            "text/html": [
              "\n",
              "  <div id=\"df-784d38e3-82b8-4b73-8ea8-1e6046ba74a1\">\n",
              "    <div class=\"colab-df-container\">\n",
              "      <div>\n",
              "<style scoped>\n",
              "    .dataframe tbody tr th:only-of-type {\n",
              "        vertical-align: middle;\n",
              "    }\n",
              "\n",
              "    .dataframe tbody tr th {\n",
              "        vertical-align: top;\n",
              "    }\n",
              "\n",
              "    .dataframe thead th {\n",
              "        text-align: right;\n",
              "    }\n",
              "</style>\n",
              "<table border=\"1\" class=\"dataframe\">\n",
              "  <thead>\n",
              "    <tr style=\"text-align: right;\">\n",
              "      <th></th>\n",
              "      <th>userId</th>\n",
              "      <th>gameId</th>\n",
              "      <th>dur_norm</th>\n",
              "      <th>cluster</th>\n",
              "    </tr>\n",
              "  </thead>\n",
              "  <tbody>\n",
              "    <tr>\n",
              "      <th>0</th>\n",
              "      <td>1</td>\n",
              "      <td>1</td>\n",
              "      <td>0.006890</td>\n",
              "      <td>4</td>\n",
              "    </tr>\n",
              "    <tr>\n",
              "      <th>1</th>\n",
              "      <td>1</td>\n",
              "      <td>2</td>\n",
              "      <td>0.002196</td>\n",
              "      <td>4</td>\n",
              "    </tr>\n",
              "    <tr>\n",
              "      <th>2</th>\n",
              "      <td>1</td>\n",
              "      <td>3</td>\n",
              "      <td>0.000376</td>\n",
              "      <td>4</td>\n",
              "    </tr>\n",
              "    <tr>\n",
              "      <th>3</th>\n",
              "      <td>1</td>\n",
              "      <td>4</td>\n",
              "      <td>0.000305</td>\n",
              "      <td>4</td>\n",
              "    </tr>\n",
              "    <tr>\n",
              "      <th>4</th>\n",
              "      <td>1</td>\n",
              "      <td>5</td>\n",
              "      <td>0.000225</td>\n",
              "      <td>4</td>\n",
              "    </tr>\n",
              "    <tr>\n",
              "      <th>...</th>\n",
              "      <td>...</td>\n",
              "      <td>...</td>\n",
              "      <td>...</td>\n",
              "      <td>...</td>\n",
              "    </tr>\n",
              "    <tr>\n",
              "      <th>53396</th>\n",
              "      <td>9555</td>\n",
              "      <td>1152</td>\n",
              "      <td>0.000061</td>\n",
              "      <td>2</td>\n",
              "    </tr>\n",
              "    <tr>\n",
              "      <th>53397</th>\n",
              "      <td>9555</td>\n",
              "      <td>1008</td>\n",
              "      <td>0.000056</td>\n",
              "      <td>2</td>\n",
              "    </tr>\n",
              "    <tr>\n",
              "      <th>53398</th>\n",
              "      <td>9555</td>\n",
              "      <td>2374</td>\n",
              "      <td>0.000038</td>\n",
              "      <td>1</td>\n",
              "    </tr>\n",
              "    <tr>\n",
              "      <th>53399</th>\n",
              "      <td>9555</td>\n",
              "      <td>1003</td>\n",
              "      <td>0.000038</td>\n",
              "      <td>2</td>\n",
              "    </tr>\n",
              "    <tr>\n",
              "      <th>53400</th>\n",
              "      <td>9555</td>\n",
              "      <td>196</td>\n",
              "      <td>0.000035</td>\n",
              "      <td>2</td>\n",
              "    </tr>\n",
              "  </tbody>\n",
              "</table>\n",
              "<p>53401 rows × 4 columns</p>\n",
              "</div>\n",
              "      <button class=\"colab-df-convert\" onclick=\"convertToInteractive('df-784d38e3-82b8-4b73-8ea8-1e6046ba74a1')\"\n",
              "              title=\"Convert this dataframe to an interactive table.\"\n",
              "              style=\"display:none;\">\n",
              "        \n",
              "  <svg xmlns=\"http://www.w3.org/2000/svg\" height=\"24px\"viewBox=\"0 0 24 24\"\n",
              "       width=\"24px\">\n",
              "    <path d=\"M0 0h24v24H0V0z\" fill=\"none\"/>\n",
              "    <path d=\"M18.56 5.44l.94 2.06.94-2.06 2.06-.94-2.06-.94-.94-2.06-.94 2.06-2.06.94zm-11 1L8.5 8.5l.94-2.06 2.06-.94-2.06-.94L8.5 2.5l-.94 2.06-2.06.94zm10 10l.94 2.06.94-2.06 2.06-.94-2.06-.94-.94-2.06-.94 2.06-2.06.94z\"/><path d=\"M17.41 7.96l-1.37-1.37c-.4-.4-.92-.59-1.43-.59-.52 0-1.04.2-1.43.59L10.3 9.45l-7.72 7.72c-.78.78-.78 2.05 0 2.83L4 21.41c.39.39.9.59 1.41.59.51 0 1.02-.2 1.41-.59l7.78-7.78 2.81-2.81c.8-.78.8-2.07 0-2.86zM5.41 20L4 18.59l7.72-7.72 1.47 1.35L5.41 20z\"/>\n",
              "  </svg>\n",
              "      </button>\n",
              "      \n",
              "  <style>\n",
              "    .colab-df-container {\n",
              "      display:flex;\n",
              "      flex-wrap:wrap;\n",
              "      gap: 12px;\n",
              "    }\n",
              "\n",
              "    .colab-df-convert {\n",
              "      background-color: #E8F0FE;\n",
              "      border: none;\n",
              "      border-radius: 50%;\n",
              "      cursor: pointer;\n",
              "      display: none;\n",
              "      fill: #1967D2;\n",
              "      height: 32px;\n",
              "      padding: 0 0 0 0;\n",
              "      width: 32px;\n",
              "    }\n",
              "\n",
              "    .colab-df-convert:hover {\n",
              "      background-color: #E2EBFA;\n",
              "      box-shadow: 0px 1px 2px rgba(60, 64, 67, 0.3), 0px 1px 3px 1px rgba(60, 64, 67, 0.15);\n",
              "      fill: #174EA6;\n",
              "    }\n",
              "\n",
              "    [theme=dark] .colab-df-convert {\n",
              "      background-color: #3B4455;\n",
              "      fill: #D2E3FC;\n",
              "    }\n",
              "\n",
              "    [theme=dark] .colab-df-convert:hover {\n",
              "      background-color: #434B5C;\n",
              "      box-shadow: 0px 1px 3px 1px rgba(0, 0, 0, 0.15);\n",
              "      filter: drop-shadow(0px 1px 2px rgba(0, 0, 0, 0.3));\n",
              "      fill: #FFFFFF;\n",
              "    }\n",
              "  </style>\n",
              "\n",
              "      <script>\n",
              "        const buttonEl =\n",
              "          document.querySelector('#df-784d38e3-82b8-4b73-8ea8-1e6046ba74a1 button.colab-df-convert');\n",
              "        buttonEl.style.display =\n",
              "          google.colab.kernel.accessAllowed ? 'block' : 'none';\n",
              "\n",
              "        async function convertToInteractive(key) {\n",
              "          const element = document.querySelector('#df-784d38e3-82b8-4b73-8ea8-1e6046ba74a1');\n",
              "          const dataTable =\n",
              "            await google.colab.kernel.invokeFunction('convertToInteractive',\n",
              "                                                     [key], {});\n",
              "          if (!dataTable) return;\n",
              "\n",
              "          const docLinkHtml = 'Like what you see? Visit the ' +\n",
              "            '<a target=\"_blank\" href=https://colab.research.google.com/notebooks/data_table.ipynb>data table notebook</a>'\n",
              "            + ' to learn more about interactive tables.';\n",
              "          element.innerHTML = '';\n",
              "          dataTable['output_type'] = 'display_data';\n",
              "          await google.colab.output.renderOutput(dataTable, element);\n",
              "          const docLink = document.createElement('div');\n",
              "          docLink.innerHTML = docLinkHtml;\n",
              "          element.appendChild(docLink);\n",
              "        }\n",
              "      </script>\n",
              "    </div>\n",
              "  </div>\n",
              "  "
            ]
          },
          "metadata": {},
          "execution_count": 42
        }
      ]
    },
    {
      "cell_type": "code",
      "source": [
        "data_clust.isna().sum()"
      ],
      "metadata": {
        "colab": {
          "base_uri": "https://localhost:8080/"
        },
        "id": "HKJDwzScXyy1",
        "outputId": "51036fcd-eafa-4743-9372-e03e0462d6b8"
      },
      "execution_count": null,
      "outputs": [
        {
          "output_type": "execute_result",
          "data": {
            "text/plain": [
              "userId      0\n",
              "gameId      0\n",
              "dur_norm    0\n",
              "cluster     0\n",
              "dtype: int64"
            ]
          },
          "metadata": {},
          "execution_count": 43
        }
      ]
    },
    {
      "cell_type": "code",
      "source": [
        "#посмотрим распределение кластеров\n",
        "cluster_count = data_clust['cluster'].value_counts()\n",
        "cluster_count"
      ],
      "metadata": {
        "colab": {
          "base_uri": "https://localhost:8080/"
        },
        "id": "7K2wMMqXX1hw",
        "outputId": "8eb35d3a-5262-4e36-85ef-4245dfbfd574"
      },
      "execution_count": null,
      "outputs": [
        {
          "output_type": "execute_result",
          "data": {
            "text/plain": [
              "2    21029\n",
              "4    19358\n",
              "0     7001\n",
              "1     3720\n",
              "3     1744\n",
              "5      549\n",
              "Name: cluster, dtype: int64"
            ]
          },
          "metadata": {},
          "execution_count": 44
        }
      ]
    },
    {
      "cell_type": "code",
      "source": [
        "#на всякий случай сохраним финальный датасет \n",
        "data_clust_saved = data_clust.to_csv('data_clust.csv')\n"
      ],
      "metadata": {
        "id": "tuw3Zl98ZMsr"
      },
      "execution_count": null,
      "outputs": []
    },
    {
      "cell_type": "code",
      "source": [
        "data_clust = pd.read_csv('/content/data_clust-2 екгу.csv')\n",
        "data_clust = data_clust.drop(columns=['Unnamed: 0'])\n",
        "data_clust.head()"
      ],
      "metadata": {
        "colab": {
          "base_uri": "https://localhost:8080/",
          "height": 221
        },
        "id": "L0NWc-Fo2-HM",
        "outputId": "04ae828f-6b8c-44a7-a6d3-76605b337d22"
      },
      "execution_count": 26,
      "outputs": [
        {
          "output_type": "execute_result",
          "data": {
            "text/plain": [
              "   userId  gameId  dur_norm  cluster\n",
              "0       1       1  0.006890        4\n",
              "1       1       2  0.002196        4\n",
              "2       1       3  0.000376        4\n",
              "3       1       4  0.000305        4\n",
              "4       1       5  0.000225        4"
            ],
            "text/html": [
              "\n",
              "  <div id=\"df-9b8f7d5c-eace-433d-a723-0cadbd864d0f\">\n",
              "    <div class=\"colab-df-container\">\n",
              "      <div>\n",
              "<style scoped>\n",
              "    .dataframe tbody tr th:only-of-type {\n",
              "        vertical-align: middle;\n",
              "    }\n",
              "\n",
              "    .dataframe tbody tr th {\n",
              "        vertical-align: top;\n",
              "    }\n",
              "\n",
              "    .dataframe thead th {\n",
              "        text-align: right;\n",
              "    }\n",
              "</style>\n",
              "<table border=\"1\" class=\"dataframe\">\n",
              "  <thead>\n",
              "    <tr style=\"text-align: right;\">\n",
              "      <th></th>\n",
              "      <th>userId</th>\n",
              "      <th>gameId</th>\n",
              "      <th>dur_norm</th>\n",
              "      <th>cluster</th>\n",
              "    </tr>\n",
              "  </thead>\n",
              "  <tbody>\n",
              "    <tr>\n",
              "      <th>0</th>\n",
              "      <td>1</td>\n",
              "      <td>1</td>\n",
              "      <td>0.006890</td>\n",
              "      <td>4</td>\n",
              "    </tr>\n",
              "    <tr>\n",
              "      <th>1</th>\n",
              "      <td>1</td>\n",
              "      <td>2</td>\n",
              "      <td>0.002196</td>\n",
              "      <td>4</td>\n",
              "    </tr>\n",
              "    <tr>\n",
              "      <th>2</th>\n",
              "      <td>1</td>\n",
              "      <td>3</td>\n",
              "      <td>0.000376</td>\n",
              "      <td>4</td>\n",
              "    </tr>\n",
              "    <tr>\n",
              "      <th>3</th>\n",
              "      <td>1</td>\n",
              "      <td>4</td>\n",
              "      <td>0.000305</td>\n",
              "      <td>4</td>\n",
              "    </tr>\n",
              "    <tr>\n",
              "      <th>4</th>\n",
              "      <td>1</td>\n",
              "      <td>5</td>\n",
              "      <td>0.000225</td>\n",
              "      <td>4</td>\n",
              "    </tr>\n",
              "  </tbody>\n",
              "</table>\n",
              "</div>\n",
              "      <button class=\"colab-df-convert\" onclick=\"convertToInteractive('df-9b8f7d5c-eace-433d-a723-0cadbd864d0f')\"\n",
              "              title=\"Convert this dataframe to an interactive table.\"\n",
              "              style=\"display:none;\">\n",
              "        \n",
              "  <svg xmlns=\"http://www.w3.org/2000/svg\" height=\"24px\"viewBox=\"0 0 24 24\"\n",
              "       width=\"24px\">\n",
              "    <path d=\"M0 0h24v24H0V0z\" fill=\"none\"/>\n",
              "    <path d=\"M18.56 5.44l.94 2.06.94-2.06 2.06-.94-2.06-.94-.94-2.06-.94 2.06-2.06.94zm-11 1L8.5 8.5l.94-2.06 2.06-.94-2.06-.94L8.5 2.5l-.94 2.06-2.06.94zm10 10l.94 2.06.94-2.06 2.06-.94-2.06-.94-.94-2.06-.94 2.06-2.06.94z\"/><path d=\"M17.41 7.96l-1.37-1.37c-.4-.4-.92-.59-1.43-.59-.52 0-1.04.2-1.43.59L10.3 9.45l-7.72 7.72c-.78.78-.78 2.05 0 2.83L4 21.41c.39.39.9.59 1.41.59.51 0 1.02-.2 1.41-.59l7.78-7.78 2.81-2.81c.8-.78.8-2.07 0-2.86zM5.41 20L4 18.59l7.72-7.72 1.47 1.35L5.41 20z\"/>\n",
              "  </svg>\n",
              "      </button>\n",
              "      \n",
              "  <style>\n",
              "    .colab-df-container {\n",
              "      display:flex;\n",
              "      flex-wrap:wrap;\n",
              "      gap: 12px;\n",
              "    }\n",
              "\n",
              "    .colab-df-convert {\n",
              "      background-color: #E8F0FE;\n",
              "      border: none;\n",
              "      border-radius: 50%;\n",
              "      cursor: pointer;\n",
              "      display: none;\n",
              "      fill: #1967D2;\n",
              "      height: 32px;\n",
              "      padding: 0 0 0 0;\n",
              "      width: 32px;\n",
              "    }\n",
              "\n",
              "    .colab-df-convert:hover {\n",
              "      background-color: #E2EBFA;\n",
              "      box-shadow: 0px 1px 2px rgba(60, 64, 67, 0.3), 0px 1px 3px 1px rgba(60, 64, 67, 0.15);\n",
              "      fill: #174EA6;\n",
              "    }\n",
              "\n",
              "    [theme=dark] .colab-df-convert {\n",
              "      background-color: #3B4455;\n",
              "      fill: #D2E3FC;\n",
              "    }\n",
              "\n",
              "    [theme=dark] .colab-df-convert:hover {\n",
              "      background-color: #434B5C;\n",
              "      box-shadow: 0px 1px 3px 1px rgba(0, 0, 0, 0.15);\n",
              "      filter: drop-shadow(0px 1px 2px rgba(0, 0, 0, 0.3));\n",
              "      fill: #FFFFFF;\n",
              "    }\n",
              "  </style>\n",
              "\n",
              "      <script>\n",
              "        const buttonEl =\n",
              "          document.querySelector('#df-9b8f7d5c-eace-433d-a723-0cadbd864d0f button.colab-df-convert');\n",
              "        buttonEl.style.display =\n",
              "          google.colab.kernel.accessAllowed ? 'block' : 'none';\n",
              "\n",
              "        async function convertToInteractive(key) {\n",
              "          const element = document.querySelector('#df-9b8f7d5c-eace-433d-a723-0cadbd864d0f');\n",
              "          const dataTable =\n",
              "            await google.colab.kernel.invokeFunction('convertToInteractive',\n",
              "                                                     [key], {});\n",
              "          if (!dataTable) return;\n",
              "\n",
              "          const docLinkHtml = 'Like what you see? Visit the ' +\n",
              "            '<a target=\"_blank\" href=https://colab.research.google.com/notebooks/data_table.ipynb>data table notebook</a>'\n",
              "            + ' to learn more about interactive tables.';\n",
              "          element.innerHTML = '';\n",
              "          dataTable['output_type'] = 'display_data';\n",
              "          await google.colab.output.renderOutput(dataTable, element);\n",
              "          const docLink = document.createElement('div');\n",
              "          docLink.innerHTML = docLinkHtml;\n",
              "          element.appendChild(docLink);\n",
              "        }\n",
              "      </script>\n",
              "    </div>\n",
              "  </div>\n",
              "  "
            ]
          },
          "metadata": {},
          "execution_count": 26
        }
      ]
    },
    {
      "cell_type": "code",
      "source": [
        "#обозначим количество пользователей и количество игр\n",
        "num_users = len(data_clust.userId.unique())\n",
        "num_games = len(data_clust.gameId.unique())\n",
        "num_users, num_games"
      ],
      "metadata": {
        "colab": {
          "base_uri": "https://localhost:8080/"
        },
        "id": "dClMARImX5AC",
        "outputId": "db8eec05-59f9-45ca-e1b4-61401e19bed4"
      },
      "execution_count": 27,
      "outputs": [
        {
          "output_type": "execute_result",
          "data": {
            "text/plain": [
              "(9523, 3074)"
            ]
          },
          "metadata": {},
          "execution_count": 27
        }
      ]
    },
    {
      "cell_type": "code",
      "source": [
        "from sklearn. model_selection import GroupShuffleSplit\n",
        "\n",
        "splitter = GroupShuffleSplit(n_splits=1, test_size=0.2, random_state=40)\n",
        "test = splitter.split(data_clust, groups=['userId'])"
      ],
      "metadata": {
        "id": "ymuxKEWi3zwN"
      },
      "execution_count": 31,
      "outputs": []
    },
    {
      "cell_type": "code",
      "source": [
        "test"
      ],
      "metadata": {
        "colab": {
          "base_uri": "https://localhost:8080/"
        },
        "id": "cUE73YqN4-iK",
        "outputId": "bcc5c98a-f000-4e9b-a1d2-a39efd8ea054"
      },
      "execution_count": 32,
      "outputs": [
        {
          "output_type": "execute_result",
          "data": {
            "text/plain": [
              "<generator object BaseShuffleSplit.split at 0x7fa4d0482f20>"
            ]
          },
          "metadata": {},
          "execution_count": 32
        }
      ]
    },
    {
      "cell_type": "code",
      "source": [
        "train, validate, test = np.split(data_clust, [int(.7*len(data_clust)), int(.85*len(data_clust))])"
      ],
      "metadata": {
        "id": "ZANNeRfhYwY1"
      },
      "execution_count": 33,
      "outputs": []
    },
    {
      "cell_type": "code",
      "source": [
        "train_userId = set(train['userId'].values)\n",
        "val_userId = set(validate['userId'].values)\n",
        "test_userId = set(validate['userId'].values)\n",
        "\n",
        "print(\"%s different users in the training set\" % len(train_userId))\n",
        "print(\"%s different users in the val set\" % len(val_userId))\n",
        "print(\"%s different users in the testing set\" % len(test_userId))\n",
        "print(\"%s owners appear in both sets\" % len(train_userId.intersection(val_userId)))\n",
        "print(\"%s owners appear in both sets\" % len(train_userId.intersection(test_userId)))"
      ],
      "metadata": {
        "colab": {
          "base_uri": "https://localhost:8080/"
        },
        "id": "iR--FGmA5xei",
        "outputId": "fb4279bc-417e-4c60-cb22-2748fb38b542"
      },
      "execution_count": 37,
      "outputs": [
        {
          "output_type": "stream",
          "name": "stdout",
          "text": [
            "6576 different users in the training set\n",
            "1428 different users in the val set\n",
            "1428 different users in the testing set\n",
            "1 owners appear in both sets\n",
            "1 owners appear in both sets\n"
          ]
        }
      ]
    },
    {
      "cell_type": "code",
      "source": [],
      "metadata": {
        "id": "gcOXKaCE5xrl"
      },
      "execution_count": null,
      "outputs": []
    },
    {
      "cell_type": "markdown",
      "source": [
        "# **Нейронная коллаборативная фильтрация**"
      ],
      "metadata": {
        "id": "W9SDMVaFYMcs"
      }
    },
    {
      "cell_type": "markdown",
      "source": [
        "Нейронная коллаборативная фильтрация (Neural Collaborative Filtering) — это использование нейронной сети определенной архитектуры для моделирования на основе имеющейся информации собственных векторов объектов (в нашем случае игр) и пользователей, а также изучения функции, описывающей их взаимодействие, на основе которой и составляются рекомендации."
      ],
      "metadata": {
        "id": "4xh38tSy3zLA"
      }
    },
    {
      "cell_type": "markdown",
      "source": [
        "Структура и визуализация модели"
      ],
      "metadata": {
        "id": "3B7RAUdQYeyj"
      }
    },
    {
      "cell_type": "code",
      "source": [
        "latent_dim = 10\n",
        "\n",
        "game_input = Input(shape= (1, ),name='game-input')\n",
        "user_input = Input(shape=[1], name='user-input')\n",
        "\n",
        "game_embedding_mlp = Embedding(num_games+1, latent_dim, name='game-embedding-mlp')(game_input)\n",
        "game_vec_mlp = Flatten(name='flatten-game-mlp')(game_embedding_mlp)\n",
        "\n",
        "user_embedding_mlp = Embedding(num_users+1, latent_dim, name='user-embedding-mlp')(user_input)\n",
        "user_vec_mlp = Flatten(name='flatten-user-mlp')(user_embedding_mlp)\n",
        "\n",
        "game_embedding_mf = Embedding(num_games+1, latent_dim, name='game-embedding-mf')(game_input)\n",
        "game_vec_mf = Flatten(name='flatten-game-mf')(game_embedding_mf)\n",
        "\n",
        "user_embedding_mf = Embedding(num_users+1, latent_dim, name='user-embedding-mf')(user_input)\n",
        "user_vec_mf = Flatten(name='flatten-user-mf')(user_embedding_mf)\n",
        "\n",
        "concat = tf.keras.layers.Concatenate()([game_vec_mlp, user_vec_mlp])\n",
        "concat_dropout = Dropout(0.2)(concat)\n",
        "fc_1 = Dense(100, name='fc-1', activation='relu')(concat_dropout)\n",
        "fc_1_bn = BatchNormalization(name='batch-norm-1')(fc_1)\n",
        "fc_1_dropout = Dropout(0.2)(fc_1_bn)\n",
        "fc_2 = Dense(50, name='fc-2', activation='relu')(fc_1_dropout)\n",
        "fc_2_bn = BatchNormalization(name='batch-norm-2')(fc_2)\n",
        "fc_2_dropout = Dropout(0.2)(fc_2_bn)\n",
        "\n",
        "#прогноз из обоих слоев\n",
        "pred_mlp = Dense(10, name='pred-mlp', activation='relu')(fc_2_dropout)\n",
        "pred_mf = tf.keras.layers.Concatenate()([game_vec_mf, user_vec_mf])\n",
        "combine_mlp_mf = tf.keras.layers.Concatenate()([pred_mf, pred_mlp])\n",
        "\n",
        "#финальный слой\n",
        "result = Dense(1, name='result', activation='relu')(combine_mlp_mf)\n",
        "\n",
        "model = Model([user_input, game_input], result)\n",
        "model.compile(optimizer=Adam(lr=0.01), loss='mean_absolute_error')\n",
        "SVG(model_to_dot(model, show_shapes=True).create(prog='dot', format='svg'))"
      ],
      "metadata": {
        "colab": {
          "base_uri": "https://localhost:8080/",
          "height": 1000
        },
        "id": "lN6KejIYYVW3",
        "outputId": "9ca0faeb-1a8d-4d96-b4c7-f1c02b1536ef"
      },
      "execution_count": 53,
      "outputs": [
        {
          "output_type": "stream",
          "name": "stderr",
          "text": [
            "/usr/local/lib/python3.8/dist-packages/keras/optimizers/optimizer_v2/adam.py:117: UserWarning: The `lr` argument is deprecated, use `learning_rate` instead.\n",
            "  super().__init__(name, **kwargs)\n"
          ]
        },
        {
          "output_type": "execute_result",
          "data": {
            "text/plain": [
              "<IPython.core.display.SVG object>"
            ],
            "image/svg+xml": "<svg xmlns=\"http://www.w3.org/2000/svg\" xmlns:xlink=\"http://www.w3.org/1999/xlink\" width=\"1558pt\" height=\"1512pt\" viewBox=\"0.00 0.00 1168.50 1134.00\">\n<g id=\"graph0\" class=\"graph\" transform=\"scale(0.75 0.75) rotate(0) translate(4 1130)\">\n<title>G</title>\n<polygon fill=\"white\" stroke=\"transparent\" points=\"-4,4 -4,-1130 1164.5,-1130 1164.5,4 -4,4\"/>\n<!-- 140571050628048 -->\n<g id=\"node1\" class=\"node\">\n<title>140571050628048</title>\n<polygon fill=\"none\" stroke=\"black\" points=\"181.5,-1079.5 181.5,-1125.5 393.5,-1125.5 393.5,-1079.5 181.5,-1079.5\"/>\n<text text-anchor=\"middle\" x=\"221\" y=\"-1110.3\" font-family=\"Times,serif\" font-size=\"14.00\">game-input</text>\n<polyline fill=\"none\" stroke=\"black\" points=\"181.5,-1102.5 260.5,-1102.5 \"/>\n<text text-anchor=\"middle\" x=\"221\" y=\"-1087.3\" font-family=\"Times,serif\" font-size=\"14.00\">InputLayer</text>\n<polyline fill=\"none\" stroke=\"black\" points=\"260.5,-1079.5 260.5,-1125.5 \"/>\n<text text-anchor=\"middle\" x=\"288\" y=\"-1110.3\" font-family=\"Times,serif\" font-size=\"14.00\">input:</text>\n<polyline fill=\"none\" stroke=\"black\" points=\"260.5,-1102.5 315.5,-1102.5 \"/>\n<text text-anchor=\"middle\" x=\"288\" y=\"-1087.3\" font-family=\"Times,serif\" font-size=\"14.00\">output:</text>\n<polyline fill=\"none\" stroke=\"black\" points=\"315.5,-1079.5 315.5,-1125.5 \"/>\n<text text-anchor=\"middle\" x=\"354.5\" y=\"-1110.3\" font-family=\"Times,serif\" font-size=\"14.00\">[(None, 1)]</text>\n<polyline fill=\"none\" stroke=\"black\" points=\"315.5,-1102.5 393.5,-1102.5 \"/>\n<text text-anchor=\"middle\" x=\"354.5\" y=\"-1087.3\" font-family=\"Times,serif\" font-size=\"14.00\">[(None, 1)]</text>\n</g>\n<!-- 140571076323840 -->\n<g id=\"node3\" class=\"node\">\n<title>140571076323840</title>\n<polygon fill=\"none\" stroke=\"black\" points=\"295,-996.5 295,-1042.5 578,-1042.5 578,-996.5 295,-996.5\"/>\n<text text-anchor=\"middle\" x=\"364\" y=\"-1027.3\" font-family=\"Times,serif\" font-size=\"14.00\">game-embedding-mlp</text>\n<polyline fill=\"none\" stroke=\"black\" points=\"295,-1019.5 433,-1019.5 \"/>\n<text text-anchor=\"middle\" x=\"364\" y=\"-1004.3\" font-family=\"Times,serif\" font-size=\"14.00\">Embedding</text>\n<polyline fill=\"none\" stroke=\"black\" points=\"433,-996.5 433,-1042.5 \"/>\n<text text-anchor=\"middle\" x=\"460.5\" y=\"-1027.3\" font-family=\"Times,serif\" font-size=\"14.00\">input:</text>\n<polyline fill=\"none\" stroke=\"black\" points=\"433,-1019.5 488,-1019.5 \"/>\n<text text-anchor=\"middle\" x=\"460.5\" y=\"-1004.3\" font-family=\"Times,serif\" font-size=\"14.00\">output:</text>\n<polyline fill=\"none\" stroke=\"black\" points=\"488,-996.5 488,-1042.5 \"/>\n<text text-anchor=\"middle\" x=\"533\" y=\"-1027.3\" font-family=\"Times,serif\" font-size=\"14.00\">(None, 1)</text>\n<polyline fill=\"none\" stroke=\"black\" points=\"488,-1019.5 578,-1019.5 \"/>\n<text text-anchor=\"middle\" x=\"533\" y=\"-1004.3\" font-family=\"Times,serif\" font-size=\"14.00\">(None, 1, 10)</text>\n</g>\n<!-- 140571050628048&#45;&gt;140571076323840 -->\n<g id=\"edge1\" class=\"edge\">\n<title>140571050628048-&gt;140571076323840</title>\n<path fill=\"none\" stroke=\"black\" d=\"M328.21,-1079.37C346.36,-1069.5 367.91,-1057.79 386.98,-1047.42\"/>\n<polygon fill=\"black\" stroke=\"black\" points=\"388.72,-1050.46 395.83,-1042.61 385.38,-1044.31 388.72,-1050.46\"/>\n</g>\n<!-- 140571049862144 -->\n<g id=\"node13\" class=\"node\">\n<title>140571049862144</title>\n<polygon fill=\"none\" stroke=\"black\" points=\"0,-996.5 0,-1042.5 277,-1042.5 277,-996.5 0,-996.5\"/>\n<text text-anchor=\"middle\" x=\"66\" y=\"-1027.3\" font-family=\"Times,serif\" font-size=\"14.00\">game-embedding-mf</text>\n<polyline fill=\"none\" stroke=\"black\" points=\"0,-1019.5 132,-1019.5 \"/>\n<text text-anchor=\"middle\" x=\"66\" y=\"-1004.3\" font-family=\"Times,serif\" font-size=\"14.00\">Embedding</text>\n<polyline fill=\"none\" stroke=\"black\" points=\"132,-996.5 132,-1042.5 \"/>\n<text text-anchor=\"middle\" x=\"159.5\" y=\"-1027.3\" font-family=\"Times,serif\" font-size=\"14.00\">input:</text>\n<polyline fill=\"none\" stroke=\"black\" points=\"132,-1019.5 187,-1019.5 \"/>\n<text text-anchor=\"middle\" x=\"159.5\" y=\"-1004.3\" font-family=\"Times,serif\" font-size=\"14.00\">output:</text>\n<polyline fill=\"none\" stroke=\"black\" points=\"187,-996.5 187,-1042.5 \"/>\n<text text-anchor=\"middle\" x=\"232\" y=\"-1027.3\" font-family=\"Times,serif\" font-size=\"14.00\">(None, 1)</text>\n<polyline fill=\"none\" stroke=\"black\" points=\"187,-1019.5 277,-1019.5 \"/>\n<text text-anchor=\"middle\" x=\"232\" y=\"-1004.3\" font-family=\"Times,serif\" font-size=\"14.00\">(None, 1, 10)</text>\n</g>\n<!-- 140571050628048&#45;&gt;140571049862144 -->\n<g id=\"edge12\" class=\"edge\">\n<title>140571050628048-&gt;140571049862144</title>\n<path fill=\"none\" stroke=\"black\" d=\"M246.79,-1079.37C228.64,-1069.5 207.09,-1057.79 188.02,-1047.42\"/>\n<polygon fill=\"black\" stroke=\"black\" points=\"189.62,-1044.31 179.17,-1042.61 186.28,-1050.46 189.62,-1044.31\"/>\n</g>\n<!-- 140571075105360 -->\n<g id=\"node2\" class=\"node\">\n<title>140571075105360</title>\n<polygon fill=\"none\" stroke=\"black\" points=\"771.5,-1079.5 771.5,-1125.5 981.5,-1125.5 981.5,-1079.5 771.5,-1079.5\"/>\n<text text-anchor=\"middle\" x=\"810\" y=\"-1110.3\" font-family=\"Times,serif\" font-size=\"14.00\">user-input</text>\n<polyline fill=\"none\" stroke=\"black\" points=\"771.5,-1102.5 848.5,-1102.5 \"/>\n<text text-anchor=\"middle\" x=\"810\" y=\"-1087.3\" font-family=\"Times,serif\" font-size=\"14.00\">InputLayer</text>\n<polyline fill=\"none\" stroke=\"black\" points=\"848.5,-1079.5 848.5,-1125.5 \"/>\n<text text-anchor=\"middle\" x=\"876\" y=\"-1110.3\" font-family=\"Times,serif\" font-size=\"14.00\">input:</text>\n<polyline fill=\"none\" stroke=\"black\" points=\"848.5,-1102.5 903.5,-1102.5 \"/>\n<text text-anchor=\"middle\" x=\"876\" y=\"-1087.3\" font-family=\"Times,serif\" font-size=\"14.00\">output:</text>\n<polyline fill=\"none\" stroke=\"black\" points=\"903.5,-1079.5 903.5,-1125.5 \"/>\n<text text-anchor=\"middle\" x=\"942.5\" y=\"-1110.3\" font-family=\"Times,serif\" font-size=\"14.00\">[(None, 1)]</text>\n<polyline fill=\"none\" stroke=\"black\" points=\"903.5,-1102.5 981.5,-1102.5 \"/>\n<text text-anchor=\"middle\" x=\"942.5\" y=\"-1087.3\" font-family=\"Times,serif\" font-size=\"14.00\">[(None, 1)]</text>\n</g>\n<!-- 140573759947536 -->\n<g id=\"node4\" class=\"node\">\n<title>140573759947536</title>\n<polygon fill=\"none\" stroke=\"black\" points=\"884.5,-996.5 884.5,-1042.5 1160.5,-1042.5 1160.5,-996.5 884.5,-996.5\"/>\n<text text-anchor=\"middle\" x=\"950\" y=\"-1027.3\" font-family=\"Times,serif\" font-size=\"14.00\">user-embedding-mlp</text>\n<polyline fill=\"none\" stroke=\"black\" points=\"884.5,-1019.5 1015.5,-1019.5 \"/>\n<text text-anchor=\"middle\" x=\"950\" y=\"-1004.3\" font-family=\"Times,serif\" font-size=\"14.00\">Embedding</text>\n<polyline fill=\"none\" stroke=\"black\" points=\"1015.5,-996.5 1015.5,-1042.5 \"/>\n<text text-anchor=\"middle\" x=\"1043\" y=\"-1027.3\" font-family=\"Times,serif\" font-size=\"14.00\">input:</text>\n<polyline fill=\"none\" stroke=\"black\" points=\"1015.5,-1019.5 1070.5,-1019.5 \"/>\n<text text-anchor=\"middle\" x=\"1043\" y=\"-1004.3\" font-family=\"Times,serif\" font-size=\"14.00\">output:</text>\n<polyline fill=\"none\" stroke=\"black\" points=\"1070.5,-996.5 1070.5,-1042.5 \"/>\n<text text-anchor=\"middle\" x=\"1115.5\" y=\"-1027.3\" font-family=\"Times,serif\" font-size=\"14.00\">(None, 1)</text>\n<polyline fill=\"none\" stroke=\"black\" points=\"1070.5,-1019.5 1160.5,-1019.5 \"/>\n<text text-anchor=\"middle\" x=\"1115.5\" y=\"-1004.3\" font-family=\"Times,serif\" font-size=\"14.00\">(None, 1, 10)</text>\n</g>\n<!-- 140571075105360&#45;&gt;140573759947536 -->\n<g id=\"edge2\" class=\"edge\">\n<title>140571075105360-&gt;140573759947536</title>\n<path fill=\"none\" stroke=\"black\" d=\"M916.4,-1079.37C934.1,-1069.54 955.1,-1057.89 973.72,-1047.56\"/>\n<polygon fill=\"black\" stroke=\"black\" points=\"975.61,-1050.52 982.65,-1042.61 972.21,-1044.4 975.61,-1050.52\"/>\n</g>\n<!-- 140571048587024 -->\n<g id=\"node14\" class=\"node\">\n<title>140571048587024</title>\n<polygon fill=\"none\" stroke=\"black\" points=\"596.5,-996.5 596.5,-1042.5 866.5,-1042.5 866.5,-996.5 596.5,-996.5\"/>\n<text text-anchor=\"middle\" x=\"659\" y=\"-1027.3\" font-family=\"Times,serif\" font-size=\"14.00\">user-embedding-mf</text>\n<polyline fill=\"none\" stroke=\"black\" points=\"596.5,-1019.5 721.5,-1019.5 \"/>\n<text text-anchor=\"middle\" x=\"659\" y=\"-1004.3\" font-family=\"Times,serif\" font-size=\"14.00\">Embedding</text>\n<polyline fill=\"none\" stroke=\"black\" points=\"721.5,-996.5 721.5,-1042.5 \"/>\n<text text-anchor=\"middle\" x=\"749\" y=\"-1027.3\" font-family=\"Times,serif\" font-size=\"14.00\">input:</text>\n<polyline fill=\"none\" stroke=\"black\" points=\"721.5,-1019.5 776.5,-1019.5 \"/>\n<text text-anchor=\"middle\" x=\"749\" y=\"-1004.3\" font-family=\"Times,serif\" font-size=\"14.00\">output:</text>\n<polyline fill=\"none\" stroke=\"black\" points=\"776.5,-996.5 776.5,-1042.5 \"/>\n<text text-anchor=\"middle\" x=\"821.5\" y=\"-1027.3\" font-family=\"Times,serif\" font-size=\"14.00\">(None, 1)</text>\n<polyline fill=\"none\" stroke=\"black\" points=\"776.5,-1019.5 866.5,-1019.5 \"/>\n<text text-anchor=\"middle\" x=\"821.5\" y=\"-1004.3\" font-family=\"Times,serif\" font-size=\"14.00\">(None, 1, 10)</text>\n</g>\n<!-- 140571075105360&#45;&gt;140571048587024 -->\n<g id=\"edge13\" class=\"edge\">\n<title>140571075105360-&gt;140571048587024</title>\n<path fill=\"none\" stroke=\"black\" d=\"M836.88,-1079.37C819.3,-1069.54 798.44,-1057.89 779.94,-1047.56\"/>\n<polygon fill=\"black\" stroke=\"black\" points=\"781.51,-1044.43 771.07,-1042.61 778.1,-1050.54 781.51,-1044.43\"/>\n</g>\n<!-- 140571089929792 -->\n<g id=\"node5\" class=\"node\">\n<title>140571089929792</title>\n<polygon fill=\"none\" stroke=\"black\" points=\"315,-913.5 315,-959.5 572,-959.5 572,-913.5 315,-913.5\"/>\n<text text-anchor=\"middle\" x=\"371\" y=\"-944.3\" font-family=\"Times,serif\" font-size=\"14.00\">flatten-game-mlp</text>\n<polyline fill=\"none\" stroke=\"black\" points=\"315,-936.5 427,-936.5 \"/>\n<text text-anchor=\"middle\" x=\"371\" y=\"-921.3\" font-family=\"Times,serif\" font-size=\"14.00\">Flatten</text>\n<polyline fill=\"none\" stroke=\"black\" points=\"427,-913.5 427,-959.5 \"/>\n<text text-anchor=\"middle\" x=\"454.5\" y=\"-944.3\" font-family=\"Times,serif\" font-size=\"14.00\">input:</text>\n<polyline fill=\"none\" stroke=\"black\" points=\"427,-936.5 482,-936.5 \"/>\n<text text-anchor=\"middle\" x=\"454.5\" y=\"-921.3\" font-family=\"Times,serif\" font-size=\"14.00\">output:</text>\n<polyline fill=\"none\" stroke=\"black\" points=\"482,-913.5 482,-959.5 \"/>\n<text text-anchor=\"middle\" x=\"527\" y=\"-944.3\" font-family=\"Times,serif\" font-size=\"14.00\">(None, 1, 10)</text>\n<polyline fill=\"none\" stroke=\"black\" points=\"482,-936.5 572,-936.5 \"/>\n<text text-anchor=\"middle\" x=\"527\" y=\"-921.3\" font-family=\"Times,serif\" font-size=\"14.00\">(None, 10)</text>\n</g>\n<!-- 140571076323840&#45;&gt;140571089929792 -->\n<g id=\"edge3\" class=\"edge\">\n<title>140571076323840-&gt;140571089929792</title>\n<path fill=\"none\" stroke=\"black\" d=\"M438.41,-996.37C439.12,-988.15 439.94,-978.66 440.72,-969.73\"/>\n<polygon fill=\"black\" stroke=\"black\" points=\"444.22,-969.87 441.59,-959.61 437.24,-969.27 444.22,-969.87\"/>\n</g>\n<!-- 140571049861952 -->\n<g id=\"node6\" class=\"node\">\n<title>140571049861952</title>\n<polygon fill=\"none\" stroke=\"black\" points=\"884,-913.5 884,-959.5 1133,-959.5 1133,-913.5 884,-913.5\"/>\n<text text-anchor=\"middle\" x=\"936\" y=\"-944.3\" font-family=\"Times,serif\" font-size=\"14.00\">flatten-user-mlp</text>\n<polyline fill=\"none\" stroke=\"black\" points=\"884,-936.5 988,-936.5 \"/>\n<text text-anchor=\"middle\" x=\"936\" y=\"-921.3\" font-family=\"Times,serif\" font-size=\"14.00\">Flatten</text>\n<polyline fill=\"none\" stroke=\"black\" points=\"988,-913.5 988,-959.5 \"/>\n<text text-anchor=\"middle\" x=\"1015.5\" y=\"-944.3\" font-family=\"Times,serif\" font-size=\"14.00\">input:</text>\n<polyline fill=\"none\" stroke=\"black\" points=\"988,-936.5 1043,-936.5 \"/>\n<text text-anchor=\"middle\" x=\"1015.5\" y=\"-921.3\" font-family=\"Times,serif\" font-size=\"14.00\">output:</text>\n<polyline fill=\"none\" stroke=\"black\" points=\"1043,-913.5 1043,-959.5 \"/>\n<text text-anchor=\"middle\" x=\"1088\" y=\"-944.3\" font-family=\"Times,serif\" font-size=\"14.00\">(None, 1, 10)</text>\n<polyline fill=\"none\" stroke=\"black\" points=\"1043,-936.5 1133,-936.5 \"/>\n<text text-anchor=\"middle\" x=\"1088\" y=\"-921.3\" font-family=\"Times,serif\" font-size=\"14.00\">(None, 10)</text>\n</g>\n<!-- 140573759947536&#45;&gt;140571049861952 -->\n<g id=\"edge4\" class=\"edge\">\n<title>140573759947536-&gt;140571049861952</title>\n<path fill=\"none\" stroke=\"black\" d=\"M1018.67,-996.37C1017.25,-988.15 1015.61,-978.66 1014.07,-969.73\"/>\n<polygon fill=\"black\" stroke=\"black\" points=\"1017.47,-968.86 1012.32,-959.61 1010.58,-970.06 1017.47,-968.86\"/>\n</g>\n<!-- 140571048538752 -->\n<g id=\"node7\" class=\"node\">\n<title>140571048538752</title>\n<polygon fill=\"none\" stroke=\"black\" points=\"569,-830.5 569,-876.5 870,-876.5 870,-830.5 569,-830.5\"/>\n<text text-anchor=\"middle\" x=\"616\" y=\"-861.3\" font-family=\"Times,serif\" font-size=\"14.00\">concatenate_3</text>\n<polyline fill=\"none\" stroke=\"black\" points=\"569,-853.5 663,-853.5 \"/>\n<text text-anchor=\"middle\" x=\"616\" y=\"-838.3\" font-family=\"Times,serif\" font-size=\"14.00\">Concatenate</text>\n<polyline fill=\"none\" stroke=\"black\" points=\"663,-830.5 663,-876.5 \"/>\n<text text-anchor=\"middle\" x=\"690.5\" y=\"-861.3\" font-family=\"Times,serif\" font-size=\"14.00\">input:</text>\n<polyline fill=\"none\" stroke=\"black\" points=\"663,-853.5 718,-853.5 \"/>\n<text text-anchor=\"middle\" x=\"690.5\" y=\"-838.3\" font-family=\"Times,serif\" font-size=\"14.00\">output:</text>\n<polyline fill=\"none\" stroke=\"black\" points=\"718,-830.5 718,-876.5 \"/>\n<text text-anchor=\"middle\" x=\"794\" y=\"-861.3\" font-family=\"Times,serif\" font-size=\"14.00\">[(None, 10), (None, 10)]</text>\n<polyline fill=\"none\" stroke=\"black\" points=\"718,-853.5 870,-853.5 \"/>\n<text text-anchor=\"middle\" x=\"794\" y=\"-838.3\" font-family=\"Times,serif\" font-size=\"14.00\">(None, 20)</text>\n</g>\n<!-- 140571089929792&#45;&gt;140571048538752 -->\n<g id=\"edge5\" class=\"edge\">\n<title>140571089929792-&gt;140571048538752</title>\n<path fill=\"none\" stroke=\"black\" d=\"M518.55,-913.47C554.45,-902.94 597.59,-890.28 634.67,-879.39\"/>\n<polygon fill=\"black\" stroke=\"black\" points=\"635.85,-882.7 644.46,-876.52 633.88,-875.98 635.85,-882.7\"/>\n</g>\n<!-- 140571049861952&#45;&gt;140571048538752 -->\n<g id=\"edge6\" class=\"edge\">\n<title>140571049861952-&gt;140571048538752</title>\n<path fill=\"none\" stroke=\"black\" d=\"M929.91,-913.47C892.16,-902.89 846.77,-890.17 807.83,-879.26\"/>\n<polygon fill=\"black\" stroke=\"black\" points=\"808.65,-875.85 798.07,-876.52 806.76,-882.59 808.65,-875.85\"/>\n</g>\n<!-- 140571048538608 -->\n<g id=\"node8\" class=\"node\">\n<title>140571048538608</title>\n<polygon fill=\"none\" stroke=\"black\" points=\"608,-747.5 608,-793.5 811,-793.5 811,-747.5 608,-747.5\"/>\n<text text-anchor=\"middle\" x=\"644\" y=\"-778.3\" font-family=\"Times,serif\" font-size=\"14.00\">dropout_3</text>\n<polyline fill=\"none\" stroke=\"black\" points=\"608,-770.5 680,-770.5 \"/>\n<text text-anchor=\"middle\" x=\"644\" y=\"-755.3\" font-family=\"Times,serif\" font-size=\"14.00\">Dropout</text>\n<polyline fill=\"none\" stroke=\"black\" points=\"680,-747.5 680,-793.5 \"/>\n<text text-anchor=\"middle\" x=\"707.5\" y=\"-778.3\" font-family=\"Times,serif\" font-size=\"14.00\">input:</text>\n<polyline fill=\"none\" stroke=\"black\" points=\"680,-770.5 735,-770.5 \"/>\n<text text-anchor=\"middle\" x=\"707.5\" y=\"-755.3\" font-family=\"Times,serif\" font-size=\"14.00\">output:</text>\n<polyline fill=\"none\" stroke=\"black\" points=\"735,-747.5 735,-793.5 \"/>\n<text text-anchor=\"middle\" x=\"773\" y=\"-778.3\" font-family=\"Times,serif\" font-size=\"14.00\">(None, 20)</text>\n<polyline fill=\"none\" stroke=\"black\" points=\"735,-770.5 811,-770.5 \"/>\n<text text-anchor=\"middle\" x=\"773\" y=\"-755.3\" font-family=\"Times,serif\" font-size=\"14.00\">(None, 20)</text>\n</g>\n<!-- 140571048538752&#45;&gt;140571048538608 -->\n<g id=\"edge7\" class=\"edge\">\n<title>140571048538752-&gt;140571048538608</title>\n<path fill=\"none\" stroke=\"black\" d=\"M716.77,-830.37C715.75,-822.15 714.58,-812.66 713.48,-803.73\"/>\n<polygon fill=\"black\" stroke=\"black\" points=\"716.93,-803.1 712.23,-793.61 709.98,-803.96 716.93,-803.1\"/>\n</g>\n<!-- 140571048583808 -->\n<g id=\"node9\" class=\"node\">\n<title>140571048583808</title>\n<polygon fill=\"none\" stroke=\"black\" points=\"595.5,-664.5 595.5,-710.5 783.5,-710.5 783.5,-664.5 595.5,-664.5\"/>\n<text text-anchor=\"middle\" x=\"620.5\" y=\"-695.3\" font-family=\"Times,serif\" font-size=\"14.00\">fc-1</text>\n<polyline fill=\"none\" stroke=\"black\" points=\"595.5,-687.5 645.5,-687.5 \"/>\n<text text-anchor=\"middle\" x=\"620.5\" y=\"-672.3\" font-family=\"Times,serif\" font-size=\"14.00\">Dense</text>\n<polyline fill=\"none\" stroke=\"black\" points=\"645.5,-664.5 645.5,-710.5 \"/>\n<text text-anchor=\"middle\" x=\"673\" y=\"-695.3\" font-family=\"Times,serif\" font-size=\"14.00\">input:</text>\n<polyline fill=\"none\" stroke=\"black\" points=\"645.5,-687.5 700.5,-687.5 \"/>\n<text text-anchor=\"middle\" x=\"673\" y=\"-672.3\" font-family=\"Times,serif\" font-size=\"14.00\">output:</text>\n<polyline fill=\"none\" stroke=\"black\" points=\"700.5,-664.5 700.5,-710.5 \"/>\n<text text-anchor=\"middle\" x=\"742\" y=\"-695.3\" font-family=\"Times,serif\" font-size=\"14.00\">(None, 20)</text>\n<polyline fill=\"none\" stroke=\"black\" points=\"700.5,-687.5 783.5,-687.5 \"/>\n<text text-anchor=\"middle\" x=\"742\" y=\"-672.3\" font-family=\"Times,serif\" font-size=\"14.00\">(None, 100)</text>\n</g>\n<!-- 140571048538608&#45;&gt;140571048583808 -->\n<g id=\"edge8\" class=\"edge\">\n<title>140571048538608-&gt;140571048583808</title>\n<path fill=\"none\" stroke=\"black\" d=\"M704.03,-747.37C701.98,-739.06 699.61,-729.45 697.38,-720.43\"/>\n<polygon fill=\"black\" stroke=\"black\" points=\"700.75,-719.48 694.96,-710.61 693.96,-721.15 700.75,-719.48\"/>\n</g>\n<!-- 140571048579760 -->\n<g id=\"node10\" class=\"node\">\n<title>140571048579760</title>\n<polygon fill=\"none\" stroke=\"black\" points=\"547,-581.5 547,-627.5 812,-627.5 812,-581.5 547,-581.5\"/>\n<text text-anchor=\"middle\" x=\"610.5\" y=\"-612.3\" font-family=\"Times,serif\" font-size=\"14.00\">batch-norm-1</text>\n<polyline fill=\"none\" stroke=\"black\" points=\"547,-604.5 674,-604.5 \"/>\n<text text-anchor=\"middle\" x=\"610.5\" y=\"-589.3\" font-family=\"Times,serif\" font-size=\"14.00\">BatchNormalization</text>\n<polyline fill=\"none\" stroke=\"black\" points=\"674,-581.5 674,-627.5 \"/>\n<text text-anchor=\"middle\" x=\"701.5\" y=\"-612.3\" font-family=\"Times,serif\" font-size=\"14.00\">input:</text>\n<polyline fill=\"none\" stroke=\"black\" points=\"674,-604.5 729,-604.5 \"/>\n<text text-anchor=\"middle\" x=\"701.5\" y=\"-589.3\" font-family=\"Times,serif\" font-size=\"14.00\">output:</text>\n<polyline fill=\"none\" stroke=\"black\" points=\"729,-581.5 729,-627.5 \"/>\n<text text-anchor=\"middle\" x=\"770.5\" y=\"-612.3\" font-family=\"Times,serif\" font-size=\"14.00\">(None, 100)</text>\n<polyline fill=\"none\" stroke=\"black\" points=\"729,-604.5 812,-604.5 \"/>\n<text text-anchor=\"middle\" x=\"770.5\" y=\"-589.3\" font-family=\"Times,serif\" font-size=\"14.00\">(None, 100)</text>\n</g>\n<!-- 140571048583808&#45;&gt;140571048579760 -->\n<g id=\"edge9\" class=\"edge\">\n<title>140571048583808-&gt;140571048579760</title>\n<path fill=\"none\" stroke=\"black\" d=\"M686.77,-664.37C685.75,-656.15 684.58,-646.66 683.48,-637.73\"/>\n<polygon fill=\"black\" stroke=\"black\" points=\"686.93,-637.1 682.23,-627.61 679.98,-637.96 686.93,-637.1\"/>\n</g>\n<!-- 140571048581104 -->\n<g id=\"node11\" class=\"node\">\n<title>140571048581104</title>\n<polygon fill=\"none\" stroke=\"black\" points=\"554.5,-498.5 554.5,-544.5 764.5,-544.5 764.5,-498.5 554.5,-498.5\"/>\n<text text-anchor=\"middle\" x=\"590.5\" y=\"-529.3\" font-family=\"Times,serif\" font-size=\"14.00\">dropout_4</text>\n<polyline fill=\"none\" stroke=\"black\" points=\"554.5,-521.5 626.5,-521.5 \"/>\n<text text-anchor=\"middle\" x=\"590.5\" y=\"-506.3\" font-family=\"Times,serif\" font-size=\"14.00\">Dropout</text>\n<polyline fill=\"none\" stroke=\"black\" points=\"626.5,-498.5 626.5,-544.5 \"/>\n<text text-anchor=\"middle\" x=\"654\" y=\"-529.3\" font-family=\"Times,serif\" font-size=\"14.00\">input:</text>\n<polyline fill=\"none\" stroke=\"black\" points=\"626.5,-521.5 681.5,-521.5 \"/>\n<text text-anchor=\"middle\" x=\"654\" y=\"-506.3\" font-family=\"Times,serif\" font-size=\"14.00\">output:</text>\n<polyline fill=\"none\" stroke=\"black\" points=\"681.5,-498.5 681.5,-544.5 \"/>\n<text text-anchor=\"middle\" x=\"723\" y=\"-529.3\" font-family=\"Times,serif\" font-size=\"14.00\">(None, 100)</text>\n<polyline fill=\"none\" stroke=\"black\" points=\"681.5,-521.5 764.5,-521.5 \"/>\n<text text-anchor=\"middle\" x=\"723\" y=\"-506.3\" font-family=\"Times,serif\" font-size=\"14.00\">(None, 100)</text>\n</g>\n<!-- 140571048579760&#45;&gt;140571048581104 -->\n<g id=\"edge10\" class=\"edge\">\n<title>140571048579760-&gt;140571048581104</title>\n<path fill=\"none\" stroke=\"black\" d=\"M674.03,-581.37C671.98,-573.06 669.61,-563.45 667.38,-554.43\"/>\n<polygon fill=\"black\" stroke=\"black\" points=\"670.75,-553.48 664.96,-544.61 663.96,-555.15 670.75,-553.48\"/>\n</g>\n<!-- 140571048584000 -->\n<g id=\"node12\" class=\"node\">\n<title>140571048584000</title>\n<polygon fill=\"none\" stroke=\"black\" points=\"564.5,-415.5 564.5,-461.5 752.5,-461.5 752.5,-415.5 564.5,-415.5\"/>\n<text text-anchor=\"middle\" x=\"589.5\" y=\"-446.3\" font-family=\"Times,serif\" font-size=\"14.00\">fc-2</text>\n<polyline fill=\"none\" stroke=\"black\" points=\"564.5,-438.5 614.5,-438.5 \"/>\n<text text-anchor=\"middle\" x=\"589.5\" y=\"-423.3\" font-family=\"Times,serif\" font-size=\"14.00\">Dense</text>\n<polyline fill=\"none\" stroke=\"black\" points=\"614.5,-415.5 614.5,-461.5 \"/>\n<text text-anchor=\"middle\" x=\"642\" y=\"-446.3\" font-family=\"Times,serif\" font-size=\"14.00\">input:</text>\n<polyline fill=\"none\" stroke=\"black\" points=\"614.5,-438.5 669.5,-438.5 \"/>\n<text text-anchor=\"middle\" x=\"642\" y=\"-423.3\" font-family=\"Times,serif\" font-size=\"14.00\">output:</text>\n<polyline fill=\"none\" stroke=\"black\" points=\"669.5,-415.5 669.5,-461.5 \"/>\n<text text-anchor=\"middle\" x=\"711\" y=\"-446.3\" font-family=\"Times,serif\" font-size=\"14.00\">(None, 100)</text>\n<polyline fill=\"none\" stroke=\"black\" points=\"669.5,-438.5 752.5,-438.5 \"/>\n<text text-anchor=\"middle\" x=\"711\" y=\"-423.3\" font-family=\"Times,serif\" font-size=\"14.00\">(None, 50)</text>\n</g>\n<!-- 140571048581104&#45;&gt;140571048584000 -->\n<g id=\"edge11\" class=\"edge\">\n<title>140571048581104-&gt;140571048584000</title>\n<path fill=\"none\" stroke=\"black\" d=\"M659.23,-498.37C659.13,-490.15 659.01,-480.66 658.9,-471.73\"/>\n<polygon fill=\"black\" stroke=\"black\" points=\"662.4,-471.56 658.77,-461.61 655.4,-471.65 662.4,-471.56\"/>\n</g>\n<!-- 140571048587472 -->\n<g id=\"node15\" class=\"node\">\n<title>140571048587472</title>\n<polygon fill=\"none\" stroke=\"black\" points=\"509.5,-332.5 509.5,-378.5 767.5,-378.5 767.5,-332.5 509.5,-332.5\"/>\n<text text-anchor=\"middle\" x=\"573\" y=\"-363.3\" font-family=\"Times,serif\" font-size=\"14.00\">batch-norm-2</text>\n<polyline fill=\"none\" stroke=\"black\" points=\"509.5,-355.5 636.5,-355.5 \"/>\n<text text-anchor=\"middle\" x=\"573\" y=\"-340.3\" font-family=\"Times,serif\" font-size=\"14.00\">BatchNormalization</text>\n<polyline fill=\"none\" stroke=\"black\" points=\"636.5,-332.5 636.5,-378.5 \"/>\n<text text-anchor=\"middle\" x=\"664\" y=\"-363.3\" font-family=\"Times,serif\" font-size=\"14.00\">input:</text>\n<polyline fill=\"none\" stroke=\"black\" points=\"636.5,-355.5 691.5,-355.5 \"/>\n<text text-anchor=\"middle\" x=\"664\" y=\"-340.3\" font-family=\"Times,serif\" font-size=\"14.00\">output:</text>\n<polyline fill=\"none\" stroke=\"black\" points=\"691.5,-332.5 691.5,-378.5 \"/>\n<text text-anchor=\"middle\" x=\"729.5\" y=\"-363.3\" font-family=\"Times,serif\" font-size=\"14.00\">(None, 50)</text>\n<polyline fill=\"none\" stroke=\"black\" points=\"691.5,-355.5 767.5,-355.5 \"/>\n<text text-anchor=\"middle\" x=\"729.5\" y=\"-340.3\" font-family=\"Times,serif\" font-size=\"14.00\">(None, 50)</text>\n</g>\n<!-- 140571048584000&#45;&gt;140571048587472 -->\n<g id=\"edge14\" class=\"edge\">\n<title>140571048584000-&gt;140571048587472</title>\n<path fill=\"none\" stroke=\"black\" d=\"M653.03,-415.37C650.98,-407.06 648.61,-397.45 646.38,-388.43\"/>\n<polygon fill=\"black\" stroke=\"black\" points=\"649.75,-387.48 643.96,-378.61 642.96,-389.15 649.75,-387.48\"/>\n</g>\n<!-- 140571050630592 -->\n<g id=\"node16\" class=\"node\">\n<title>140571050630592</title>\n<polygon fill=\"none\" stroke=\"black\" points=\"33,-913.5 33,-959.5 284,-959.5 284,-913.5 33,-913.5\"/>\n<text text-anchor=\"middle\" x=\"86\" y=\"-944.3\" font-family=\"Times,serif\" font-size=\"14.00\">flatten-game-mf</text>\n<polyline fill=\"none\" stroke=\"black\" points=\"33,-936.5 139,-936.5 \"/>\n<text text-anchor=\"middle\" x=\"86\" y=\"-921.3\" font-family=\"Times,serif\" font-size=\"14.00\">Flatten</text>\n<polyline fill=\"none\" stroke=\"black\" points=\"139,-913.5 139,-959.5 \"/>\n<text text-anchor=\"middle\" x=\"166.5\" y=\"-944.3\" font-family=\"Times,serif\" font-size=\"14.00\">input:</text>\n<polyline fill=\"none\" stroke=\"black\" points=\"139,-936.5 194,-936.5 \"/>\n<text text-anchor=\"middle\" x=\"166.5\" y=\"-921.3\" font-family=\"Times,serif\" font-size=\"14.00\">output:</text>\n<polyline fill=\"none\" stroke=\"black\" points=\"194,-913.5 194,-959.5 \"/>\n<text text-anchor=\"middle\" x=\"239\" y=\"-944.3\" font-family=\"Times,serif\" font-size=\"14.00\">(None, 1, 10)</text>\n<polyline fill=\"none\" stroke=\"black\" points=\"194,-936.5 284,-936.5 \"/>\n<text text-anchor=\"middle\" x=\"239\" y=\"-921.3\" font-family=\"Times,serif\" font-size=\"14.00\">(None, 10)</text>\n</g>\n<!-- 140571049862144&#45;&gt;140571050630592 -->\n<g id=\"edge15\" class=\"edge\">\n<title>140571049862144-&gt;140571050630592</title>\n<path fill=\"none\" stroke=\"black\" d=\"M143.97,-996.37C146.02,-988.06 148.39,-978.45 150.62,-969.43\"/>\n<polygon fill=\"black\" stroke=\"black\" points=\"154.04,-970.15 153.04,-959.61 147.25,-968.48 154.04,-970.15\"/>\n</g>\n<!-- 140571048540336 -->\n<g id=\"node17\" class=\"node\">\n<title>140571048540336</title>\n<polygon fill=\"none\" stroke=\"black\" points=\"603,-913.5 603,-959.5 846,-959.5 846,-913.5 603,-913.5\"/>\n<text text-anchor=\"middle\" x=\"652\" y=\"-944.3\" font-family=\"Times,serif\" font-size=\"14.00\">flatten-user-mf</text>\n<polyline fill=\"none\" stroke=\"black\" points=\"603,-936.5 701,-936.5 \"/>\n<text text-anchor=\"middle\" x=\"652\" y=\"-921.3\" font-family=\"Times,serif\" font-size=\"14.00\">Flatten</text>\n<polyline fill=\"none\" stroke=\"black\" points=\"701,-913.5 701,-959.5 \"/>\n<text text-anchor=\"middle\" x=\"728.5\" y=\"-944.3\" font-family=\"Times,serif\" font-size=\"14.00\">input:</text>\n<polyline fill=\"none\" stroke=\"black\" points=\"701,-936.5 756,-936.5 \"/>\n<text text-anchor=\"middle\" x=\"728.5\" y=\"-921.3\" font-family=\"Times,serif\" font-size=\"14.00\">output:</text>\n<polyline fill=\"none\" stroke=\"black\" points=\"756,-913.5 756,-959.5 \"/>\n<text text-anchor=\"middle\" x=\"801\" y=\"-944.3\" font-family=\"Times,serif\" font-size=\"14.00\">(None, 1, 10)</text>\n<polyline fill=\"none\" stroke=\"black\" points=\"756,-936.5 846,-936.5 \"/>\n<text text-anchor=\"middle\" x=\"801\" y=\"-921.3\" font-family=\"Times,serif\" font-size=\"14.00\">(None, 10)</text>\n</g>\n<!-- 140571048587024&#45;&gt;140571048540336 -->\n<g id=\"edge16\" class=\"edge\">\n<title>140571048587024-&gt;140571048540336</title>\n<path fill=\"none\" stroke=\"black\" d=\"M729.59,-996.37C728.88,-988.15 728.06,-978.66 727.28,-969.73\"/>\n<polygon fill=\"black\" stroke=\"black\" points=\"730.76,-969.27 726.41,-959.61 723.78,-969.87 730.76,-969.27\"/>\n</g>\n<!-- 140571048590208 -->\n<g id=\"node18\" class=\"node\">\n<title>140571048590208</title>\n<polygon fill=\"none\" stroke=\"black\" points=\"521,-249.5 521,-295.5 724,-295.5 724,-249.5 521,-249.5\"/>\n<text text-anchor=\"middle\" x=\"557\" y=\"-280.3\" font-family=\"Times,serif\" font-size=\"14.00\">dropout_5</text>\n<polyline fill=\"none\" stroke=\"black\" points=\"521,-272.5 593,-272.5 \"/>\n<text text-anchor=\"middle\" x=\"557\" y=\"-257.3\" font-family=\"Times,serif\" font-size=\"14.00\">Dropout</text>\n<polyline fill=\"none\" stroke=\"black\" points=\"593,-249.5 593,-295.5 \"/>\n<text text-anchor=\"middle\" x=\"620.5\" y=\"-280.3\" font-family=\"Times,serif\" font-size=\"14.00\">input:</text>\n<polyline fill=\"none\" stroke=\"black\" points=\"593,-272.5 648,-272.5 \"/>\n<text text-anchor=\"middle\" x=\"620.5\" y=\"-257.3\" font-family=\"Times,serif\" font-size=\"14.00\">output:</text>\n<polyline fill=\"none\" stroke=\"black\" points=\"648,-249.5 648,-295.5 \"/>\n<text text-anchor=\"middle\" x=\"686\" y=\"-280.3\" font-family=\"Times,serif\" font-size=\"14.00\">(None, 50)</text>\n<polyline fill=\"none\" stroke=\"black\" points=\"648,-272.5 724,-272.5 \"/>\n<text text-anchor=\"middle\" x=\"686\" y=\"-257.3\" font-family=\"Times,serif\" font-size=\"14.00\">(None, 50)</text>\n</g>\n<!-- 140571048587472&#45;&gt;140571048590208 -->\n<g id=\"edge17\" class=\"edge\">\n<title>140571048587472-&gt;140571048590208</title>\n<path fill=\"none\" stroke=\"black\" d=\"M634.13,-332.37C632.49,-324.06 630.59,-314.45 628.81,-305.43\"/>\n<polygon fill=\"black\" stroke=\"black\" points=\"632.24,-304.74 626.87,-295.61 625.37,-306.1 632.24,-304.74\"/>\n</g>\n<!-- 140571048069248 -->\n<g id=\"node19\" class=\"node\">\n<title>140571048069248</title>\n<polygon fill=\"none\" stroke=\"black\" points=\"250,-830.5 250,-876.5 551,-876.5 551,-830.5 250,-830.5\"/>\n<text text-anchor=\"middle\" x=\"297\" y=\"-861.3\" font-family=\"Times,serif\" font-size=\"14.00\">concatenate_4</text>\n<polyline fill=\"none\" stroke=\"black\" points=\"250,-853.5 344,-853.5 \"/>\n<text text-anchor=\"middle\" x=\"297\" y=\"-838.3\" font-family=\"Times,serif\" font-size=\"14.00\">Concatenate</text>\n<polyline fill=\"none\" stroke=\"black\" points=\"344,-830.5 344,-876.5 \"/>\n<text text-anchor=\"middle\" x=\"371.5\" y=\"-861.3\" font-family=\"Times,serif\" font-size=\"14.00\">input:</text>\n<polyline fill=\"none\" stroke=\"black\" points=\"344,-853.5 399,-853.5 \"/>\n<text text-anchor=\"middle\" x=\"371.5\" y=\"-838.3\" font-family=\"Times,serif\" font-size=\"14.00\">output:</text>\n<polyline fill=\"none\" stroke=\"black\" points=\"399,-830.5 399,-876.5 \"/>\n<text text-anchor=\"middle\" x=\"475\" y=\"-861.3\" font-family=\"Times,serif\" font-size=\"14.00\">[(None, 10), (None, 10)]</text>\n<polyline fill=\"none\" stroke=\"black\" points=\"399,-853.5 551,-853.5 \"/>\n<text text-anchor=\"middle\" x=\"475\" y=\"-838.3\" font-family=\"Times,serif\" font-size=\"14.00\">(None, 20)</text>\n</g>\n<!-- 140571050630592&#45;&gt;140571048069248 -->\n<g id=\"edge18\" class=\"edge\">\n<title>140571050630592-&gt;140571048069248</title>\n<path fill=\"none\" stroke=\"black\" d=\"M224.31,-913.47C255.38,-903.07 292.64,-890.6 324.88,-879.81\"/>\n<polygon fill=\"black\" stroke=\"black\" points=\"326.33,-883.02 334.71,-876.52 324.11,-876.38 326.33,-883.02\"/>\n</g>\n<!-- 140571048540336&#45;&gt;140571048069248 -->\n<g id=\"edge19\" class=\"edge\">\n<title>140571048540336-&gt;140571048069248</title>\n<path fill=\"none\" stroke=\"black\" d=\"M636.39,-913.47C593.71,-902.8 542.32,-889.95 498.42,-878.98\"/>\n<polygon fill=\"black\" stroke=\"black\" points=\"499.14,-875.55 488.59,-876.52 497.44,-882.34 499.14,-875.55\"/>\n</g>\n<!-- 140571048584144 -->\n<g id=\"node20\" class=\"node\">\n<title>140571048584144</title>\n<polygon fill=\"none\" stroke=\"black\" points=\"508.5,-166.5 508.5,-212.5 706.5,-212.5 706.5,-166.5 508.5,-166.5\"/>\n<text text-anchor=\"middle\" x=\"542\" y=\"-197.3\" font-family=\"Times,serif\" font-size=\"14.00\">pred-mlp</text>\n<polyline fill=\"none\" stroke=\"black\" points=\"508.5,-189.5 575.5,-189.5 \"/>\n<text text-anchor=\"middle\" x=\"542\" y=\"-174.3\" font-family=\"Times,serif\" font-size=\"14.00\">Dense</text>\n<polyline fill=\"none\" stroke=\"black\" points=\"575.5,-166.5 575.5,-212.5 \"/>\n<text text-anchor=\"middle\" x=\"603\" y=\"-197.3\" font-family=\"Times,serif\" font-size=\"14.00\">input:</text>\n<polyline fill=\"none\" stroke=\"black\" points=\"575.5,-189.5 630.5,-189.5 \"/>\n<text text-anchor=\"middle\" x=\"603\" y=\"-174.3\" font-family=\"Times,serif\" font-size=\"14.00\">output:</text>\n<polyline fill=\"none\" stroke=\"black\" points=\"630.5,-166.5 630.5,-212.5 \"/>\n<text text-anchor=\"middle\" x=\"668.5\" y=\"-197.3\" font-family=\"Times,serif\" font-size=\"14.00\">(None, 50)</text>\n<polyline fill=\"none\" stroke=\"black\" points=\"630.5,-189.5 706.5,-189.5 \"/>\n<text text-anchor=\"middle\" x=\"668.5\" y=\"-174.3\" font-family=\"Times,serif\" font-size=\"14.00\">(None, 10)</text>\n</g>\n<!-- 140571048590208&#45;&gt;140571048584144 -->\n<g id=\"edge20\" class=\"edge\">\n<title>140571048590208-&gt;140571048584144</title>\n<path fill=\"none\" stroke=\"black\" d=\"M618.4,-249.37C616.88,-241.15 615.12,-231.66 613.47,-222.73\"/>\n<polygon fill=\"black\" stroke=\"black\" points=\"616.86,-221.8 611.59,-212.61 609.97,-223.08 616.86,-221.8\"/>\n</g>\n<!-- 140571048070640 -->\n<g id=\"node21\" class=\"node\">\n<title>140571048070640</title>\n<polygon fill=\"none\" stroke=\"black\" points=\"392,-83.5 392,-129.5 693,-129.5 693,-83.5 392,-83.5\"/>\n<text text-anchor=\"middle\" x=\"439\" y=\"-114.3\" font-family=\"Times,serif\" font-size=\"14.00\">concatenate_5</text>\n<polyline fill=\"none\" stroke=\"black\" points=\"392,-106.5 486,-106.5 \"/>\n<text text-anchor=\"middle\" x=\"439\" y=\"-91.3\" font-family=\"Times,serif\" font-size=\"14.00\">Concatenate</text>\n<polyline fill=\"none\" stroke=\"black\" points=\"486,-83.5 486,-129.5 \"/>\n<text text-anchor=\"middle\" x=\"513.5\" y=\"-114.3\" font-family=\"Times,serif\" font-size=\"14.00\">input:</text>\n<polyline fill=\"none\" stroke=\"black\" points=\"486,-106.5 541,-106.5 \"/>\n<text text-anchor=\"middle\" x=\"513.5\" y=\"-91.3\" font-family=\"Times,serif\" font-size=\"14.00\">output:</text>\n<polyline fill=\"none\" stroke=\"black\" points=\"541,-83.5 541,-129.5 \"/>\n<text text-anchor=\"middle\" x=\"617\" y=\"-114.3\" font-family=\"Times,serif\" font-size=\"14.00\">[(None, 20), (None, 10)]</text>\n<polyline fill=\"none\" stroke=\"black\" points=\"541,-106.5 693,-106.5 \"/>\n<text text-anchor=\"middle\" x=\"617\" y=\"-91.3\" font-family=\"Times,serif\" font-size=\"14.00\">(None, 30)</text>\n</g>\n<!-- 140571048069248&#45;&gt;140571048070640 -->\n<g id=\"edge21\" class=\"edge\">\n<title>140571048069248-&gt;140571048070640</title>\n<path fill=\"none\" stroke=\"black\" d=\"M419.22,-830.24C442.58,-800.14 479.5,-743.81 479.5,-688.5 479.5,-688.5 479.5,-688.5 479.5,-271.5 479.5,-223.78 480.45,-209.76 499.5,-166 503.81,-156.1 510.05,-146.28 516.44,-137.59\"/>\n<polygon fill=\"black\" stroke=\"black\" points=\"519.23,-139.7 522.56,-129.64 513.69,-135.43 519.23,-139.7\"/>\n</g>\n<!-- 140571048584144&#45;&gt;140571048070640 -->\n<g id=\"edge22\" class=\"edge\">\n<title>140571048584144-&gt;140571048070640</title>\n<path fill=\"none\" stroke=\"black\" d=\"M589.74,-166.37C582.57,-157.44 574.2,-147 566.5,-137.41\"/>\n<polygon fill=\"black\" stroke=\"black\" points=\"569.23,-135.22 560.24,-129.61 563.77,-139.6 569.23,-135.22\"/>\n</g>\n<!-- 140571048068000 -->\n<g id=\"node22\" class=\"node\">\n<title>140571048068000</title>\n<polygon fill=\"none\" stroke=\"black\" points=\"452,-0.5 452,-46.5 633,-46.5 633,-0.5 452,-0.5\"/>\n<text text-anchor=\"middle\" x=\"477\" y=\"-31.3\" font-family=\"Times,serif\" font-size=\"14.00\">result</text>\n<polyline fill=\"none\" stroke=\"black\" points=\"452,-23.5 502,-23.5 \"/>\n<text text-anchor=\"middle\" x=\"477\" y=\"-8.3\" font-family=\"Times,serif\" font-size=\"14.00\">Dense</text>\n<polyline fill=\"none\" stroke=\"black\" points=\"502,-0.5 502,-46.5 \"/>\n<text text-anchor=\"middle\" x=\"529.5\" y=\"-31.3\" font-family=\"Times,serif\" font-size=\"14.00\">input:</text>\n<polyline fill=\"none\" stroke=\"black\" points=\"502,-23.5 557,-23.5 \"/>\n<text text-anchor=\"middle\" x=\"529.5\" y=\"-8.3\" font-family=\"Times,serif\" font-size=\"14.00\">output:</text>\n<polyline fill=\"none\" stroke=\"black\" points=\"557,-0.5 557,-46.5 \"/>\n<text text-anchor=\"middle\" x=\"595\" y=\"-31.3\" font-family=\"Times,serif\" font-size=\"14.00\">(None, 30)</text>\n<polyline fill=\"none\" stroke=\"black\" points=\"557,-23.5 633,-23.5 \"/>\n<text text-anchor=\"middle\" x=\"595\" y=\"-8.3\" font-family=\"Times,serif\" font-size=\"14.00\">(None, 1)</text>\n</g>\n<!-- 140571048070640&#45;&gt;140571048068000 -->\n<g id=\"edge23\" class=\"edge\">\n<title>140571048070640-&gt;140571048068000</title>\n<path fill=\"none\" stroke=\"black\" d=\"M542.5,-83.37C542.5,-75.15 542.5,-65.66 542.5,-56.73\"/>\n<polygon fill=\"black\" stroke=\"black\" points=\"546,-56.61 542.5,-46.61 539,-56.61 546,-56.61\"/>\n</g>\n</g>\n</svg>"
          },
          "metadata": {},
          "execution_count": 53
        }
      ]
    },
    {
      "cell_type": "code",
      "source": [
        "model.summary()"
      ],
      "metadata": {
        "colab": {
          "base_uri": "https://localhost:8080/"
        },
        "id": "SQdPnzfcYpLO",
        "outputId": "18edb2e9-a861-4acd-f1f5-bc5514f07955"
      },
      "execution_count": 54,
      "outputs": [
        {
          "output_type": "stream",
          "name": "stdout",
          "text": [
            "Model: \"model_1\"\n",
            "__________________________________________________________________________________________________\n",
            " Layer (type)                   Output Shape         Param #     Connected to                     \n",
            "==================================================================================================\n",
            " game-input (InputLayer)        [(None, 1)]          0           []                               \n",
            "                                                                                                  \n",
            " user-input (InputLayer)        [(None, 1)]          0           []                               \n",
            "                                                                                                  \n",
            " game-embedding-mlp (Embedding)  (None, 1, 10)       30750       ['game-input[0][0]']             \n",
            "                                                                                                  \n",
            " user-embedding-mlp (Embedding)  (None, 1, 10)       95240       ['user-input[0][0]']             \n",
            "                                                                                                  \n",
            " flatten-game-mlp (Flatten)     (None, 10)           0           ['game-embedding-mlp[0][0]']     \n",
            "                                                                                                  \n",
            " flatten-user-mlp (Flatten)     (None, 10)           0           ['user-embedding-mlp[0][0]']     \n",
            "                                                                                                  \n",
            " concatenate_3 (Concatenate)    (None, 20)           0           ['flatten-game-mlp[0][0]',       \n",
            "                                                                  'flatten-user-mlp[0][0]']       \n",
            "                                                                                                  \n",
            " dropout_3 (Dropout)            (None, 20)           0           ['concatenate_3[0][0]']          \n",
            "                                                                                                  \n",
            " fc-1 (Dense)                   (None, 100)          2100        ['dropout_3[0][0]']              \n",
            "                                                                                                  \n",
            " batch-norm-1 (BatchNormalizati  (None, 100)         400         ['fc-1[0][0]']                   \n",
            " on)                                                                                              \n",
            "                                                                                                  \n",
            " dropout_4 (Dropout)            (None, 100)          0           ['batch-norm-1[0][0]']           \n",
            "                                                                                                  \n",
            " fc-2 (Dense)                   (None, 50)           5050        ['dropout_4[0][0]']              \n",
            "                                                                                                  \n",
            " game-embedding-mf (Embedding)  (None, 1, 10)        30750       ['game-input[0][0]']             \n",
            "                                                                                                  \n",
            " user-embedding-mf (Embedding)  (None, 1, 10)        95240       ['user-input[0][0]']             \n",
            "                                                                                                  \n",
            " batch-norm-2 (BatchNormalizati  (None, 50)          200         ['fc-2[0][0]']                   \n",
            " on)                                                                                              \n",
            "                                                                                                  \n",
            " flatten-game-mf (Flatten)      (None, 10)           0           ['game-embedding-mf[0][0]']      \n",
            "                                                                                                  \n",
            " flatten-user-mf (Flatten)      (None, 10)           0           ['user-embedding-mf[0][0]']      \n",
            "                                                                                                  \n",
            " dropout_5 (Dropout)            (None, 50)           0           ['batch-norm-2[0][0]']           \n",
            "                                                                                                  \n",
            " concatenate_4 (Concatenate)    (None, 20)           0           ['flatten-game-mf[0][0]',        \n",
            "                                                                  'flatten-user-mf[0][0]']        \n",
            "                                                                                                  \n",
            " pred-mlp (Dense)               (None, 10)           510         ['dropout_5[0][0]']              \n",
            "                                                                                                  \n",
            " concatenate_5 (Concatenate)    (None, 30)           0           ['concatenate_4[0][0]',          \n",
            "                                                                  'pred-mlp[0][0]']               \n",
            "                                                                                                  \n",
            " result (Dense)                 (None, 1)            31          ['concatenate_5[0][0]']          \n",
            "                                                                                                  \n",
            "==================================================================================================\n",
            "Total params: 260,271\n",
            "Trainable params: 259,971\n",
            "Non-trainable params: 300\n",
            "__________________________________________________________________________________________________\n"
          ]
        }
      ]
    },
    {
      "cell_type": "code",
      "source": [
        "import matplotlib.pyplot as plt\n",
        "from sklearn.metrics import mean_absolute_error\n",
        "history = model.fit([train.userId, train.gameId], train.cluster, epochs=10, batch_size=64)\n",
        "pd.Series(history.history['loss']).plot(logy=True)\n",
        "plt.xlabel('Эпоха')\n",
        "plt.ylabel('Ошибка')\n",
        "plt.show()\n",
        "\n",
        "y_hat = np.round(model.predict([validate.userId, validate.gameId]), decimals=2)\n",
        "y_true = validate.cluster\n",
        "mean_absolute_error(y_true, y_hat)"
      ],
      "metadata": {
        "colab": {
          "base_uri": "https://localhost:8080/",
          "height": 663
        },
        "id": "oFHRg9MqYsRa",
        "outputId": "f030e08c-d080-4abd-d9a3-d97009e31505"
      },
      "execution_count": 55,
      "outputs": [
        {
          "output_type": "stream",
          "name": "stdout",
          "text": [
            "Epoch 1/10\n",
            "585/585 [==============================] - 14s 17ms/step - loss: 0.7107\n",
            "Epoch 2/10\n",
            "585/585 [==============================] - 5s 8ms/step - loss: 0.3947\n",
            "Epoch 3/10\n",
            "585/585 [==============================] - 6s 10ms/step - loss: 0.3448\n",
            "Epoch 4/10\n",
            "585/585 [==============================] - 6s 10ms/step - loss: 0.3002\n",
            "Epoch 5/10\n",
            "585/585 [==============================] - 4s 6ms/step - loss: 0.2871\n",
            "Epoch 6/10\n",
            "585/585 [==============================] - 6s 9ms/step - loss: 0.2811\n",
            "Epoch 7/10\n",
            "585/585 [==============================] - 4s 7ms/step - loss: 0.2651\n",
            "Epoch 8/10\n",
            "585/585 [==============================] - 4s 7ms/step - loss: 0.2662\n",
            "Epoch 9/10\n",
            "585/585 [==============================] - 6s 10ms/step - loss: 0.2526\n",
            "Epoch 10/10\n",
            "585/585 [==============================] - 4s 7ms/step - loss: 0.2550\n"
          ]
        },
        {
          "output_type": "display_data",
          "data": {
            "text/plain": [
              "<Figure size 432x288 with 1 Axes>"
            ],
            "image/png": "[encoded data removed]"
          },
          "metadata": {
            "needs_background": "light"
          }
        },
        {
          "output_type": "stream",
          "name": "stdout",
          "text": [
            "251/251 [==============================] - 1s 2ms/step\n"
          ]
        },
        {
          "output_type": "execute_result",
          "data": {
            "text/plain": [
              "1.3674756676709738"
            ]
          },
          "metadata": {},
          "execution_count": 55
        }
      ]
    },
    {
      "cell_type": "markdown",
      "source": [
        "# **Проверка работы модели**"
      ],
      "metadata": {
        "id": "ZOSgYWPvjXHv"
      }
    },
    {
      "cell_type": "markdown",
      "source": [
        "Создадим вспомогательные словария для предсказания рекомендаций"
      ],
      "metadata": {
        "id": "twz-x6XEjaXQ"
      }
    },
    {
      "cell_type": "code",
      "source": [
        "game_ids = data_clust['gameId'].unique().tolist() #делаем список игр\n",
        "game2game_encoded = {x: i for i, x in enumerate(game_ids)} #делаем словарь, где каждому ID игры присваиваем индекс \n",
        "game_encoded2game = {i: x for i, x in enumerate(game_ids)} #переводим ранее сформированный словарь gameId-index в формат index-gameId\n"
      ],
      "metadata": {
        "id": "6a1e3he4qc32"
      },
      "execution_count": 56,
      "outputs": []
    },
    {
      "cell_type": "markdown",
      "source": [
        "Создадим вспомогательные словария для предсказания рекомендаций"
      ],
      "metadata": {
        "id": "olIZxrmqjtk5"
      }
    },
    {
      "cell_type": "code",
      "source": [
        "user_ids = data_clust['userId'].unique().tolist() #делаем список пользователей\n",
        "user2user_encoded = {x: i for i, x in enumerate(user_ids)} #делаем словарь, где каждому ID пользователя присваиваем индекс \n",
        "userencoded2user = {i: x for i, x in enumerate(user_ids)} #переводим ранее сформированный словарь userId-index в формат index-ID"
      ],
      "metadata": {
        "id": "5I3dnAY2vqgQ"
      },
      "execution_count": 12,
      "outputs": []
    },
    {
      "cell_type": "code",
      "source": [
        "#функция инвертирования словаря для вывода названий рекомендованных игр\n",
        "def invert(d):\n",
        "    return {v: k for k, v in d.items()}"
      ],
      "metadata": {
        "id": "dc5uil6_Hx7c"
      },
      "execution_count": 13,
      "outputs": []
    },
    {
      "cell_type": "code",
      "source": [
        "invert(user_dict)[9555]"
      ],
      "metadata": {
        "colab": {
          "base_uri": "https://localhost:8080/"
        },
        "id": "DfpoW5Y-j2uX",
        "outputId": "abc33eb0-d5fa-4f07-a2b5-9c438ff34dc0"
      },
      "execution_count": null,
      "outputs": [
        {
          "output_type": "execute_result",
          "data": {
            "text/plain": [
              "128470551"
            ]
          },
          "metadata": {},
          "execution_count": 38
        }
      ]
    },
    {
      "cell_type": "code",
      "source": [
        "user_id = 128470551\n"
      ],
      "metadata": {
        "id": "Eq1u7UUwkB7C"
      },
      "execution_count": 67,
      "outputs": []
    },
    {
      "cell_type": "code",
      "source": [
        "user_id = user_dict[user_id]\n",
        "user_id"
      ],
      "metadata": {
        "colab": {
          "base_uri": "https://localhost:8080/"
        },
        "id": "3Il3yB-1kFSy",
        "outputId": "80fba102-982d-4e8b-b8cb-736e98f15767"
      },
      "execution_count": 68,
      "outputs": [
        {
          "output_type": "execute_result",
          "data": {
            "text/plain": [
              "9555"
            ]
          },
          "metadata": {},
          "execution_count": 68
        }
      ]
    },
    {
      "cell_type": "code",
      "source": [
        "#функция инвертирования словаря для вывода названий рекомендованных игр\n",
        "def invert_userId(d):\n",
        "    return {v: k for k, v in d.items()}"
      ],
      "metadata": {
        "id": "1h9tETdmvd0u"
      },
      "execution_count": null,
      "outputs": []
    },
    {
      "cell_type": "code",
      "source": [
        "1 in user_dict"
      ],
      "metadata": {
        "colab": {
          "base_uri": "https://localhost:8080/"
        },
        "id": "S08hoTrn1aTt",
        "outputId": "f659aa80-3dda-4509-8ced-40166e6b822d"
      },
      "execution_count": 77,
      "outputs": [
        {
          "output_type": "execute_result",
          "data": {
            "text/plain": [
              "False"
            ]
          },
          "metadata": {},
          "execution_count": 77
        }
      ]
    },
    {
      "cell_type": "markdown",
      "source": [
        "Надо помнить, что датасет test был сформирован с уже измененным userId. Подавать на вход мы будем реальные значения, которые будут взяты из словаря user_dict"
      ],
      "metadata": {
        "id": "kiVQInpEesIV"
      }
    },
    {
      "cell_type": "code",
      "source": [
        "def pred(data, user_id, k, all_data):\n",
        "\n",
        "  #data - данные за какой-то период времени\n",
        "  #user_id - id пользователя, который зашел в систему\n",
        "  #k - число выдаваемых рекомендаций\n",
        "  #all_data - датасет за весь период для формирования рекомендаций самых популярных игр (по продолжительности игры)\n",
        "\n",
        "  #переведем user_id из изначального значения в конвертированное, на которых строилась и обучалась модель\n",
        "  if user_id in user_dict:\n",
        "    user_id = user_dict[user_id]\n",
        "\n",
        "    #создадим вспомогательный список всех юзеров в колонке userId, через него будем опредедять новый пользователь или нет\n",
        "    l_temp = []\n",
        "    for i in data.userId:\n",
        "      l_temp.append(i)\n",
        "\n",
        "    #задаем количество выводимых рекомендованных стримеров\n",
        "    if user_id in l_temp: #если пользователь заходил и смотрел что-то, предсказываем рекомендации\n",
        "      games_watched_by_user = data[data.userId == user_id] #стримеры, которых смотрел пользователь\n",
        "      #стримеры, которых не смотрел пользователь\n",
        "      games_not_watched = data[~data[\"gameId\"].isin(games_watched_by_user.gameId.values)][\"gameId\"]\n",
        "      games_not_watched = list(set(games_not_watched).intersection(set(game2game_encoded.keys())))\n",
        "      games_not_watched = np.array([game2game_encoded.get(x) for x in games_not_watched])\n",
        "\n",
        "      user_encoder = user2user_encoded.get(user_id) #вычисляем индекс userId\n",
        "      user_game_array_user = np.array([user_encoder] * len(games_not_watched))\n",
        "      ratings = model.predict([user_game_array_user, games_not_watched]).flatten() #делаем предсказание рейтинга\n",
        "      top_ratings_indices = ratings.argsort()[-k:][::-1] #выбираем 10 индексов стримеров для \"нашего\" пользователя, с наивысшим предсказанным рейтингом\n",
        "\n",
        "      #переводим индекс в gameId\n",
        "      recommended_games_ids = [game_encoded2game.get(games_not_watched[x]) for x in top_ratings_indices] \n",
        "      #формируем список топ 10 стримеров\n",
        "      rec_games = []\n",
        "      for i in recommended_games_ids:\n",
        "        rec_games.append(invert(game_dict)[i])\n",
        "      return rec_games\n",
        "\n",
        "    else: #если пользователь новый, показываем 10 наиболее популярных каналов\n",
        "    #формируем список популярных каналов\n",
        "      temp = all_data.groupby(['game']).sum().duration.sort_values(ascending=False)[:k]\n",
        "    \n",
        "      rec_games = []\n",
        "\n",
        "      for i in temp.index:\n",
        "        rec_games.append(i)\n",
        "\n",
        "      return rec_games\n",
        "  \n",
        "  else:\n",
        "    temp = all_data.groupby(['game']).sum().duration.sort_values(ascending=False)[:k]\n",
        "      \n",
        "    rec_games = []\n",
        "\n",
        "    for i in temp.index:\n",
        "      rec_games.append(i)\n",
        "\n",
        "    return rec_games\n"
      ],
      "metadata": {
        "id": "jRd5Z4405X8g"
      },
      "execution_count": 78,
      "outputs": []
    },
    {
      "cell_type": "code",
      "source": [
        "#посмотрим какие юзеры попали в тестовую выборку, что сделать по ним предсказание\n",
        "test"
      ],
      "metadata": {
        "colab": {
          "base_uri": "https://localhost:8080/",
          "height": 433
        },
        "id": "nBssjPdY98PK",
        "outputId": "29a8afa5-54b5-43ae-9214-26466a220950"
      },
      "execution_count": 58,
      "outputs": [
        {
          "output_type": "execute_result",
          "data": {
            "text/plain": [
              "       userId  gameId  dur_norm  cluster\n",
              "45390    8033     239  0.002928        2\n",
              "45391    8033      79  0.002700        2\n",
              "45392    8033      31  0.002599        2\n",
              "45393    8033     245  0.002297        2\n",
              "45394    8033      87  0.002297        2\n",
              "...       ...     ...       ...      ...\n",
              "53396    9555    1152  0.000061        2\n",
              "53397    9555    1008  0.000056        2\n",
              "53398    9555    2374  0.000038        1\n",
              "53399    9555    1003  0.000038        2\n",
              "53400    9555     196  0.000035        2\n",
              "\n",
              "[8011 rows x 4 columns]"
            ],
            "text/html": [
              "\n",
              "  <div id=\"df-e744dc50-142c-4b7d-8a84-1a3a893d9171\">\n",
              "    <div class=\"colab-df-container\">\n",
              "      <div>\n",
              "<style scoped>\n",
              "    .dataframe tbody tr th:only-of-type {\n",
              "        vertical-align: middle;\n",
              "    }\n",
              "\n",
              "    .dataframe tbody tr th {\n",
              "        vertical-align: top;\n",
              "    }\n",
              "\n",
              "    .dataframe thead th {\n",
              "        text-align: right;\n",
              "    }\n",
              "</style>\n",
              "<table border=\"1\" class=\"dataframe\">\n",
              "  <thead>\n",
              "    <tr style=\"text-align: right;\">\n",
              "      <th></th>\n",
              "      <th>userId</th>\n",
              "      <th>gameId</th>\n",
              "      <th>dur_norm</th>\n",
              "      <th>cluster</th>\n",
              "    </tr>\n",
              "  </thead>\n",
              "  <tbody>\n",
              "    <tr>\n",
              "      <th>45390</th>\n",
              "      <td>8033</td>\n",
              "      <td>239</td>\n",
              "      <td>0.002928</td>\n",
              "      <td>2</td>\n",
              "    </tr>\n",
              "    <tr>\n",
              "      <th>45391</th>\n",
              "      <td>8033</td>\n",
              "      <td>79</td>\n",
              "      <td>0.002700</td>\n",
              "      <td>2</td>\n",
              "    </tr>\n",
              "    <tr>\n",
              "      <th>45392</th>\n",
              "      <td>8033</td>\n",
              "      <td>31</td>\n",
              "      <td>0.002599</td>\n",
              "      <td>2</td>\n",
              "    </tr>\n",
              "    <tr>\n",
              "      <th>45393</th>\n",
              "      <td>8033</td>\n",
              "      <td>245</td>\n",
              "      <td>0.002297</td>\n",
              "      <td>2</td>\n",
              "    </tr>\n",
              "    <tr>\n",
              "      <th>45394</th>\n",
              "      <td>8033</td>\n",
              "      <td>87</td>\n",
              "      <td>0.002297</td>\n",
              "      <td>2</td>\n",
              "    </tr>\n",
              "    <tr>\n",
              "      <th>...</th>\n",
              "      <td>...</td>\n",
              "      <td>...</td>\n",
              "      <td>...</td>\n",
              "      <td>...</td>\n",
              "    </tr>\n",
              "    <tr>\n",
              "      <th>53396</th>\n",
              "      <td>9555</td>\n",
              "      <td>1152</td>\n",
              "      <td>0.000061</td>\n",
              "      <td>2</td>\n",
              "    </tr>\n",
              "    <tr>\n",
              "      <th>53397</th>\n",
              "      <td>9555</td>\n",
              "      <td>1008</td>\n",
              "      <td>0.000056</td>\n",
              "      <td>2</td>\n",
              "    </tr>\n",
              "    <tr>\n",
              "      <th>53398</th>\n",
              "      <td>9555</td>\n",
              "      <td>2374</td>\n",
              "      <td>0.000038</td>\n",
              "      <td>1</td>\n",
              "    </tr>\n",
              "    <tr>\n",
              "      <th>53399</th>\n",
              "      <td>9555</td>\n",
              "      <td>1003</td>\n",
              "      <td>0.000038</td>\n",
              "      <td>2</td>\n",
              "    </tr>\n",
              "    <tr>\n",
              "      <th>53400</th>\n",
              "      <td>9555</td>\n",
              "      <td>196</td>\n",
              "      <td>0.000035</td>\n",
              "      <td>2</td>\n",
              "    </tr>\n",
              "  </tbody>\n",
              "</table>\n",
              "<p>8011 rows × 4 columns</p>\n",
              "</div>\n",
              "      <button class=\"colab-df-convert\" onclick=\"convertToInteractive('df-e744dc50-142c-4b7d-8a84-1a3a893d9171')\"\n",
              "              title=\"Convert this dataframe to an interactive table.\"\n",
              "              style=\"display:none;\">\n",
              "        \n",
              "  <svg xmlns=\"http://www.w3.org/2000/svg\" height=\"24px\"viewBox=\"0 0 24 24\"\n",
              "       width=\"24px\">\n",
              "    <path d=\"M0 0h24v24H0V0z\" fill=\"none\"/>\n",
              "    <path d=\"M18.56 5.44l.94 2.06.94-2.06 2.06-.94-2.06-.94-.94-2.06-.94 2.06-2.06.94zm-11 1L8.5 8.5l.94-2.06 2.06-.94-2.06-.94L8.5 2.5l-.94 2.06-2.06.94zm10 10l.94 2.06.94-2.06 2.06-.94-2.06-.94-.94-2.06-.94 2.06-2.06.94z\"/><path d=\"M17.41 7.96l-1.37-1.37c-.4-.4-.92-.59-1.43-.59-.52 0-1.04.2-1.43.59L10.3 9.45l-7.72 7.72c-.78.78-.78 2.05 0 2.83L4 21.41c.39.39.9.59 1.41.59.51 0 1.02-.2 1.41-.59l7.78-7.78 2.81-2.81c.8-.78.8-2.07 0-2.86zM5.41 20L4 18.59l7.72-7.72 1.47 1.35L5.41 20z\"/>\n",
              "  </svg>\n",
              "      </button>\n",
              "      \n",
              "  <style>\n",
              "    .colab-df-container {\n",
              "      display:flex;\n",
              "      flex-wrap:wrap;\n",
              "      gap: 12px;\n",
              "    }\n",
              "\n",
              "    .colab-df-convert {\n",
              "      background-color: #E8F0FE;\n",
              "      border: none;\n",
              "      border-radius: 50%;\n",
              "      cursor: pointer;\n",
              "      display: none;\n",
              "      fill: #1967D2;\n",
              "      height: 32px;\n",
              "      padding: 0 0 0 0;\n",
              "      width: 32px;\n",
              "    }\n",
              "\n",
              "    .colab-df-convert:hover {\n",
              "      background-color: #E2EBFA;\n",
              "      box-shadow: 0px 1px 2px rgba(60, 64, 67, 0.3), 0px 1px 3px 1px rgba(60, 64, 67, 0.15);\n",
              "      fill: #174EA6;\n",
              "    }\n",
              "\n",
              "    [theme=dark] .colab-df-convert {\n",
              "      background-color: #3B4455;\n",
              "      fill: #D2E3FC;\n",
              "    }\n",
              "\n",
              "    [theme=dark] .colab-df-convert:hover {\n",
              "      background-color: #434B5C;\n",
              "      box-shadow: 0px 1px 3px 1px rgba(0, 0, 0, 0.15);\n",
              "      filter: drop-shadow(0px 1px 2px rgba(0, 0, 0, 0.3));\n",
              "      fill: #FFFFFF;\n",
              "    }\n",
              "  </style>\n",
              "\n",
              "      <script>\n",
              "        const buttonEl =\n",
              "          document.querySelector('#df-e744dc50-142c-4b7d-8a84-1a3a893d9171 button.colab-df-convert');\n",
              "        buttonEl.style.display =\n",
              "          google.colab.kernel.accessAllowed ? 'block' : 'none';\n",
              "\n",
              "        async function convertToInteractive(key) {\n",
              "          const element = document.querySelector('#df-e744dc50-142c-4b7d-8a84-1a3a893d9171');\n",
              "          const dataTable =\n",
              "            await google.colab.kernel.invokeFunction('convertToInteractive',\n",
              "                                                     [key], {});\n",
              "          if (!dataTable) return;\n",
              "\n",
              "          const docLinkHtml = 'Like what you see? Visit the ' +\n",
              "            '<a target=\"_blank\" href=https://colab.research.google.com/notebooks/data_table.ipynb>data table notebook</a>'\n",
              "            + ' to learn more about interactive tables.';\n",
              "          element.innerHTML = '';\n",
              "          dataTable['output_type'] = 'display_data';\n",
              "          await google.colab.output.renderOutput(dataTable, element);\n",
              "          const docLink = document.createElement('div');\n",
              "          docLink.innerHTML = docLinkHtml;\n",
              "          element.appendChild(docLink);\n",
              "        }\n",
              "      </script>\n",
              "    </div>\n",
              "  </div>\n",
              "  "
            ]
          },
          "metadata": {},
          "execution_count": 58
        }
      ]
    },
    {
      "cell_type": "markdown",
      "source": [
        "Поскольку у нас переобозначены userId, будем вводить корректные значения из первоначального датасета, а функция pred будет переводить их в значения, на которых переобучалась модель"
      ],
      "metadata": {
        "id": "iCHusubOti2r"
      }
    },
    {
      "cell_type": "code",
      "source": [
        "invert(user_dict)[8033], user_dict[26762388]"
      ],
      "metadata": {
        "colab": {
          "base_uri": "https://localhost:8080/"
        },
        "id": "eWDUyWG-t-fV",
        "outputId": "2c0bb424-be62-45cc-d536-53979e0cbca6"
      },
      "execution_count": 75,
      "outputs": [
        {
          "output_type": "execute_result",
          "data": {
            "text/plain": [
              "(26762388, 8033)"
            ]
          },
          "metadata": {},
          "execution_count": 75
        }
      ]
    },
    {
      "cell_type": "code",
      "source": [
        "#проверим пользователя, которого мы видим в тестовом датасете\n",
        "print(pred(test, invert(user_dict)[8033], 10, df))"
      ],
      "metadata": {
        "colab": {
          "base_uri": "https://localhost:8080/"
        },
        "id": "1nQqw0ZL9PbM",
        "outputId": "ae304c19-4b1d-41da-9cc6-05cf89dfe563"
      },
      "execution_count": 79,
      "outputs": [
        {
          "output_type": "stream",
          "name": "stdout",
          "text": [
            "42/42 [==============================] - 0s 3ms/step\n",
            "['Botanicula', 'Stacking', 'Age of Empires III Complete Collection', 'Valiant Hearts The Great War / Soldats Inconnus  Mmoires de la Grande Guerre', 'Insurgency Modern Infantry Combat', 'SteamWorld Dig', 'Resident Evil 5 / Biohazard 5', 'Trials Evolution Gold Edition', 'Back to the Future Ep 3 - Citizen Brown', 'Rocketbirds Hardboiled Chicken']\n"
          ]
        }
      ]
    },
    {
      "cell_type": "code",
      "source": [
        "#проверим еще одного пользователя, которого мы видим в тестовом датасете\n",
        "print(pred(test, invert(user_dict)[9555], 10, df))"
      ],
      "metadata": {
        "colab": {
          "base_uri": "https://localhost:8080/"
        },
        "id": "cR8ZzcoPLJZn",
        "outputId": "61280570-9bf9-4af7-dc3c-e2fa2e2ec682"
      },
      "execution_count": 80,
      "outputs": [
        {
          "output_type": "stream",
          "name": "stdout",
          "text": [
            "45/45 [==============================] - 0s 3ms/step\n",
            "['Botanicula', 'Stacking', 'Age of Empires III Complete Collection', 'Valiant Hearts The Great War / Soldats Inconnus  Mmoires de la Grande Guerre', 'Insurgency Modern Infantry Combat', 'SteamWorld Dig', 'Resident Evil 5 / Biohazard 5', 'Trials Evolution Gold Edition', 'Super Meat Boy', \"Garry's Mod\"]\n"
          ]
        }
      ]
    },
    {
      "cell_type": "code",
      "source": [
        "#теперь попробуем проверить работу модели на \"холодных пользователях\", которые \"первый раз\" зашли в Steam\n",
        "for i in range(1,10):\n",
        "  if i not in test.userId:\n",
        "    print('пользователя с userId={} в базе нет, для него рекомендованы следующие игры: {}'.format(i, pred(test, 1, 10, df)))\n",
        "  else:\n",
        "    continue\n",
        "  "
      ],
      "metadata": {
        "colab": {
          "base_uri": "https://localhost:8080/"
        },
        "id": "hD3K6Nl5GwGt",
        "outputId": "adbc754e-8b91-4281-b9c0-6a42e5be7023"
      },
      "execution_count": 81,
      "outputs": [
        {
          "output_type": "stream",
          "name": "stdout",
          "text": [
            "пользователя с userId=1 в базе нет, для него рекомендованы следующие игры: ['Dota 2', 'Counter-Strike Global Offensive', 'Team Fortress 2', 'Counter-Strike', \"Sid Meier's Civilization V\", 'Counter-Strike Source', 'The Elder Scrolls V Skyrim', \"Garry's Mod\", 'Call of Duty Modern Warfare 2 - Multiplayer', 'Left 4 Dead 2']\n",
            "пользователя с userId=2 в базе нет, для него рекомендованы следующие игры: ['Dota 2', 'Counter-Strike Global Offensive', 'Team Fortress 2', 'Counter-Strike', \"Sid Meier's Civilization V\", 'Counter-Strike Source', 'The Elder Scrolls V Skyrim', \"Garry's Mod\", 'Call of Duty Modern Warfare 2 - Multiplayer', 'Left 4 Dead 2']\n",
            "пользователя с userId=3 в базе нет, для него рекомендованы следующие игры: ['Dota 2', 'Counter-Strike Global Offensive', 'Team Fortress 2', 'Counter-Strike', \"Sid Meier's Civilization V\", 'Counter-Strike Source', 'The Elder Scrolls V Skyrim', \"Garry's Mod\", 'Call of Duty Modern Warfare 2 - Multiplayer', 'Left 4 Dead 2']\n",
            "пользователя с userId=4 в базе нет, для него рекомендованы следующие игры: ['Dota 2', 'Counter-Strike Global Offensive', 'Team Fortress 2', 'Counter-Strike', \"Sid Meier's Civilization V\", 'Counter-Strike Source', 'The Elder Scrolls V Skyrim', \"Garry's Mod\", 'Call of Duty Modern Warfare 2 - Multiplayer', 'Left 4 Dead 2']\n",
            "пользователя с userId=5 в базе нет, для него рекомендованы следующие игры: ['Dota 2', 'Counter-Strike Global Offensive', 'Team Fortress 2', 'Counter-Strike', \"Sid Meier's Civilization V\", 'Counter-Strike Source', 'The Elder Scrolls V Skyrim', \"Garry's Mod\", 'Call of Duty Modern Warfare 2 - Multiplayer', 'Left 4 Dead 2']\n",
            "пользователя с userId=6 в базе нет, для него рекомендованы следующие игры: ['Dota 2', 'Counter-Strike Global Offensive', 'Team Fortress 2', 'Counter-Strike', \"Sid Meier's Civilization V\", 'Counter-Strike Source', 'The Elder Scrolls V Skyrim', \"Garry's Mod\", 'Call of Duty Modern Warfare 2 - Multiplayer', 'Left 4 Dead 2']\n",
            "пользователя с userId=7 в базе нет, для него рекомендованы следующие игры: ['Dota 2', 'Counter-Strike Global Offensive', 'Team Fortress 2', 'Counter-Strike', \"Sid Meier's Civilization V\", 'Counter-Strike Source', 'The Elder Scrolls V Skyrim', \"Garry's Mod\", 'Call of Duty Modern Warfare 2 - Multiplayer', 'Left 4 Dead 2']\n",
            "пользователя с userId=8 в базе нет, для него рекомендованы следующие игры: ['Dota 2', 'Counter-Strike Global Offensive', 'Team Fortress 2', 'Counter-Strike', \"Sid Meier's Civilization V\", 'Counter-Strike Source', 'The Elder Scrolls V Skyrim', \"Garry's Mod\", 'Call of Duty Modern Warfare 2 - Multiplayer', 'Left 4 Dead 2']\n",
            "пользователя с userId=9 в базе нет, для него рекомендованы следующие игры: ['Dota 2', 'Counter-Strike Global Offensive', 'Team Fortress 2', 'Counter-Strike', \"Sid Meier's Civilization V\", 'Counter-Strike Source', 'The Elder Scrolls V Skyrim', \"Garry's Mod\", 'Call of Duty Modern Warfare 2 - Multiplayer', 'Left 4 Dead 2']\n"
          ]
        }
      ]
    }
  ]
}
