{
  "cells": [
    {
      "cell_type": "markdown",
      "metadata": {
        "id": "view-in-github",
        "colab_type": "text"
      },
      "source": [
        "<a href=\"https://colab.research.google.com/github/KnyazevAV/hangman/blob/master/%D0%94%D0%B8%D0%BF%D0%BB%D0%BE%D0%BC%D0%BD%D1%8B%D0%B9_%D0%BF%D1%80%D0%BE%D0%B5%D0%BA%D1%82_%D0%A3%D0%BD%D0%B8%D0%B2%D0%B5%D1%80%D1%81%D0%B8%D1%82%D0%B5%D1%82_%D0%98%D1%81%D0%BA%D1%83%D1%81%D1%82%D0%B2%D0%B5%D0%BD%D0%BD%D0%BE%D0%B3%D0%BE_%D0%98%D0%BD%D1%82%D0%B5%D0%BB%D0%BB%D0%B5%D0%BA%D1%82%D0%B0_(%D0%9A%D0%BD%D1%8F%D0%B7%D0%B5%D0%B2_%D0%90_)_ipynb.ipynb\" target=\"_parent\"><img src=\"https://colab.research.google.com/assets/colab-badge.svg\" alt=\"Open In Colab\"/></a>"
      ]
    },
    {
      "cell_type": "markdown",
      "source": [
        "Нейросеть для всех испытуемых c разбивкой на 1 секунду и перемешиванием CNN+LSTM Tahn"
      ],
      "metadata": {
        "id": "OUO66TPG-94P"
      }
    },
    {
      "cell_type": "code",
      "execution_count": null,
      "metadata": {
        "id": "9C-mTbFIpBEa"
      },
      "outputs": [],
      "source": [
        "import numpy as np #Библиотека работы с массивами\n",
        "import pandas as pd # Библиотека для работы с базами\n",
        "import random\n",
        "\n",
        "from tensorflow.keras.models import Sequential, Model # \n",
        "from tensorflow.keras.layers import concatenate, Input, Dense, Dropout, BatchNormalization, LSTM, Flatten, Conv1D, Conv2D, MaxPooling1D, MaxPooling2D, Reshape, Bidirectional #\n",
        "from tensorflow.keras import utils #Используем для to_categoricall\n",
        "from tensorflow.keras.optimizers import Adam,Adadelta,SGD,Adagrad,RMSprop #\n",
        "from tensorflow.keras.preprocessing.text import Tokenizer, text_to_word_sequence #\n",
        "from tensorflow.keras.preprocessing.sequence import pad_sequences #\n",
        "from tensorflow.keras.callbacks import LambdaCallback, LearningRateScheduler # подключаем колбэки\n",
        "from tensorflow.keras.preprocessing.sequence import TimeseriesGenerator # для генерации выборки временных рядов\n",
        "import tensorflow as tf\n",
        "from contextlib import suppress\n",
        "\n",
        "\n",
        "from sklearn.preprocessing import StandardScaler, MinMaxScaler #Нормировщики\n",
        "from sklearn.model_selection import train_test_split # Для разбивки на выборки\n",
        "from sklearn.metrics import mean_squared_error, mean_absolute_error #\n",
        "import os\n",
        "import sys\n",
        "import matplotlib.pyplot as plt #Отрисовка графиков\n",
        "\n",
        "from statistics import mean "
      ]
    },
    {
      "cell_type": "code",
      "execution_count": null,
      "metadata": {
        "colab": {
          "base_uri": "https://localhost:8080/"
        },
        "id": "hiPxnCYqpJ4S",
        "outputId": "9b876169-3c88-40d7-9829-2bc7f0c44d1f"
      },
      "outputs": [
        {
          "output_type": "stream",
          "name": "stdout",
          "text": [
            "Mounted at /content/drive\n"
          ]
        }
      ],
      "source": [
        "from google.colab import drive\n",
        "drive.mount('/content/drive')"
      ]
    },
    {
      "cell_type": "code",
      "execution_count": null,
      "metadata": {
        "id": "KG_-LZRkpOGc"
      },
      "outputs": [],
      "source": [
        "path = '/content/drive/My Drive/temp/fnirs_dataset'"
      ]
    },
    {
      "cell_type": "code",
      "execution_count": null,
      "metadata": {
        "id": "bHrDg3YvpQ6U"
      },
      "outputs": [],
      "source": [
        "#функция загрузки данных в один dataframe\n",
        "def data_load(path):\n",
        "  frames_temp = []\n",
        "  #try:\n",
        "  for i in range(100):\n",
        "      with suppress(FileNotFoundError):\n",
        "        i += 1\n",
        "        df_temp = pd.read_csv(path + '/sub_{}.csv'.format(i))\n",
        "        frames_temp.append(df_temp)\n",
        "  #except FileNotFoundError:\n",
        "    #print('такого номера нет:', i)\n",
        "  df_full = pd.concat(frames_temp, axis=0, join='outer', ignore_index=True, keys=None)\n",
        "  return df_full"
      ]
    },
    {
      "cell_type": "code",
      "execution_count": null,
      "metadata": {
        "id": "akEXsKlnpTsX"
      },
      "outputs": [],
      "source": [
        "df_full = data_load('/content/drive/My Drive/temp/fnirs_dataset')"
      ]
    },
    {
      "cell_type": "code",
      "execution_count": null,
      "metadata": {
        "id": "HZi1rPKlpUlB",
        "colab": {
          "base_uri": "https://localhost:8080/",
          "height": 424
        },
        "outputId": "3384116c-cbb6-4b52-8fec-49b7d9f1926a"
      },
      "outputs": [
        {
          "output_type": "execute_result",
          "data": {
            "text/plain": [
              "          AB_I_O  AB_PHI_O   AB_I_DO  AB_PHI_DO    CD_I_O   CD_PHI_O  \\\n",
              "0      -0.198291  0.335677 -0.560790  -0.056042  0.460231   0.271119   \n",
              "1      -0.195651  0.297210 -0.580712  -0.032170  0.524553   0.208284   \n",
              "2      -0.192790  0.275041 -0.600446  -0.012370  0.585149   0.162781   \n",
              "3      -0.189943  0.271573 -0.619751   0.002192  0.641092   0.133816   \n",
              "4      -0.187401  0.288043 -0.638379   0.010818  0.691434   0.119983   \n",
              "...          ...       ...       ...        ...       ...        ...   \n",
              "422587  3.369915  0.973203 -1.159197   0.057686  2.524704  45.670449   \n",
              "422588  3.365014  1.040236 -1.161509   0.013463  2.514158  43.258719   \n",
              "422589  3.358334  1.105486 -1.163388  -0.026700  2.507242  40.041532   \n",
              "422590  3.350465  1.165158 -1.165147  -0.061719  2.504038  35.925716   \n",
              "422591  3.341976  1.216122 -1.167104  -0.091096  2.504169  30.856358   \n",
              "\n",
              "         CD_I_DO  CD_PHI_DO  label  \n",
              "0      -0.645892   0.198804      0  \n",
              "1      -0.681370   0.202136      0  \n",
              "2      -0.716632   0.194758      0  \n",
              "3      -0.750998   0.176938      0  \n",
              "4      -0.783748   0.149429      0  \n",
              "...          ...        ...    ...  \n",
              "422587 -1.088880 -60.652208      2  \n",
              "422588 -1.090080 -57.468358      2  \n",
              "422589 -1.091969 -53.234109      2  \n",
              "422590 -1.094843 -47.821654      2  \n",
              "422591 -1.098938 -41.152765      2  \n",
              "\n",
              "[422592 rows x 9 columns]"
            ],
            "text/html": [
              "\n",
              "  <div id=\"df-fd66fb17-5b9f-4fad-89ba-d325bdc2642b\">\n",
              "    <div class=\"colab-df-container\">\n",
              "      <div>\n",
              "<style scoped>\n",
              "    .dataframe tbody tr th:only-of-type {\n",
              "        vertical-align: middle;\n",
              "    }\n",
              "\n",
              "    .dataframe tbody tr th {\n",
              "        vertical-align: top;\n",
              "    }\n",
              "\n",
              "    .dataframe thead th {\n",
              "        text-align: right;\n",
              "    }\n",
              "</style>\n",
              "<table border=\"1\" class=\"dataframe\">\n",
              "  <thead>\n",
              "    <tr style=\"text-align: right;\">\n",
              "      <th></th>\n",
              "      <th>AB_I_O</th>\n",
              "      <th>AB_PHI_O</th>\n",
              "      <th>AB_I_DO</th>\n",
              "      <th>AB_PHI_DO</th>\n",
              "      <th>CD_I_O</th>\n",
              "      <th>CD_PHI_O</th>\n",
              "      <th>CD_I_DO</th>\n",
              "      <th>CD_PHI_DO</th>\n",
              "      <th>label</th>\n",
              "    </tr>\n",
              "  </thead>\n",
              "  <tbody>\n",
              "    <tr>\n",
              "      <th>0</th>\n",
              "      <td>-0.198291</td>\n",
              "      <td>0.335677</td>\n",
              "      <td>-0.560790</td>\n",
              "      <td>-0.056042</td>\n",
              "      <td>0.460231</td>\n",
              "      <td>0.271119</td>\n",
              "      <td>-0.645892</td>\n",
              "      <td>0.198804</td>\n",
              "      <td>0</td>\n",
              "    </tr>\n",
              "    <tr>\n",
              "      <th>1</th>\n",
              "      <td>-0.195651</td>\n",
              "      <td>0.297210</td>\n",
              "      <td>-0.580712</td>\n",
              "      <td>-0.032170</td>\n",
              "      <td>0.524553</td>\n",
              "      <td>0.208284</td>\n",
              "      <td>-0.681370</td>\n",
              "      <td>0.202136</td>\n",
              "      <td>0</td>\n",
              "    </tr>\n",
              "    <tr>\n",
              "      <th>2</th>\n",
              "      <td>-0.192790</td>\n",
              "      <td>0.275041</td>\n",
              "      <td>-0.600446</td>\n",
              "      <td>-0.012370</td>\n",
              "      <td>0.585149</td>\n",
              "      <td>0.162781</td>\n",
              "      <td>-0.716632</td>\n",
              "      <td>0.194758</td>\n",
              "      <td>0</td>\n",
              "    </tr>\n",
              "    <tr>\n",
              "      <th>3</th>\n",
              "      <td>-0.189943</td>\n",
              "      <td>0.271573</td>\n",
              "      <td>-0.619751</td>\n",
              "      <td>0.002192</td>\n",
              "      <td>0.641092</td>\n",
              "      <td>0.133816</td>\n",
              "      <td>-0.750998</td>\n",
              "      <td>0.176938</td>\n",
              "      <td>0</td>\n",
              "    </tr>\n",
              "    <tr>\n",
              "      <th>4</th>\n",
              "      <td>-0.187401</td>\n",
              "      <td>0.288043</td>\n",
              "      <td>-0.638379</td>\n",
              "      <td>0.010818</td>\n",
              "      <td>0.691434</td>\n",
              "      <td>0.119983</td>\n",
              "      <td>-0.783748</td>\n",
              "      <td>0.149429</td>\n",
              "      <td>0</td>\n",
              "    </tr>\n",
              "    <tr>\n",
              "      <th>...</th>\n",
              "      <td>...</td>\n",
              "      <td>...</td>\n",
              "      <td>...</td>\n",
              "      <td>...</td>\n",
              "      <td>...</td>\n",
              "      <td>...</td>\n",
              "      <td>...</td>\n",
              "      <td>...</td>\n",
              "      <td>...</td>\n",
              "    </tr>\n",
              "    <tr>\n",
              "      <th>422587</th>\n",
              "      <td>3.369915</td>\n",
              "      <td>0.973203</td>\n",
              "      <td>-1.159197</td>\n",
              "      <td>0.057686</td>\n",
              "      <td>2.524704</td>\n",
              "      <td>45.670449</td>\n",
              "      <td>-1.088880</td>\n",
              "      <td>-60.652208</td>\n",
              "      <td>2</td>\n",
              "    </tr>\n",
              "    <tr>\n",
              "      <th>422588</th>\n",
              "      <td>3.365014</td>\n",
              "      <td>1.040236</td>\n",
              "      <td>-1.161509</td>\n",
              "      <td>0.013463</td>\n",
              "      <td>2.514158</td>\n",
              "      <td>43.258719</td>\n",
              "      <td>-1.090080</td>\n",
              "      <td>-57.468358</td>\n",
              "      <td>2</td>\n",
              "    </tr>\n",
              "    <tr>\n",
              "      <th>422589</th>\n",
              "      <td>3.358334</td>\n",
              "      <td>1.105486</td>\n",
              "      <td>-1.163388</td>\n",
              "      <td>-0.026700</td>\n",
              "      <td>2.507242</td>\n",
              "      <td>40.041532</td>\n",
              "      <td>-1.091969</td>\n",
              "      <td>-53.234109</td>\n",
              "      <td>2</td>\n",
              "    </tr>\n",
              "    <tr>\n",
              "      <th>422590</th>\n",
              "      <td>3.350465</td>\n",
              "      <td>1.165158</td>\n",
              "      <td>-1.165147</td>\n",
              "      <td>-0.061719</td>\n",
              "      <td>2.504038</td>\n",
              "      <td>35.925716</td>\n",
              "      <td>-1.094843</td>\n",
              "      <td>-47.821654</td>\n",
              "      <td>2</td>\n",
              "    </tr>\n",
              "    <tr>\n",
              "      <th>422591</th>\n",
              "      <td>3.341976</td>\n",
              "      <td>1.216122</td>\n",
              "      <td>-1.167104</td>\n",
              "      <td>-0.091096</td>\n",
              "      <td>2.504169</td>\n",
              "      <td>30.856358</td>\n",
              "      <td>-1.098938</td>\n",
              "      <td>-41.152765</td>\n",
              "      <td>2</td>\n",
              "    </tr>\n",
              "  </tbody>\n",
              "</table>\n",
              "<p>422592 rows × 9 columns</p>\n",
              "</div>\n",
              "      <button class=\"colab-df-convert\" onclick=\"convertToInteractive('df-fd66fb17-5b9f-4fad-89ba-d325bdc2642b')\"\n",
              "              title=\"Convert this dataframe to an interactive table.\"\n",
              "              style=\"display:none;\">\n",
              "        \n",
              "  <svg xmlns=\"http://www.w3.org/2000/svg\" height=\"24px\"viewBox=\"0 0 24 24\"\n",
              "       width=\"24px\">\n",
              "    <path d=\"M0 0h24v24H0V0z\" fill=\"none\"/>\n",
              "    <path d=\"M18.56 5.44l.94 2.06.94-2.06 2.06-.94-2.06-.94-.94-2.06-.94 2.06-2.06.94zm-11 1L8.5 8.5l.94-2.06 2.06-.94-2.06-.94L8.5 2.5l-.94 2.06-2.06.94zm10 10l.94 2.06.94-2.06 2.06-.94-2.06-.94-.94-2.06-.94 2.06-2.06.94z\"/><path d=\"M17.41 7.96l-1.37-1.37c-.4-.4-.92-.59-1.43-.59-.52 0-1.04.2-1.43.59L10.3 9.45l-7.72 7.72c-.78.78-.78 2.05 0 2.83L4 21.41c.39.39.9.59 1.41.59.51 0 1.02-.2 1.41-.59l7.78-7.78 2.81-2.81c.8-.78.8-2.07 0-2.86zM5.41 20L4 18.59l7.72-7.72 1.47 1.35L5.41 20z\"/>\n",
              "  </svg>\n",
              "      </button>\n",
              "      \n",
              "  <style>\n",
              "    .colab-df-container {\n",
              "      display:flex;\n",
              "      flex-wrap:wrap;\n",
              "      gap: 12px;\n",
              "    }\n",
              "\n",
              "    .colab-df-convert {\n",
              "      background-color: #E8F0FE;\n",
              "      border: none;\n",
              "      border-radius: 50%;\n",
              "      cursor: pointer;\n",
              "      display: none;\n",
              "      fill: #1967D2;\n",
              "      height: 32px;\n",
              "      padding: 0 0 0 0;\n",
              "      width: 32px;\n",
              "    }\n",
              "\n",
              "    .colab-df-convert:hover {\n",
              "      background-color: #E2EBFA;\n",
              "      box-shadow: 0px 1px 2px rgba(60, 64, 67, 0.3), 0px 1px 3px 1px rgba(60, 64, 67, 0.15);\n",
              "      fill: #174EA6;\n",
              "    }\n",
              "\n",
              "    [theme=dark] .colab-df-convert {\n",
              "      background-color: #3B4455;\n",
              "      fill: #D2E3FC;\n",
              "    }\n",
              "\n",
              "    [theme=dark] .colab-df-convert:hover {\n",
              "      background-color: #434B5C;\n",
              "      box-shadow: 0px 1px 3px 1px rgba(0, 0, 0, 0.15);\n",
              "      filter: drop-shadow(0px 1px 2px rgba(0, 0, 0, 0.3));\n",
              "      fill: #FFFFFF;\n",
              "    }\n",
              "  </style>\n",
              "\n",
              "      <script>\n",
              "        const buttonEl =\n",
              "          document.querySelector('#df-fd66fb17-5b9f-4fad-89ba-d325bdc2642b button.colab-df-convert');\n",
              "        buttonEl.style.display =\n",
              "          google.colab.kernel.accessAllowed ? 'block' : 'none';\n",
              "\n",
              "        async function convertToInteractive(key) {\n",
              "          const element = document.querySelector('#df-fd66fb17-5b9f-4fad-89ba-d325bdc2642b');\n",
              "          const dataTable =\n",
              "            await google.colab.kernel.invokeFunction('convertToInteractive',\n",
              "                                                     [key], {});\n",
              "          if (!dataTable) return;\n",
              "\n",
              "          const docLinkHtml = 'Like what you see? Visit the ' +\n",
              "            '<a target=\"_blank\" href=https://colab.research.google.com/notebooks/data_table.ipynb>data table notebook</a>'\n",
              "            + ' to learn more about interactive tables.';\n",
              "          element.innerHTML = '';\n",
              "          dataTable['output_type'] = 'display_data';\n",
              "          await google.colab.output.renderOutput(dataTable, element);\n",
              "          const docLink = document.createElement('div');\n",
              "          docLink.innerHTML = docLinkHtml;\n",
              "          element.appendChild(docLink);\n",
              "        }\n",
              "      </script>\n",
              "    </div>\n",
              "  </div>\n",
              "  "
            ]
          },
          "metadata": {},
          "execution_count": 8
        }
      ],
      "source": [
        "df_full"
      ]
    },
    {
      "cell_type": "code",
      "execution_count": null,
      "metadata": {
        "id": "d2V2tHdBpVzG"
      },
      "outputs": [],
      "source": [
        "#посмотрим, как выстроена парадигма исследования (как n-back задачи идут друг за другом)\n",
        "n_back_labels = []\n",
        "for i in range(len(df_full.label)):\n",
        "  if i == 0:\n",
        "    n_back_labels.append(df_full.label[i])\n",
        "    continue\n",
        "  if df_full.label[i] == df_full.label[i-1]:\n",
        "    continue\n",
        "  else:\n",
        "    n_back_labels.append(df_full.label[i])"
      ]
    },
    {
      "cell_type": "code",
      "execution_count": null,
      "metadata": {
        "id": "ucOcsOo2pnPA",
        "colab": {
          "base_uri": "https://localhost:8080/"
        },
        "outputId": "21a86d67-4d72-4d63-a121-1055393ce04a"
      },
      "outputs": [
        {
          "output_type": "stream",
          "name": "stdout",
          "text": [
            "кол-во задач: 992\n",
            "кол-во отсчетов на 1 задачу: 426.0\n"
          ]
        }
      ],
      "source": [
        "print('кол-во задач:', len(n_back_labels))\n",
        "print('кол-во отсчетов на 1 задачу:', len(df_full)/len(n_back_labels))"
      ]
    },
    {
      "cell_type": "markdown",
      "metadata": {
        "id": "jCZNQIO0poDp"
      },
      "source": [
        "Попробуем сделать разбивку на 6 измерений, что примерно эквивалентно 1 секунде"
      ]
    },
    {
      "cell_type": "markdown",
      "source": [
        "напишем функцию подготовки xTrain и yTrain"
      ],
      "metadata": {
        "id": "8FLzc8keWtpH"
      }
    },
    {
      "cell_type": "code",
      "source": [
        "def drop_dataset(dataset, xLen):\n",
        "\n",
        "  #соберем данные в список\n",
        "  l_Train = []\n",
        "\n",
        "  i = 0\n",
        "  while i <= len(dataset):\n",
        "    l_Train.append(dataset[i:i+xLen])\n",
        "    i += xLen\n",
        "\n",
        "  #удалим последний \"пустой\" элемент списка\n",
        "  l_Train.pop(int(len(dataset)/xLen))  \n",
        "  \n",
        "  #перемешаем список l_xTrain\n",
        "  random.shuffle(l_Train)\n",
        "\n",
        "  #сформируем xTrain и yTrain\n",
        "  xTrain_list = []\n",
        "  yTrain_list = []\n",
        "  for i in range(len(l_Train)):\n",
        "    xTrain_list.append(l_Train[i][['AB_I_O', 'AB_PHI_O',\t'AB_I_DO',\t'AB_PHI_DO',\t'CD_I_O',\t'CD_PHI_O',\t'CD_I_DO',\t'CD_PHI_DO']])\n",
        "    yTrain_list.append(l_Train[i][['label']])\n",
        "\n",
        "\n",
        "  xTrain = np.array(xTrain_list)\n",
        "\n",
        "  #доделаем yTrain\n",
        "  l1 = []\n",
        "  l2 = []\n",
        "  l3 = []\n",
        "  for i in range(len(yTrain_list)):\n",
        "\n",
        "    #l1.clear()\n",
        "    l1 = []\n",
        "    for j in range(len(yTrain_list[i])):\n",
        "\n",
        "      l1.append(int(yTrain_list[i].iloc[j][0]))\n",
        "    l2.append(l1)\n",
        "\n",
        "\n",
        "  #сформируем список длинною xTrain со значениями номеров задач n-back\n",
        "  for i in range(len(l2)):\n",
        "    l3.append(mean(l2[i]))\n",
        "\n",
        "  yTrain = np.array( utils.to_categorical(l3, 4))\n",
        "\n",
        "  return xTrain, yTrain"
      ],
      "metadata": {
        "id": "btdRh6WtWxr_"
      },
      "execution_count": null,
      "outputs": []
    },
    {
      "cell_type": "code",
      "source": [
        "xTrain, yTrain = drop_dataset(df_full, 6)"
      ],
      "metadata": {
        "id": "6MkUGD9vXh_k"
      },
      "execution_count": null,
      "outputs": []
    },
    {
      "cell_type": "code",
      "source": [
        "xTrain.shape, yTrain.shape"
      ],
      "metadata": {
        "colab": {
          "base_uri": "https://localhost:8080/"
        },
        "id": "7R9McDQaXqIq",
        "outputId": "a03e9269-7545-4257-966c-b3a75f61a377"
      },
      "execution_count": null,
      "outputs": [
        {
          "output_type": "execute_result",
          "data": {
            "text/plain": [
              "((70432, 6, 8), (70432, 4))"
            ]
          },
          "metadata": {},
          "execution_count": 13
        }
      ]
    },
    {
      "cell_type": "markdown",
      "source": [
        "Соберем заранее тестовую выборку"
      ],
      "metadata": {
        "id": "z8GTz28Gy9N_"
      }
    },
    {
      "cell_type": "code",
      "source": [
        "#загрузим 1 датасет, на котором сеть не обучалась\n",
        "test_dataset = ('/content/drive/My Drive/temp/fnirs_dataset')\n",
        "df_test = data_load(test_dataset)\n",
        "xLen = 6\n",
        "xTest, yTest = drop_dataset(df_test, xLen)"
      ],
      "metadata": {
        "id": "yy7UTqv4zBWU"
      },
      "execution_count": null,
      "outputs": []
    },
    {
      "cell_type": "markdown",
      "metadata": {
        "id": "WE_lAIqN3HAp"
      },
      "source": [
        "Напишем LSTM"
      ]
    },
    {
      "cell_type": "code",
      "execution_count": null,
      "metadata": {
        "id": "JBv32bNx3JXe"
      },
      "outputs": [],
      "source": [
        "loss_fn = tf.keras.losses.CategoricalCrossentropy(from_logits=True)\n",
        "xLen = 6"
      ]
    },
    {
      "cell_type": "code",
      "execution_count": null,
      "metadata": {
        "colab": {
          "base_uri": "https://localhost:8080/"
        },
        "id": "UhLIabCX3Jdg",
        "outputId": "a7965b56-572a-4455-ab95-547fac353aac"
      },
      "outputs": [
        {
          "output_type": "stream",
          "name": "stderr",
          "text": [
            "/usr/local/lib/python3.7/dist-packages/keras/optimizer_v2/adam.py:105: UserWarning: The `lr` argument is deprecated, use `learning_rate` instead.\n",
            "  super(Adam, self).__init__(name, **kwargs)\n"
          ]
        }
      ],
      "source": [
        "inputs = Input((xLen, 8))\n",
        "\n",
        "x = Conv1D(256, 3, strides=1, padding='same', activation='tanh')(inputs)\n",
        "x = Conv1D(128, 3, strides=1 ,padding='same', activation='tanh')(x)\n",
        "x = Conv1D(64, 3, strides=1, padding='same', activation='tanh')(x)\n",
        "x = Conv1D(32, 3, strides=1, padding='same', activation='tanh')(x)\n",
        "x = BatchNormalization()(x)\n",
        "x = MaxPooling1D()(x)\n",
        "\n",
        "x = LSTM(256, return_sequences=True)(inputs)\n",
        "x = BatchNormalization()(x)\n",
        "x = LSTM(128)(x)\n",
        "x = BatchNormalization()(x)\n",
        "x = tf.expand_dims(x, axis=-1)\n",
        "x = LSTM(64)(x)\n",
        "x = BatchNormalization()(x)\n",
        "\n",
        "\n",
        "x = Dense(256, activation='tanh')(x)\n",
        "x = Dense(128, activation='tanh')(x)\n",
        "x = Dense(64, activation='tanh')(x)\n",
        "x = Dense(32, activation='tanh')(x)\n",
        "x = Dropout(0.5)(x)\n",
        "\n",
        "output = Dense(4, activation='softmax')(x)\n",
        "\n",
        "model_CNN_LSTM = Model(inputs, output)\n",
        "model_CNN_LSTM.compile(loss=loss_fn, optimizer=Adam(lr=1e-4), metrics=['accuracy'])"
      ]
    },
    {
      "cell_type": "code",
      "execution_count": null,
      "metadata": {
        "colab": {
          "base_uri": "https://localhost:8080/"
        },
        "id": "VK3nyFFM35yg",
        "outputId": "d8270955-5084-4346-f5ed-d70ff835984c"
      },
      "outputs": [
        {
          "output_type": "stream",
          "name": "stdout",
          "text": [
            "Model: \"model\"\n",
            "_________________________________________________________________\n",
            " Layer (type)                Output Shape              Param #   \n",
            "=================================================================\n",
            " input_1 (InputLayer)        [(None, 6, 8)]            0         \n",
            "                                                                 \n",
            " lstm (LSTM)                 (None, 6, 256)            271360    \n",
            "                                                                 \n",
            " batch_normalization_1 (Batc  (None, 6, 256)           1024      \n",
            " hNormalization)                                                 \n",
            "                                                                 \n",
            " lstm_1 (LSTM)               (None, 128)               197120    \n",
            "                                                                 \n",
            " batch_normalization_2 (Batc  (None, 128)              512       \n",
            " hNormalization)                                                 \n",
            "                                                                 \n",
            " tf.expand_dims (TFOpLambda)  (None, 128, 1)           0         \n",
            "                                                                 \n",
            " lstm_2 (LSTM)               (None, 64)                16896     \n",
            "                                                                 \n",
            " batch_normalization_3 (Batc  (None, 64)               256       \n",
            " hNormalization)                                                 \n",
            "                                                                 \n",
            " dense (Dense)               (None, 256)               16640     \n",
            "                                                                 \n",
            " dense_1 (Dense)             (None, 128)               32896     \n",
            "                                                                 \n",
            " dense_2 (Dense)             (None, 64)                8256      \n",
            "                                                                 \n",
            " dense_3 (Dense)             (None, 32)                2080      \n",
            "                                                                 \n",
            " dropout (Dropout)           (None, 32)                0         \n",
            "                                                                 \n",
            " dense_4 (Dense)             (None, 4)                 132       \n",
            "                                                                 \n",
            "=================================================================\n",
            "Total params: 547,172\n",
            "Trainable params: 546,276\n",
            "Non-trainable params: 896\n",
            "_________________________________________________________________\n"
          ]
        }
      ],
      "source": [
        "model_CNN_LSTM.summary()"
      ]
    },
    {
      "cell_type": "code",
      "execution_count": null,
      "metadata": {
        "colab": {
          "base_uri": "https://localhost:8080/"
        },
        "id": "1ajPBcKT394v",
        "outputId": "4ffba9e3-7c6e-4f17-de6d-16d067f9448a"
      },
      "outputs": [
        {
          "output_type": "stream",
          "name": "stdout",
          "text": [
            "Epoch 1/50\n"
          ]
        },
        {
          "output_type": "stream",
          "name": "stderr",
          "text": [
            "/usr/local/lib/python3.7/dist-packages/tensorflow/python/util/dispatch.py:1082: UserWarning: \"`categorical_crossentropy` received `from_logits=True`, but the `output` argument was produced by a sigmoid or softmax activation and thus does not represent logits. Was this intended?\"\n",
            "  return dispatch_target(*args, **kwargs)\n"
          ]
        },
        {
          "output_type": "stream",
          "name": "stdout",
          "text": [
            "991/991 [==============================] - 25s 15ms/step - loss: 1.3588 - accuracy: 0.3209 - val_loss: 1.3403 - val_accuracy: 0.3392\n",
            "Epoch 2/50\n",
            "991/991 [==============================] - 13s 13ms/step - loss: 1.3364 - accuracy: 0.3477 - val_loss: 1.3245 - val_accuracy: 0.3582\n",
            "Epoch 3/50\n",
            "991/991 [==============================] - 13s 13ms/step - loss: 1.3234 - accuracy: 0.3623 - val_loss: 1.3102 - val_accuracy: 0.3751\n",
            "Epoch 4/50\n",
            "991/991 [==============================] - 13s 13ms/step - loss: 1.3107 - accuracy: 0.3739 - val_loss: 1.3007 - val_accuracy: 0.3795\n",
            "Epoch 5/50\n",
            "991/991 [==============================] - 13s 13ms/step - loss: 1.3016 - accuracy: 0.3810 - val_loss: 1.2859 - val_accuracy: 0.3903\n",
            "Epoch 6/50\n",
            "991/991 [==============================] - 13s 13ms/step - loss: 1.2925 - accuracy: 0.3906 - val_loss: 1.2850 - val_accuracy: 0.3878\n",
            "Epoch 7/50\n",
            "991/991 [==============================] - 13s 13ms/step - loss: 1.2819 - accuracy: 0.3977 - val_loss: 1.2765 - val_accuracy: 0.3971\n",
            "Epoch 8/50\n",
            "991/991 [==============================] - 13s 13ms/step - loss: 1.2743 - accuracy: 0.4015 - val_loss: 1.2715 - val_accuracy: 0.3940\n",
            "Epoch 9/50\n",
            "991/991 [==============================] - 13s 13ms/step - loss: 1.2673 - accuracy: 0.4085 - val_loss: 1.2578 - val_accuracy: 0.4093\n",
            "Epoch 10/50\n",
            "991/991 [==============================] - 14s 14ms/step - loss: 1.2603 - accuracy: 0.4129 - val_loss: 1.2538 - val_accuracy: 0.4096\n",
            "Epoch 11/50\n",
            "991/991 [==============================] - 13s 13ms/step - loss: 1.2532 - accuracy: 0.4173 - val_loss: 1.2433 - val_accuracy: 0.4174\n",
            "Epoch 12/50\n",
            "991/991 [==============================] - 13s 13ms/step - loss: 1.2459 - accuracy: 0.4231 - val_loss: 1.2412 - val_accuracy: 0.4202\n",
            "Epoch 13/50\n",
            "991/991 [==============================] - 13s 13ms/step - loss: 1.2387 - accuracy: 0.4277 - val_loss: 1.2394 - val_accuracy: 0.4239\n",
            "Epoch 14/50\n",
            "991/991 [==============================] - 13s 13ms/step - loss: 1.2355 - accuracy: 0.4318 - val_loss: 1.2320 - val_accuracy: 0.4255\n",
            "Epoch 15/50\n",
            "991/991 [==============================] - 13s 13ms/step - loss: 1.2291 - accuracy: 0.4340 - val_loss: 1.2252 - val_accuracy: 0.4338\n",
            "Epoch 16/50\n",
            "991/991 [==============================] - 13s 13ms/step - loss: 1.2225 - accuracy: 0.4405 - val_loss: 1.2278 - val_accuracy: 0.4316\n",
            "Epoch 17/50\n",
            "991/991 [==============================] - 13s 13ms/step - loss: 1.2193 - accuracy: 0.4409 - val_loss: 1.2191 - val_accuracy: 0.4387\n",
            "Epoch 18/50\n",
            "991/991 [==============================] - 13s 13ms/step - loss: 1.2132 - accuracy: 0.4435 - val_loss: 1.2214 - val_accuracy: 0.4280\n",
            "Epoch 19/50\n",
            "991/991 [==============================] - 13s 13ms/step - loss: 1.2077 - accuracy: 0.4460 - val_loss: 1.2216 - val_accuracy: 0.4300\n",
            "Epoch 20/50\n",
            "991/991 [==============================] - 13s 13ms/step - loss: 1.2027 - accuracy: 0.4491 - val_loss: 1.2081 - val_accuracy: 0.4415\n",
            "Epoch 21/50\n",
            "991/991 [==============================] - 13s 13ms/step - loss: 1.1966 - accuracy: 0.4565 - val_loss: 1.2377 - val_accuracy: 0.4205\n",
            "Epoch 22/50\n",
            "991/991 [==============================] - 13s 13ms/step - loss: 1.1933 - accuracy: 0.4562 - val_loss: 1.2152 - val_accuracy: 0.4323\n",
            "Epoch 23/50\n",
            "991/991 [==============================] - 13s 13ms/step - loss: 1.1883 - accuracy: 0.4581 - val_loss: 1.2018 - val_accuracy: 0.4441\n",
            "Epoch 24/50\n",
            "991/991 [==============================] - 13s 13ms/step - loss: 1.1839 - accuracy: 0.4636 - val_loss: 1.1942 - val_accuracy: 0.4466\n",
            "Epoch 25/50\n",
            "991/991 [==============================] - 13s 13ms/step - loss: 1.1775 - accuracy: 0.4671 - val_loss: 1.1908 - val_accuracy: 0.4503\n",
            "Epoch 26/50\n",
            "991/991 [==============================] - 13s 13ms/step - loss: 1.1735 - accuracy: 0.4692 - val_loss: 1.1863 - val_accuracy: 0.4526\n",
            "Epoch 27/50\n",
            "991/991 [==============================] - 13s 13ms/step - loss: 1.1708 - accuracy: 0.4703 - val_loss: 1.1883 - val_accuracy: 0.4512\n",
            "Epoch 28/50\n",
            "991/991 [==============================] - 13s 13ms/step - loss: 1.1672 - accuracy: 0.4736 - val_loss: 1.2061 - val_accuracy: 0.4378\n",
            "Epoch 29/50\n",
            "991/991 [==============================] - 13s 13ms/step - loss: 1.1608 - accuracy: 0.4763 - val_loss: 1.1833 - val_accuracy: 0.4506\n",
            "Epoch 30/50\n",
            "991/991 [==============================] - 13s 13ms/step - loss: 1.1575 - accuracy: 0.4785 - val_loss: 1.1815 - val_accuracy: 0.4543\n",
            "Epoch 31/50\n",
            "991/991 [==============================] - 13s 13ms/step - loss: 1.1534 - accuracy: 0.4811 - val_loss: 1.1785 - val_accuracy: 0.4600\n",
            "Epoch 32/50\n",
            "991/991 [==============================] - 13s 13ms/step - loss: 1.1522 - accuracy: 0.4802 - val_loss: 1.1778 - val_accuracy: 0.4564\n",
            "Epoch 33/50\n",
            "991/991 [==============================] - 13s 13ms/step - loss: 1.1448 - accuracy: 0.4863 - val_loss: 1.1768 - val_accuracy: 0.4577\n",
            "Epoch 34/50\n",
            "991/991 [==============================] - 13s 13ms/step - loss: 1.1426 - accuracy: 0.4880 - val_loss: 1.1694 - val_accuracy: 0.4625\n",
            "Epoch 35/50\n",
            "991/991 [==============================] - 13s 13ms/step - loss: 1.1365 - accuracy: 0.4921 - val_loss: 1.1663 - val_accuracy: 0.4638\n",
            "Epoch 36/50\n",
            "991/991 [==============================] - 13s 13ms/step - loss: 1.1344 - accuracy: 0.4925 - val_loss: 1.1729 - val_accuracy: 0.4638\n",
            "Epoch 37/50\n",
            "991/991 [==============================] - 13s 13ms/step - loss: 1.1310 - accuracy: 0.4933 - val_loss: 1.1712 - val_accuracy: 0.4709\n",
            "Epoch 38/50\n",
            "991/991 [==============================] - 13s 13ms/step - loss: 1.1258 - accuracy: 0.4967 - val_loss: 1.1710 - val_accuracy: 0.4600\n",
            "Epoch 39/50\n",
            "991/991 [==============================] - 13s 13ms/step - loss: 1.1215 - accuracy: 0.5003 - val_loss: 1.1626 - val_accuracy: 0.4693\n",
            "Epoch 40/50\n",
            "991/991 [==============================] - 13s 13ms/step - loss: 1.1195 - accuracy: 0.5010 - val_loss: 1.1632 - val_accuracy: 0.4719\n",
            "Epoch 41/50\n",
            "991/991 [==============================] - 13s 13ms/step - loss: 1.1154 - accuracy: 0.5044 - val_loss: 1.1646 - val_accuracy: 0.4683\n",
            "Epoch 42/50\n",
            "991/991 [==============================] - 13s 13ms/step - loss: 1.1092 - accuracy: 0.5071 - val_loss: 1.1584 - val_accuracy: 0.4746\n",
            "Epoch 43/50\n",
            "991/991 [==============================] - 13s 13ms/step - loss: 1.1082 - accuracy: 0.5044 - val_loss: 1.1599 - val_accuracy: 0.4737\n",
            "Epoch 44/50\n",
            "991/991 [==============================] - 13s 13ms/step - loss: 1.1035 - accuracy: 0.5058 - val_loss: 1.1611 - val_accuracy: 0.4683\n",
            "Epoch 45/50\n",
            "991/991 [==============================] - 13s 13ms/step - loss: 1.0998 - accuracy: 0.5118 - val_loss: 1.1540 - val_accuracy: 0.4700\n",
            "Epoch 46/50\n",
            "991/991 [==============================] - 13s 13ms/step - loss: 1.0996 - accuracy: 0.5129 - val_loss: 1.1519 - val_accuracy: 0.4760\n",
            "Epoch 47/50\n",
            "991/991 [==============================] - 13s 13ms/step - loss: 1.0944 - accuracy: 0.5145 - val_loss: 1.1542 - val_accuracy: 0.4759\n",
            "Epoch 48/50\n",
            "991/991 [==============================] - 13s 13ms/step - loss: 1.0911 - accuracy: 0.5171 - val_loss: 1.1466 - val_accuracy: 0.4783\n",
            "Epoch 49/50\n",
            "991/991 [==============================] - 13s 13ms/step - loss: 1.0874 - accuracy: 0.5169 - val_loss: 1.1484 - val_accuracy: 0.4793\n",
            "Epoch 50/50\n",
            "991/991 [==============================] - 13s 13ms/step - loss: 1.0835 - accuracy: 0.5233 - val_loss: 1.1531 - val_accuracy: 0.4752\n"
          ]
        }
      ],
      "source": [
        "history_CNN_LSTM = model_CNN_LSTM.fit(xTrain, yTrain, epochs=50, batch_size=64, verbose=1, validation_split=0.1)"
      ]
    },
    {
      "cell_type": "code",
      "source": [
        "model_CNN_LSTM.evaluate(xTest, yTest)"
      ],
      "metadata": {
        "colab": {
          "base_uri": "https://localhost:8080/"
        },
        "id": "jroH6SW83bXm",
        "outputId": "581d78fb-7bac-45d0-ce0d-ef4dbaebe066"
      },
      "execution_count": null,
      "outputs": [
        {
          "output_type": "stream",
          "name": "stderr",
          "text": [
            "/usr/local/lib/python3.7/dist-packages/tensorflow/python/util/dispatch.py:1082: UserWarning: \"`categorical_crossentropy` received `from_logits=True`, but the `output` argument was produced by a sigmoid or softmax activation and thus does not represent logits. Was this intended?\"\n",
            "  return dispatch_target(*args, **kwargs)\n"
          ]
        },
        {
          "output_type": "stream",
          "name": "stdout",
          "text": [
            "2201/2201 [==============================] - 14s 6ms/step - loss: 1.0193 - accuracy: 0.5519\n"
          ]
        },
        {
          "output_type": "execute_result",
          "data": {
            "text/plain": [
              "[1.0193222761154175, 0.5518798232078552]"
            ]
          },
          "metadata": {},
          "execution_count": 19
        }
      ]
    },
    {
      "cell_type": "code",
      "source": [
        "history_CNN_LSTM = model_CNN_LSTM.fit(xTrain, yTrain, epochs=150, batch_size=64, verbose=1, validation_split=0.1)"
      ],
      "metadata": {
        "colab": {
          "base_uri": "https://localhost:8080/"
        },
        "id": "qiNhH6UEoUTe",
        "outputId": "a5759a6f-fb4a-4e87-a56d-528306b7bb07"
      },
      "execution_count": null,
      "outputs": [
        {
          "output_type": "stream",
          "name": "stdout",
          "text": [
            "Epoch 1/150\n",
            "991/991 [==============================] - 13s 13ms/step - loss: 1.0783 - accuracy: 0.5229 - val_loss: 1.1784 - val_accuracy: 0.4611\n",
            "Epoch 2/150\n",
            "991/991 [==============================] - 13s 13ms/step - loss: 1.0775 - accuracy: 0.5224 - val_loss: 1.1443 - val_accuracy: 0.4827\n",
            "Epoch 3/150\n",
            "991/991 [==============================] - 14s 14ms/step - loss: 1.0720 - accuracy: 0.5257 - val_loss: 1.1378 - val_accuracy: 0.4851\n",
            "Epoch 4/150\n",
            "991/991 [==============================] - 13s 13ms/step - loss: 1.0702 - accuracy: 0.5282 - val_loss: 1.1973 - val_accuracy: 0.4629\n",
            "Epoch 5/150\n",
            "991/991 [==============================] - 13s 13ms/step - loss: 1.0657 - accuracy: 0.5288 - val_loss: 1.1546 - val_accuracy: 0.4788\n",
            "Epoch 6/150\n",
            "991/991 [==============================] - 13s 13ms/step - loss: 1.0606 - accuracy: 0.5331 - val_loss: 1.1423 - val_accuracy: 0.4813\n",
            "Epoch 7/150\n",
            "991/991 [==============================] - 13s 13ms/step - loss: 1.0587 - accuracy: 0.5319 - val_loss: 1.1574 - val_accuracy: 0.4813\n",
            "Epoch 8/150\n",
            "991/991 [==============================] - 13s 13ms/step - loss: 1.0534 - accuracy: 0.5352 - val_loss: 1.1365 - val_accuracy: 0.4902\n",
            "Epoch 9/150\n",
            "991/991 [==============================] - 13s 13ms/step - loss: 1.0519 - accuracy: 0.5358 - val_loss: 1.1536 - val_accuracy: 0.4847\n",
            "Epoch 10/150\n",
            "991/991 [==============================] - 13s 13ms/step - loss: 1.0479 - accuracy: 0.5405 - val_loss: 1.1398 - val_accuracy: 0.4888\n",
            "Epoch 11/150\n",
            "991/991 [==============================] - 13s 13ms/step - loss: 1.0470 - accuracy: 0.5424 - val_loss: 1.1434 - val_accuracy: 0.4865\n",
            "Epoch 12/150\n",
            "991/991 [==============================] - 13s 13ms/step - loss: 1.0418 - accuracy: 0.5429 - val_loss: 1.1328 - val_accuracy: 0.4926\n",
            "Epoch 13/150\n",
            "991/991 [==============================] - 13s 13ms/step - loss: 1.0405 - accuracy: 0.5449 - val_loss: 1.1530 - val_accuracy: 0.4916\n",
            "Epoch 14/150\n",
            "991/991 [==============================] - 13s 13ms/step - loss: 1.0362 - accuracy: 0.5434 - val_loss: 1.1403 - val_accuracy: 0.4894\n",
            "Epoch 15/150\n",
            "991/991 [==============================] - 13s 13ms/step - loss: 1.0330 - accuracy: 0.5454 - val_loss: 1.1361 - val_accuracy: 0.4908\n",
            "Epoch 16/150\n",
            "991/991 [==============================] - 13s 13ms/step - loss: 1.0276 - accuracy: 0.5504 - val_loss: 1.1313 - val_accuracy: 0.4886\n",
            "Epoch 17/150\n",
            "991/991 [==============================] - 13s 13ms/step - loss: 1.0254 - accuracy: 0.5511 - val_loss: 1.1361 - val_accuracy: 0.4908\n",
            "Epoch 18/150\n",
            "991/991 [==============================] - 13s 13ms/step - loss: 1.0225 - accuracy: 0.5540 - val_loss: 1.1279 - val_accuracy: 0.4922\n",
            "Epoch 19/150\n",
            "991/991 [==============================] - 13s 13ms/step - loss: 1.0199 - accuracy: 0.5538 - val_loss: 1.1279 - val_accuracy: 0.4930\n",
            "Epoch 20/150\n",
            "991/991 [==============================] - 13s 13ms/step - loss: 1.0157 - accuracy: 0.5559 - val_loss: 1.1407 - val_accuracy: 0.4938\n",
            "Epoch 21/150\n",
            "991/991 [==============================] - 13s 13ms/step - loss: 1.0140 - accuracy: 0.5544 - val_loss: 1.1334 - val_accuracy: 0.4966\n",
            "Epoch 22/150\n",
            "991/991 [==============================] - 13s 13ms/step - loss: 1.0099 - accuracy: 0.5595 - val_loss: 1.1298 - val_accuracy: 0.4932\n",
            "Epoch 23/150\n",
            "991/991 [==============================] - 13s 13ms/step - loss: 1.0089 - accuracy: 0.5585 - val_loss: 1.1442 - val_accuracy: 0.4970\n",
            "Epoch 24/150\n",
            "991/991 [==============================] - 13s 13ms/step - loss: 1.0042 - accuracy: 0.5610 - val_loss: 1.1306 - val_accuracy: 0.5011\n",
            "Epoch 25/150\n",
            "991/991 [==============================] - 13s 13ms/step - loss: 1.0003 - accuracy: 0.5618 - val_loss: 1.1245 - val_accuracy: 0.4943\n",
            "Epoch 26/150\n",
            "991/991 [==============================] - 13s 13ms/step - loss: 0.9964 - accuracy: 0.5641 - val_loss: 1.1387 - val_accuracy: 0.4947\n",
            "Epoch 27/150\n",
            "991/991 [==============================] - 13s 13ms/step - loss: 0.9959 - accuracy: 0.5653 - val_loss: 1.1283 - val_accuracy: 0.5038\n",
            "Epoch 28/150\n",
            "991/991 [==============================] - 13s 13ms/step - loss: 0.9904 - accuracy: 0.5704 - val_loss: 1.1316 - val_accuracy: 0.5004\n",
            "Epoch 29/150\n",
            "991/991 [==============================] - 13s 13ms/step - loss: 0.9871 - accuracy: 0.5704 - val_loss: 1.1386 - val_accuracy: 0.4987\n",
            "Epoch 30/150\n",
            "991/991 [==============================] - 13s 13ms/step - loss: 0.9861 - accuracy: 0.5723 - val_loss: 1.1435 - val_accuracy: 0.4956\n",
            "Epoch 31/150\n",
            "991/991 [==============================] - 13s 13ms/step - loss: 0.9829 - accuracy: 0.5726 - val_loss: 1.1352 - val_accuracy: 0.5031\n",
            "Epoch 32/150\n",
            "991/991 [==============================] - 13s 13ms/step - loss: 0.9781 - accuracy: 0.5747 - val_loss: 1.1256 - val_accuracy: 0.5007\n",
            "Epoch 33/150\n",
            "991/991 [==============================] - 13s 13ms/step - loss: 0.9751 - accuracy: 0.5765 - val_loss: 1.1160 - val_accuracy: 0.5054\n",
            "Epoch 34/150\n",
            "991/991 [==============================] - 13s 13ms/step - loss: 0.9729 - accuracy: 0.5781 - val_loss: 1.1484 - val_accuracy: 0.4986\n",
            "Epoch 35/150\n",
            "991/991 [==============================] - 13s 13ms/step - loss: 0.9674 - accuracy: 0.5792 - val_loss: 1.1402 - val_accuracy: 0.4970\n",
            "Epoch 36/150\n",
            "991/991 [==============================] - 13s 13ms/step - loss: 0.9653 - accuracy: 0.5819 - val_loss: 1.1218 - val_accuracy: 0.5060\n",
            "Epoch 37/150\n",
            "991/991 [==============================] - 13s 13ms/step - loss: 0.9617 - accuracy: 0.5835 - val_loss: 1.1469 - val_accuracy: 0.4987\n",
            "Epoch 38/150\n",
            "991/991 [==============================] - 13s 13ms/step - loss: 0.9594 - accuracy: 0.5827 - val_loss: 1.1305 - val_accuracy: 0.5030\n",
            "Epoch 39/150\n",
            "991/991 [==============================] - 13s 13ms/step - loss: 0.9592 - accuracy: 0.5840 - val_loss: 1.1297 - val_accuracy: 0.5013\n",
            "Epoch 40/150\n",
            "991/991 [==============================] - 13s 13ms/step - loss: 0.9536 - accuracy: 0.5858 - val_loss: 1.1305 - val_accuracy: 0.5038\n",
            "Epoch 41/150\n",
            "991/991 [==============================] - 13s 13ms/step - loss: 0.9513 - accuracy: 0.5881 - val_loss: 1.1217 - val_accuracy: 0.5064\n",
            "Epoch 42/150\n",
            "991/991 [==============================] - 13s 13ms/step - loss: 0.9481 - accuracy: 0.5918 - val_loss: 1.1389 - val_accuracy: 0.5009\n",
            "Epoch 43/150\n",
            "991/991 [==============================] - 13s 13ms/step - loss: 0.9457 - accuracy: 0.5923 - val_loss: 1.1626 - val_accuracy: 0.5009\n",
            "Epoch 44/150\n",
            "991/991 [==============================] - 13s 13ms/step - loss: 0.9442 - accuracy: 0.5919 - val_loss: 1.1250 - val_accuracy: 0.5149\n",
            "Epoch 45/150\n",
            "991/991 [==============================] - 13s 13ms/step - loss: 0.9384 - accuracy: 0.5958 - val_loss: 1.1161 - val_accuracy: 0.5112\n",
            "Epoch 46/150\n",
            "991/991 [==============================] - 13s 13ms/step - loss: 0.9369 - accuracy: 0.5942 - val_loss: 1.1294 - val_accuracy: 0.5112\n",
            "Epoch 47/150\n",
            "991/991 [==============================] - 13s 13ms/step - loss: 0.9342 - accuracy: 0.5963 - val_loss: 1.1269 - val_accuracy: 0.5084\n",
            "Epoch 48/150\n",
            "991/991 [==============================] - 13s 13ms/step - loss: 0.9313 - accuracy: 0.5974 - val_loss: 1.1171 - val_accuracy: 0.5194\n",
            "Epoch 49/150\n",
            "991/991 [==============================] - 14s 14ms/step - loss: 0.9240 - accuracy: 0.6042 - val_loss: 1.1308 - val_accuracy: 0.5106\n",
            "Epoch 50/150\n",
            "991/991 [==============================] - 13s 13ms/step - loss: 0.9254 - accuracy: 0.6011 - val_loss: 1.1452 - val_accuracy: 0.5142\n",
            "Epoch 51/150\n",
            "991/991 [==============================] - 13s 13ms/step - loss: 0.9179 - accuracy: 0.6045 - val_loss: 1.1231 - val_accuracy: 0.5160\n",
            "Epoch 52/150\n",
            "991/991 [==============================] - 13s 13ms/step - loss: 0.9208 - accuracy: 0.6050 - val_loss: 1.1335 - val_accuracy: 0.5094\n",
            "Epoch 53/150\n",
            "991/991 [==============================] - 13s 13ms/step - loss: 0.9111 - accuracy: 0.6083 - val_loss: 1.1212 - val_accuracy: 0.5187\n",
            "Epoch 54/150\n",
            "991/991 [==============================] - 13s 13ms/step - loss: 0.9118 - accuracy: 0.6075 - val_loss: 1.1286 - val_accuracy: 0.5131\n",
            "Epoch 55/150\n",
            "991/991 [==============================] - 13s 13ms/step - loss: 0.9063 - accuracy: 0.6104 - val_loss: 1.1330 - val_accuracy: 0.5146\n",
            "Epoch 56/150\n",
            "991/991 [==============================] - 13s 13ms/step - loss: 0.9044 - accuracy: 0.6120 - val_loss: 1.1167 - val_accuracy: 0.5185\n",
            "Epoch 57/150\n",
            "991/991 [==============================] - 13s 13ms/step - loss: 0.9023 - accuracy: 0.6120 - val_loss: 1.1409 - val_accuracy: 0.5139\n",
            "Epoch 58/150\n",
            "991/991 [==============================] - 13s 13ms/step - loss: 0.9010 - accuracy: 0.6120 - val_loss: 1.1323 - val_accuracy: 0.5214\n",
            "Epoch 59/150\n",
            "991/991 [==============================] - 13s 13ms/step - loss: 0.8982 - accuracy: 0.6151 - val_loss: 1.1399 - val_accuracy: 0.5074\n",
            "Epoch 60/150\n",
            "991/991 [==============================] - 13s 13ms/step - loss: 0.8896 - accuracy: 0.6196 - val_loss: 1.1388 - val_accuracy: 0.5187\n",
            "Epoch 61/150\n",
            "991/991 [==============================] - 13s 13ms/step - loss: 0.8907 - accuracy: 0.6198 - val_loss: 1.1201 - val_accuracy: 0.5190\n",
            "Epoch 62/150\n",
            "991/991 [==============================] - 13s 13ms/step - loss: 0.8888 - accuracy: 0.6190 - val_loss: 1.1365 - val_accuracy: 0.5170\n",
            "Epoch 63/150\n",
            "991/991 [==============================] - 13s 13ms/step - loss: 0.8823 - accuracy: 0.6232 - val_loss: 1.1379 - val_accuracy: 0.5153\n",
            "Epoch 64/150\n",
            "991/991 [==============================] - 13s 13ms/step - loss: 0.8817 - accuracy: 0.6223 - val_loss: 1.1352 - val_accuracy: 0.5212\n",
            "Epoch 65/150\n",
            "991/991 [==============================] - 13s 13ms/step - loss: 0.8805 - accuracy: 0.6244 - val_loss: 1.1361 - val_accuracy: 0.5219\n",
            "Epoch 66/150\n",
            "991/991 [==============================] - 13s 13ms/step - loss: 0.8760 - accuracy: 0.6258 - val_loss: 1.1418 - val_accuracy: 0.5224\n",
            "Epoch 67/150\n",
            "991/991 [==============================] - 13s 13ms/step - loss: 0.8745 - accuracy: 0.6274 - val_loss: 1.1295 - val_accuracy: 0.5213\n",
            "Epoch 68/150\n",
            "991/991 [==============================] - 13s 13ms/step - loss: 0.8683 - accuracy: 0.6297 - val_loss: 1.1384 - val_accuracy: 0.5170\n",
            "Epoch 69/150\n",
            "991/991 [==============================] - 13s 13ms/step - loss: 0.8677 - accuracy: 0.6305 - val_loss: 1.1378 - val_accuracy: 0.5169\n",
            "Epoch 70/150\n",
            "991/991 [==============================] - 13s 13ms/step - loss: 0.8666 - accuracy: 0.6313 - val_loss: 1.1421 - val_accuracy: 0.5229\n",
            "Epoch 71/150\n",
            "991/991 [==============================] - 13s 13ms/step - loss: 0.8606 - accuracy: 0.6331 - val_loss: 1.1403 - val_accuracy: 0.5209\n",
            "Epoch 72/150\n",
            "991/991 [==============================] - 13s 13ms/step - loss: 0.8590 - accuracy: 0.6335 - val_loss: 1.1580 - val_accuracy: 0.5179\n",
            "Epoch 73/150\n",
            "991/991 [==============================] - 13s 13ms/step - loss: 0.8541 - accuracy: 0.6372 - val_loss: 1.1479 - val_accuracy: 0.5128\n",
            "Epoch 74/150\n",
            "991/991 [==============================] - 13s 13ms/step - loss: 0.8514 - accuracy: 0.6361 - val_loss: 1.1317 - val_accuracy: 0.5182\n",
            "Epoch 75/150\n",
            "991/991 [==============================] - 13s 13ms/step - loss: 0.8483 - accuracy: 0.6382 - val_loss: 1.1224 - val_accuracy: 0.5311\n",
            "Epoch 76/150\n",
            "991/991 [==============================] - 13s 13ms/step - loss: 0.8466 - accuracy: 0.6400 - val_loss: 1.1405 - val_accuracy: 0.5294\n",
            "Epoch 77/150\n",
            "991/991 [==============================] - 13s 13ms/step - loss: 0.8457 - accuracy: 0.6412 - val_loss: 1.2515 - val_accuracy: 0.5030\n",
            "Epoch 78/150\n",
            "991/991 [==============================] - 13s 13ms/step - loss: 0.8432 - accuracy: 0.6410 - val_loss: 1.1354 - val_accuracy: 0.5270\n",
            "Epoch 79/150\n",
            "991/991 [==============================] - 13s 13ms/step - loss: 0.8373 - accuracy: 0.6461 - val_loss: 1.1316 - val_accuracy: 0.5253\n",
            "Epoch 80/150\n",
            "991/991 [==============================] - 13s 13ms/step - loss: 0.8326 - accuracy: 0.6454 - val_loss: 1.1525 - val_accuracy: 0.5180\n",
            "Epoch 81/150\n",
            "991/991 [==============================] - 13s 13ms/step - loss: 0.8332 - accuracy: 0.6466 - val_loss: 1.1459 - val_accuracy: 0.5295\n",
            "Epoch 82/150\n",
            "991/991 [==============================] - 13s 13ms/step - loss: 0.8274 - accuracy: 0.6491 - val_loss: 1.1513 - val_accuracy: 0.5240\n",
            "Epoch 83/150\n",
            "991/991 [==============================] - 13s 13ms/step - loss: 0.8225 - accuracy: 0.6518 - val_loss: 1.1428 - val_accuracy: 0.5261\n",
            "Epoch 84/150\n",
            "991/991 [==============================] - 13s 13ms/step - loss: 0.8270 - accuracy: 0.6497 - val_loss: 1.1588 - val_accuracy: 0.5231\n",
            "Epoch 85/150\n",
            "991/991 [==============================] - 13s 13ms/step - loss: 0.8214 - accuracy: 0.6521 - val_loss: 1.1843 - val_accuracy: 0.5209\n",
            "Epoch 86/150\n",
            "991/991 [==============================] - 13s 13ms/step - loss: 0.8170 - accuracy: 0.6552 - val_loss: 1.1544 - val_accuracy: 0.5239\n",
            "Epoch 87/150\n",
            "991/991 [==============================] - 13s 13ms/step - loss: 0.8117 - accuracy: 0.6584 - val_loss: 1.1628 - val_accuracy: 0.5292\n",
            "Epoch 88/150\n",
            "991/991 [==============================] - 13s 13ms/step - loss: 0.8084 - accuracy: 0.6589 - val_loss: 1.1550 - val_accuracy: 0.5308\n",
            "Epoch 89/150\n",
            "991/991 [==============================] - 13s 13ms/step - loss: 0.8116 - accuracy: 0.6581 - val_loss: 1.1761 - val_accuracy: 0.5274\n",
            "Epoch 90/150\n",
            "991/991 [==============================] - 13s 13ms/step - loss: 0.8055 - accuracy: 0.6592 - val_loss: 1.1664 - val_accuracy: 0.5274\n",
            "Epoch 91/150\n",
            "991/991 [==============================] - 13s 13ms/step - loss: 0.8035 - accuracy: 0.6614 - val_loss: 1.1807 - val_accuracy: 0.5196\n",
            "Epoch 92/150\n",
            "991/991 [==============================] - 13s 13ms/step - loss: 0.7978 - accuracy: 0.6634 - val_loss: 1.1649 - val_accuracy: 0.5283\n",
            "Epoch 93/150\n",
            "991/991 [==============================] - 13s 13ms/step - loss: 0.7982 - accuracy: 0.6638 - val_loss: 1.1656 - val_accuracy: 0.5332\n",
            "Epoch 94/150\n",
            "991/991 [==============================] - 14s 14ms/step - loss: 0.7923 - accuracy: 0.6667 - val_loss: 1.1687 - val_accuracy: 0.5334\n",
            "Epoch 95/150\n",
            "991/991 [==============================] - 13s 13ms/step - loss: 0.7908 - accuracy: 0.6671 - val_loss: 1.1650 - val_accuracy: 0.5223\n",
            "Epoch 96/150\n",
            "991/991 [==============================] - 13s 13ms/step - loss: 0.7901 - accuracy: 0.6672 - val_loss: 1.1681 - val_accuracy: 0.5270\n",
            "Epoch 97/150\n",
            "991/991 [==============================] - 13s 13ms/step - loss: 0.7841 - accuracy: 0.6715 - val_loss: 1.1459 - val_accuracy: 0.5355\n",
            "Epoch 98/150\n",
            "991/991 [==============================] - 13s 13ms/step - loss: 0.7798 - accuracy: 0.6727 - val_loss: 1.2106 - val_accuracy: 0.5223\n",
            "Epoch 99/150\n",
            "991/991 [==============================] - 13s 13ms/step - loss: 0.7786 - accuracy: 0.6735 - val_loss: 1.1811 - val_accuracy: 0.5312\n",
            "Epoch 100/150\n",
            "991/991 [==============================] - 13s 13ms/step - loss: 0.7738 - accuracy: 0.6757 - val_loss: 1.1774 - val_accuracy: 0.5321\n",
            "Epoch 101/150\n",
            "991/991 [==============================] - 13s 13ms/step - loss: 0.7709 - accuracy: 0.6742 - val_loss: 1.2033 - val_accuracy: 0.5254\n",
            "Epoch 102/150\n",
            "991/991 [==============================] - 13s 13ms/step - loss: 0.7698 - accuracy: 0.6764 - val_loss: 1.1872 - val_accuracy: 0.5254\n",
            "Epoch 103/150\n",
            "991/991 [==============================] - 13s 13ms/step - loss: 0.7646 - accuracy: 0.6784 - val_loss: 1.1904 - val_accuracy: 0.5321\n",
            "Epoch 104/150\n",
            "991/991 [==============================] - 13s 13ms/step - loss: 0.7626 - accuracy: 0.6806 - val_loss: 1.1790 - val_accuracy: 0.5334\n",
            "Epoch 105/150\n",
            "991/991 [==============================] - 13s 13ms/step - loss: 0.7579 - accuracy: 0.6837 - val_loss: 1.1764 - val_accuracy: 0.5325\n",
            "Epoch 106/150\n",
            "991/991 [==============================] - 13s 13ms/step - loss: 0.7570 - accuracy: 0.6813 - val_loss: 1.1803 - val_accuracy: 0.5327\n",
            "Epoch 107/150\n",
            "991/991 [==============================] - 13s 13ms/step - loss: 0.7559 - accuracy: 0.6833 - val_loss: 1.1584 - val_accuracy: 0.5324\n",
            "Epoch 108/150\n",
            "991/991 [==============================] - 13s 13ms/step - loss: 0.7502 - accuracy: 0.6872 - val_loss: 1.1749 - val_accuracy: 0.5355\n",
            "Epoch 109/150\n",
            "991/991 [==============================] - 13s 13ms/step - loss: 0.7506 - accuracy: 0.6858 - val_loss: 1.1879 - val_accuracy: 0.5329\n",
            "Epoch 110/150\n",
            "991/991 [==============================] - 13s 13ms/step - loss: 0.7437 - accuracy: 0.6885 - val_loss: 1.1659 - val_accuracy: 0.5407\n",
            "Epoch 111/150\n",
            "991/991 [==============================] - 13s 13ms/step - loss: 0.7417 - accuracy: 0.6897 - val_loss: 1.1915 - val_accuracy: 0.5342\n",
            "Epoch 112/150\n",
            "991/991 [==============================] - 13s 13ms/step - loss: 0.7365 - accuracy: 0.6923 - val_loss: 1.1948 - val_accuracy: 0.5368\n",
            "Epoch 113/150\n",
            "991/991 [==============================] - 13s 13ms/step - loss: 0.7367 - accuracy: 0.6924 - val_loss: 1.1915 - val_accuracy: 0.5298\n",
            "Epoch 114/150\n",
            "991/991 [==============================] - 13s 13ms/step - loss: 0.7309 - accuracy: 0.6938 - val_loss: 1.2631 - val_accuracy: 0.5315\n",
            "Epoch 115/150\n",
            "991/991 [==============================] - 13s 13ms/step - loss: 0.7313 - accuracy: 0.6958 - val_loss: 1.1719 - val_accuracy: 0.5372\n",
            "Epoch 116/150\n",
            "991/991 [==============================] - 13s 13ms/step - loss: 0.7261 - accuracy: 0.6960 - val_loss: 1.2322 - val_accuracy: 0.5325\n",
            "Epoch 117/150\n",
            "991/991 [==============================] - 13s 13ms/step - loss: 0.7233 - accuracy: 0.6994 - val_loss: 1.1551 - val_accuracy: 0.5436\n",
            "Epoch 118/150\n",
            "991/991 [==============================] - 13s 13ms/step - loss: 0.7186 - accuracy: 0.7011 - val_loss: 1.1994 - val_accuracy: 0.5314\n",
            "Epoch 119/150\n",
            "991/991 [==============================] - 13s 13ms/step - loss: 0.7160 - accuracy: 0.7029 - val_loss: 1.2011 - val_accuracy: 0.5383\n",
            "Epoch 120/150\n",
            "991/991 [==============================] - 13s 13ms/step - loss: 0.7124 - accuracy: 0.7035 - val_loss: 1.2122 - val_accuracy: 0.5395\n",
            "Epoch 121/150\n",
            "991/991 [==============================] - 13s 13ms/step - loss: 0.7105 - accuracy: 0.7048 - val_loss: 1.2501 - val_accuracy: 0.5345\n",
            "Epoch 122/150\n",
            "991/991 [==============================] - 13s 13ms/step - loss: 0.7090 - accuracy: 0.7068 - val_loss: 1.1758 - val_accuracy: 0.5433\n",
            "Epoch 123/150\n",
            "991/991 [==============================] - 13s 13ms/step - loss: 0.7012 - accuracy: 0.7095 - val_loss: 1.2429 - val_accuracy: 0.5353\n",
            "Epoch 124/150\n",
            "991/991 [==============================] - 13s 13ms/step - loss: 0.6976 - accuracy: 0.7122 - val_loss: 1.1999 - val_accuracy: 0.5434\n",
            "Epoch 125/150\n",
            "991/991 [==============================] - 13s 13ms/step - loss: 0.6987 - accuracy: 0.7100 - val_loss: 1.1949 - val_accuracy: 0.5468\n",
            "Epoch 126/150\n",
            "991/991 [==============================] - 13s 13ms/step - loss: 0.6921 - accuracy: 0.7146 - val_loss: 1.2442 - val_accuracy: 0.5339\n",
            "Epoch 127/150\n",
            "991/991 [==============================] - 13s 13ms/step - loss: 0.6890 - accuracy: 0.7158 - val_loss: 1.1960 - val_accuracy: 0.5395\n",
            "Epoch 128/150\n",
            "991/991 [==============================] - 13s 13ms/step - loss: 0.6886 - accuracy: 0.7146 - val_loss: 1.2624 - val_accuracy: 0.5363\n",
            "Epoch 129/150\n",
            "991/991 [==============================] - 13s 13ms/step - loss: 0.6827 - accuracy: 0.7202 - val_loss: 1.2176 - val_accuracy: 0.5419\n",
            "Epoch 130/150\n",
            "991/991 [==============================] - 13s 13ms/step - loss: 0.6830 - accuracy: 0.7180 - val_loss: 1.2118 - val_accuracy: 0.5477\n",
            "Epoch 131/150\n",
            "991/991 [==============================] - 13s 13ms/step - loss: 0.6762 - accuracy: 0.7232 - val_loss: 1.2170 - val_accuracy: 0.5396\n",
            "Epoch 132/150\n",
            "991/991 [==============================] - 13s 13ms/step - loss: 0.6770 - accuracy: 0.7198 - val_loss: 1.1896 - val_accuracy: 0.5398\n",
            "Epoch 133/150\n",
            "991/991 [==============================] - 13s 13ms/step - loss: 0.6703 - accuracy: 0.7225 - val_loss: 1.2415 - val_accuracy: 0.5366\n",
            "Epoch 134/150\n",
            "991/991 [==============================] - 13s 13ms/step - loss: 0.6688 - accuracy: 0.7247 - val_loss: 1.1961 - val_accuracy: 0.5413\n",
            "Epoch 135/150\n",
            "991/991 [==============================] - 13s 13ms/step - loss: 0.6647 - accuracy: 0.7273 - val_loss: 1.2812 - val_accuracy: 0.5331\n",
            "Epoch 136/150\n",
            "991/991 [==============================] - 13s 13ms/step - loss: 0.6649 - accuracy: 0.7253 - val_loss: 1.2581 - val_accuracy: 0.5410\n",
            "Epoch 137/150\n",
            "991/991 [==============================] - 13s 13ms/step - loss: 0.6635 - accuracy: 0.7276 - val_loss: 1.2365 - val_accuracy: 0.5379\n",
            "Epoch 138/150\n",
            "991/991 [==============================] - 13s 13ms/step - loss: 0.6597 - accuracy: 0.7274 - val_loss: 1.2820 - val_accuracy: 0.5405\n",
            "Epoch 139/150\n",
            "991/991 [==============================] - 14s 14ms/step - loss: 0.6572 - accuracy: 0.7308 - val_loss: 1.2638 - val_accuracy: 0.5336\n",
            "Epoch 140/150\n",
            "991/991 [==============================] - 13s 13ms/step - loss: 0.6491 - accuracy: 0.7332 - val_loss: 1.2902 - val_accuracy: 0.5439\n",
            "Epoch 141/150\n",
            "991/991 [==============================] - 13s 13ms/step - loss: 0.6470 - accuracy: 0.7346 - val_loss: 1.2916 - val_accuracy: 0.5426\n",
            "Epoch 142/150\n",
            "991/991 [==============================] - 13s 13ms/step - loss: 0.6438 - accuracy: 0.7379 - val_loss: 1.2097 - val_accuracy: 0.5436\n",
            "Epoch 143/150\n",
            "991/991 [==============================] - 13s 13ms/step - loss: 0.6412 - accuracy: 0.7362 - val_loss: 1.2986 - val_accuracy: 0.5427\n",
            "Epoch 144/150\n",
            "991/991 [==============================] - 13s 13ms/step - loss: 0.6394 - accuracy: 0.7388 - val_loss: 1.2802 - val_accuracy: 0.5459\n",
            "Epoch 145/150\n",
            "991/991 [==============================] - 13s 13ms/step - loss: 0.6405 - accuracy: 0.7383 - val_loss: 1.2938 - val_accuracy: 0.5432\n",
            "Epoch 146/150\n",
            "991/991 [==============================] - 13s 13ms/step - loss: 0.6360 - accuracy: 0.7398 - val_loss: 1.3637 - val_accuracy: 0.5369\n",
            "Epoch 147/150\n",
            "991/991 [==============================] - 13s 13ms/step - loss: 0.6298 - accuracy: 0.7435 - val_loss: 1.2857 - val_accuracy: 0.5442\n",
            "Epoch 148/150\n",
            "991/991 [==============================] - 13s 13ms/step - loss: 0.6303 - accuracy: 0.7431 - val_loss: 1.3014 - val_accuracy: 0.5427\n",
            "Epoch 149/150\n",
            "991/991 [==============================] - 13s 13ms/step - loss: 0.6232 - accuracy: 0.7460 - val_loss: 1.2706 - val_accuracy: 0.5406\n",
            "Epoch 150/150\n",
            "991/991 [==============================] - 13s 13ms/step - loss: 0.6189 - accuracy: 0.7466 - val_loss: 1.3010 - val_accuracy: 0.5389\n"
          ]
        }
      ]
    },
    {
      "cell_type": "code",
      "source": [
        "model_CNN_LSTM.evaluate(xTest, yTest)"
      ],
      "metadata": {
        "id": "hF9zqY-RzGz3",
        "colab": {
          "base_uri": "https://localhost:8080/"
        },
        "outputId": "a34bc42e-17a4-4be6-c734-7ef14c349b15"
      },
      "execution_count": null,
      "outputs": [
        {
          "output_type": "stream",
          "name": "stdout",
          "text": [
            "2201/2201 [==============================] - 13s 6ms/step - loss: 0.5842 - accuracy: 0.7690\n"
          ]
        },
        {
          "output_type": "execute_result",
          "data": {
            "text/plain": [
              "[0.5841527581214905, 0.7689686417579651]"
            ]
          },
          "metadata": {},
          "execution_count": 21
        }
      ]
    },
    {
      "cell_type": "code",
      "source": [
        "history_CNN_LSTM = model_CNN_LSTM.fit(xTrain, yTrain, epochs=150, batch_size=128, verbose=1, validation_split=0.1)"
      ],
      "metadata": {
        "id": "Qkm9J3DeaXPA",
        "colab": {
          "base_uri": "https://localhost:8080/"
        },
        "outputId": "f6ff275e-d787-43eb-ec2b-1749f133c700"
      },
      "execution_count": null,
      "outputs": [
        {
          "output_type": "stream",
          "name": "stdout",
          "text": [
            "Epoch 1/150\n",
            "496/496 [==============================] - 7s 15ms/step - loss: 0.5333 - accuracy: 0.7839 - val_loss: 1.3866 - val_accuracy: 0.5442\n",
            "Epoch 2/150\n",
            "496/496 [==============================] - 7s 14ms/step - loss: 0.5306 - accuracy: 0.7840 - val_loss: 1.3849 - val_accuracy: 0.5468\n",
            "Epoch 3/150\n",
            "496/496 [==============================] - 7s 14ms/step - loss: 0.5265 - accuracy: 0.7877 - val_loss: 1.4474 - val_accuracy: 0.5464\n",
            "Epoch 4/150\n",
            "496/496 [==============================] - 7s 14ms/step - loss: 0.5244 - accuracy: 0.7875 - val_loss: 1.4394 - val_accuracy: 0.5450\n",
            "Epoch 5/150\n",
            "496/496 [==============================] - 7s 14ms/step - loss: 0.5220 - accuracy: 0.7878 - val_loss: 1.4234 - val_accuracy: 0.5484\n",
            "Epoch 6/150\n",
            "496/496 [==============================] - 7s 14ms/step - loss: 0.5198 - accuracy: 0.7903 - val_loss: 1.4066 - val_accuracy: 0.5480\n",
            "Epoch 7/150\n",
            "496/496 [==============================] - 7s 14ms/step - loss: 0.5177 - accuracy: 0.7910 - val_loss: 1.3992 - val_accuracy: 0.5461\n",
            "Epoch 8/150\n",
            "496/496 [==============================] - 7s 14ms/step - loss: 0.5161 - accuracy: 0.7906 - val_loss: 1.4494 - val_accuracy: 0.5466\n",
            "Epoch 9/150\n",
            "496/496 [==============================] - 7s 14ms/step - loss: 0.5156 - accuracy: 0.7927 - val_loss: 1.4368 - val_accuracy: 0.5493\n",
            "Epoch 10/150\n",
            "496/496 [==============================] - 7s 14ms/step - loss: 0.5093 - accuracy: 0.7956 - val_loss: 1.4534 - val_accuracy: 0.5426\n",
            "Epoch 11/150\n",
            "496/496 [==============================] - 7s 14ms/step - loss: 0.5090 - accuracy: 0.7941 - val_loss: 1.4628 - val_accuracy: 0.5443\n",
            "Epoch 12/150\n",
            "496/496 [==============================] - 7s 14ms/step - loss: 0.4995 - accuracy: 0.7979 - val_loss: 1.5015 - val_accuracy: 0.5497\n",
            "Epoch 13/150\n",
            "496/496 [==============================] - 7s 14ms/step - loss: 0.5055 - accuracy: 0.7967 - val_loss: 1.5061 - val_accuracy: 0.5463\n",
            "Epoch 14/150\n",
            "496/496 [==============================] - 7s 14ms/step - loss: 0.4972 - accuracy: 0.7998 - val_loss: 1.5303 - val_accuracy: 0.5483\n",
            "Epoch 15/150\n",
            "496/496 [==============================] - 7s 14ms/step - loss: 0.4981 - accuracy: 0.7985 - val_loss: 1.5111 - val_accuracy: 0.5389\n",
            "Epoch 16/150\n",
            "496/496 [==============================] - 7s 14ms/step - loss: 0.4910 - accuracy: 0.8035 - val_loss: 1.5215 - val_accuracy: 0.5495\n",
            "Epoch 17/150\n",
            "496/496 [==============================] - 7s 14ms/step - loss: 0.4928 - accuracy: 0.8024 - val_loss: 1.5340 - val_accuracy: 0.5434\n",
            "Epoch 18/150\n",
            "496/496 [==============================] - 7s 14ms/step - loss: 0.4869 - accuracy: 0.8045 - val_loss: 1.5414 - val_accuracy: 0.5459\n",
            "Epoch 19/150\n",
            "496/496 [==============================] - 7s 14ms/step - loss: 0.4849 - accuracy: 0.8053 - val_loss: 1.4901 - val_accuracy: 0.5454\n",
            "Epoch 20/150\n",
            "496/496 [==============================] - 7s 15ms/step - loss: 0.4788 - accuracy: 0.8075 - val_loss: 1.5385 - val_accuracy: 0.5436\n",
            "Epoch 21/150\n",
            "496/496 [==============================] - 7s 15ms/step - loss: 0.4827 - accuracy: 0.8066 - val_loss: 1.5066 - val_accuracy: 0.5477\n",
            "Epoch 22/150\n",
            "496/496 [==============================] - 7s 15ms/step - loss: 0.4763 - accuracy: 0.8082 - val_loss: 1.5296 - val_accuracy: 0.5429\n",
            "Epoch 23/150\n",
            "496/496 [==============================] - 7s 14ms/step - loss: 0.4761 - accuracy: 0.8102 - val_loss: 1.5527 - val_accuracy: 0.5480\n",
            "Epoch 24/150\n",
            "496/496 [==============================] - 7s 14ms/step - loss: 0.4736 - accuracy: 0.8109 - val_loss: 1.5840 - val_accuracy: 0.5385\n",
            "Epoch 25/150\n",
            "496/496 [==============================] - 7s 14ms/step - loss: 0.4695 - accuracy: 0.8122 - val_loss: 1.5354 - val_accuracy: 0.5449\n",
            "Epoch 26/150\n",
            "496/496 [==============================] - 7s 14ms/step - loss: 0.4698 - accuracy: 0.8122 - val_loss: 1.5414 - val_accuracy: 0.5460\n",
            "Epoch 27/150\n",
            "496/496 [==============================] - 7s 15ms/step - loss: 0.4637 - accuracy: 0.8157 - val_loss: 1.5919 - val_accuracy: 0.5470\n",
            "Epoch 28/150\n",
            "496/496 [==============================] - 7s 14ms/step - loss: 0.4634 - accuracy: 0.8147 - val_loss: 1.5866 - val_accuracy: 0.5453\n",
            "Epoch 29/150\n",
            "496/496 [==============================] - 7s 14ms/step - loss: 0.4590 - accuracy: 0.8167 - val_loss: 1.5836 - val_accuracy: 0.5386\n",
            "Epoch 30/150\n",
            "496/496 [==============================] - 7s 14ms/step - loss: 0.4585 - accuracy: 0.8162 - val_loss: 1.5447 - val_accuracy: 0.5420\n",
            "Epoch 31/150\n",
            "496/496 [==============================] - 7s 14ms/step - loss: 0.4571 - accuracy: 0.8184 - val_loss: 1.6510 - val_accuracy: 0.5483\n",
            "Epoch 32/150\n",
            "496/496 [==============================] - 7s 14ms/step - loss: 0.4470 - accuracy: 0.8235 - val_loss: 1.5993 - val_accuracy: 0.5460\n",
            "Epoch 33/150\n",
            "496/496 [==============================] - 7s 14ms/step - loss: 0.4531 - accuracy: 0.8190 - val_loss: 1.6274 - val_accuracy: 0.5450\n",
            "Epoch 34/150\n",
            "496/496 [==============================] - 7s 14ms/step - loss: 0.4446 - accuracy: 0.8229 - val_loss: 1.6582 - val_accuracy: 0.5480\n",
            "Epoch 35/150\n",
            "496/496 [==============================] - 7s 14ms/step - loss: 0.4410 - accuracy: 0.8250 - val_loss: 1.5929 - val_accuracy: 0.5463\n",
            "Epoch 36/150\n",
            "496/496 [==============================] - 7s 14ms/step - loss: 0.4445 - accuracy: 0.8250 - val_loss: 1.6904 - val_accuracy: 0.5456\n",
            "Epoch 37/150\n",
            "496/496 [==============================] - 7s 14ms/step - loss: 0.4388 - accuracy: 0.8260 - val_loss: 1.6371 - val_accuracy: 0.5439\n",
            "Epoch 38/150\n",
            "496/496 [==============================] - 7s 14ms/step - loss: 0.4354 - accuracy: 0.8271 - val_loss: 1.6915 - val_accuracy: 0.5466\n",
            "Epoch 39/150\n",
            "496/496 [==============================] - 7s 14ms/step - loss: 0.4307 - accuracy: 0.8296 - val_loss: 1.6954 - val_accuracy: 0.5456\n",
            "Epoch 40/150\n",
            "496/496 [==============================] - 7s 15ms/step - loss: 0.4304 - accuracy: 0.8294 - val_loss: 1.6359 - val_accuracy: 0.5413\n",
            "Epoch 41/150\n",
            "496/496 [==============================] - 7s 14ms/step - loss: 0.4290 - accuracy: 0.8300 - val_loss: 1.6548 - val_accuracy: 0.5521\n",
            "Epoch 42/150\n",
            "496/496 [==============================] - 7s 14ms/step - loss: 0.4292 - accuracy: 0.8286 - val_loss: 1.6887 - val_accuracy: 0.5432\n",
            "Epoch 43/150\n",
            "496/496 [==============================] - 7s 14ms/step - loss: 0.4233 - accuracy: 0.8341 - val_loss: 1.7172 - val_accuracy: 0.5443\n",
            "Epoch 44/150\n",
            "496/496 [==============================] - 7s 14ms/step - loss: 0.4211 - accuracy: 0.8320 - val_loss: 1.7175 - val_accuracy: 0.5433\n",
            "Epoch 45/150\n",
            "496/496 [==============================] - 7s 14ms/step - loss: 0.4187 - accuracy: 0.8334 - val_loss: 1.6517 - val_accuracy: 0.5457\n",
            "Epoch 46/150\n",
            "496/496 [==============================] - 7s 14ms/step - loss: 0.4188 - accuracy: 0.8349 - val_loss: 1.6859 - val_accuracy: 0.5480\n",
            "Epoch 47/150\n",
            "496/496 [==============================] - 7s 14ms/step - loss: 0.4156 - accuracy: 0.8348 - val_loss: 1.6965 - val_accuracy: 0.5494\n",
            "Epoch 48/150\n",
            "496/496 [==============================] - 7s 14ms/step - loss: 0.4137 - accuracy: 0.8358 - val_loss: 1.7552 - val_accuracy: 0.5413\n",
            "Epoch 49/150\n",
            "496/496 [==============================] - 7s 14ms/step - loss: 0.4069 - accuracy: 0.8393 - val_loss: 1.7532 - val_accuracy: 0.5373\n",
            "Epoch 50/150\n",
            "496/496 [==============================] - 7s 15ms/step - loss: 0.4095 - accuracy: 0.8377 - val_loss: 1.7683 - val_accuracy: 0.5501\n",
            "Epoch 51/150\n",
            "496/496 [==============================] - 7s 15ms/step - loss: 0.4083 - accuracy: 0.8396 - val_loss: 1.6993 - val_accuracy: 0.5416\n",
            "Epoch 52/150\n",
            "496/496 [==============================] - 7s 14ms/step - loss: 0.4042 - accuracy: 0.8395 - val_loss: 1.7173 - val_accuracy: 0.5500\n",
            "Epoch 53/150\n",
            "496/496 [==============================] - 7s 14ms/step - loss: 0.3979 - accuracy: 0.8436 - val_loss: 1.7624 - val_accuracy: 0.5454\n",
            "Epoch 54/150\n",
            "496/496 [==============================] - 7s 14ms/step - loss: 0.3996 - accuracy: 0.8421 - val_loss: 1.7772 - val_accuracy: 0.5478\n",
            "Epoch 55/150\n",
            "496/496 [==============================] - 7s 14ms/step - loss: 0.3961 - accuracy: 0.8443 - val_loss: 1.7785 - val_accuracy: 0.5412\n",
            "Epoch 56/150\n",
            "496/496 [==============================] - 7s 14ms/step - loss: 0.3932 - accuracy: 0.8452 - val_loss: 1.7624 - val_accuracy: 0.5420\n",
            "Epoch 57/150\n",
            "496/496 [==============================] - 7s 15ms/step - loss: 0.3940 - accuracy: 0.8458 - val_loss: 1.6956 - val_accuracy: 0.5456\n",
            "Epoch 58/150\n",
            "496/496 [==============================] - 7s 14ms/step - loss: 0.3905 - accuracy: 0.8463 - val_loss: 1.7161 - val_accuracy: 0.5433\n",
            "Epoch 59/150\n",
            "496/496 [==============================] - 7s 14ms/step - loss: 0.3868 - accuracy: 0.8474 - val_loss: 1.7733 - val_accuracy: 0.5395\n",
            "Epoch 60/150\n",
            "496/496 [==============================] - 8s 16ms/step - loss: 0.3860 - accuracy: 0.8480 - val_loss: 1.7659 - val_accuracy: 0.5396\n",
            "Epoch 61/150\n",
            "496/496 [==============================] - 7s 14ms/step - loss: 0.3842 - accuracy: 0.8489 - val_loss: 1.7580 - val_accuracy: 0.5447\n",
            "Epoch 62/150\n",
            "496/496 [==============================] - 7s 14ms/step - loss: 0.3820 - accuracy: 0.8497 - val_loss: 1.7434 - val_accuracy: 0.5500\n",
            "Epoch 63/150\n",
            "496/496 [==============================] - 7s 15ms/step - loss: 0.3764 - accuracy: 0.8511 - val_loss: 1.8244 - val_accuracy: 0.5453\n",
            "Epoch 64/150\n",
            "496/496 [==============================] - 7s 15ms/step - loss: 0.3828 - accuracy: 0.8505 - val_loss: 1.7799 - val_accuracy: 0.5453\n",
            "Epoch 65/150\n",
            "496/496 [==============================] - 7s 14ms/step - loss: 0.3756 - accuracy: 0.8534 - val_loss: 1.7925 - val_accuracy: 0.5460\n",
            "Epoch 66/150\n",
            "496/496 [==============================] - 7s 14ms/step - loss: 0.3716 - accuracy: 0.8547 - val_loss: 1.7588 - val_accuracy: 0.5453\n",
            "Epoch 67/150\n",
            "496/496 [==============================] - 7s 14ms/step - loss: 0.3710 - accuracy: 0.8545 - val_loss: 1.8532 - val_accuracy: 0.5463\n",
            "Epoch 68/150\n",
            "496/496 [==============================] - 7s 14ms/step - loss: 0.3720 - accuracy: 0.8556 - val_loss: 1.8641 - val_accuracy: 0.5451\n",
            "Epoch 69/150\n",
            "496/496 [==============================] - 7s 15ms/step - loss: 0.3710 - accuracy: 0.8555 - val_loss: 1.8050 - val_accuracy: 0.5442\n",
            "Epoch 70/150\n",
            "496/496 [==============================] - 7s 14ms/step - loss: 0.3605 - accuracy: 0.8581 - val_loss: 1.8373 - val_accuracy: 0.5470\n",
            "Epoch 71/150\n",
            "496/496 [==============================] - 7s 15ms/step - loss: 0.3644 - accuracy: 0.8588 - val_loss: 1.8344 - val_accuracy: 0.5436\n",
            "Epoch 72/150\n",
            "496/496 [==============================] - 7s 14ms/step - loss: 0.3618 - accuracy: 0.8587 - val_loss: 1.8289 - val_accuracy: 0.5453\n",
            "Epoch 73/150\n",
            "496/496 [==============================] - 7s 15ms/step - loss: 0.3575 - accuracy: 0.8616 - val_loss: 1.8615 - val_accuracy: 0.5464\n",
            "Epoch 74/150\n",
            "496/496 [==============================] - 7s 14ms/step - loss: 0.3594 - accuracy: 0.8606 - val_loss: 1.8480 - val_accuracy: 0.5480\n",
            "Epoch 75/150\n",
            "496/496 [==============================] - 7s 15ms/step - loss: 0.3529 - accuracy: 0.8637 - val_loss: 1.8586 - val_accuracy: 0.5439\n",
            "Epoch 76/150\n",
            "496/496 [==============================] - 7s 14ms/step - loss: 0.3581 - accuracy: 0.8607 - val_loss: 1.8922 - val_accuracy: 0.5457\n",
            "Epoch 77/150\n",
            "496/496 [==============================] - 7s 14ms/step - loss: 0.3530 - accuracy: 0.8644 - val_loss: 1.8260 - val_accuracy: 0.5443\n",
            "Epoch 78/150\n",
            "496/496 [==============================] - 7s 14ms/step - loss: 0.3488 - accuracy: 0.8650 - val_loss: 1.8721 - val_accuracy: 0.5461\n",
            "Epoch 79/150\n",
            "496/496 [==============================] - 7s 14ms/step - loss: 0.3440 - accuracy: 0.8667 - val_loss: 1.9300 - val_accuracy: 0.5473\n",
            "Epoch 80/150\n",
            "496/496 [==============================] - 7s 14ms/step - loss: 0.3474 - accuracy: 0.8652 - val_loss: 1.8547 - val_accuracy: 0.5437\n",
            "Epoch 81/150\n",
            "496/496 [==============================] - 7s 14ms/step - loss: 0.3413 - accuracy: 0.8677 - val_loss: 1.9137 - val_accuracy: 0.5451\n",
            "Epoch 82/150\n",
            "496/496 [==============================] - 7s 15ms/step - loss: 0.3421 - accuracy: 0.8678 - val_loss: 1.9171 - val_accuracy: 0.5426\n",
            "Epoch 83/150\n",
            "496/496 [==============================] - 7s 14ms/step - loss: 0.3447 - accuracy: 0.8669 - val_loss: 1.9211 - val_accuracy: 0.5468\n",
            "Epoch 84/150\n",
            "496/496 [==============================] - 7s 14ms/step - loss: 0.3386 - accuracy: 0.8698 - val_loss: 1.8794 - val_accuracy: 0.5463\n",
            "Epoch 85/150\n",
            "496/496 [==============================] - 7s 14ms/step - loss: 0.3360 - accuracy: 0.8708 - val_loss: 1.9231 - val_accuracy: 0.5467\n",
            "Epoch 86/150\n",
            "496/496 [==============================] - 7s 14ms/step - loss: 0.3341 - accuracy: 0.8703 - val_loss: 1.9742 - val_accuracy: 0.5446\n",
            "Epoch 87/150\n",
            "496/496 [==============================] - 7s 14ms/step - loss: 0.3282 - accuracy: 0.8740 - val_loss: 1.9441 - val_accuracy: 0.5449\n",
            "Epoch 88/150\n",
            "496/496 [==============================] - 7s 14ms/step - loss: 0.3264 - accuracy: 0.8747 - val_loss: 2.0018 - val_accuracy: 0.5402\n",
            "Epoch 89/150\n",
            "496/496 [==============================] - 7s 14ms/step - loss: 0.3296 - accuracy: 0.8734 - val_loss: 1.9763 - val_accuracy: 0.5429\n",
            "Epoch 90/150\n",
            "496/496 [==============================] - 7s 15ms/step - loss: 0.3260 - accuracy: 0.8754 - val_loss: 1.9091 - val_accuracy: 0.5403\n",
            "Epoch 91/150\n",
            "496/496 [==============================] - 7s 14ms/step - loss: 0.3238 - accuracy: 0.8754 - val_loss: 1.9387 - val_accuracy: 0.5444\n",
            "Epoch 92/150\n",
            "496/496 [==============================] - 7s 14ms/step - loss: 0.3228 - accuracy: 0.8776 - val_loss: 1.9932 - val_accuracy: 0.5426\n",
            "Epoch 93/150\n",
            "496/496 [==============================] - 7s 15ms/step - loss: 0.3226 - accuracy: 0.8768 - val_loss: 1.9767 - val_accuracy: 0.5426\n",
            "Epoch 94/150\n",
            "496/496 [==============================] - 7s 14ms/step - loss: 0.3144 - accuracy: 0.8809 - val_loss: 2.0692 - val_accuracy: 0.5436\n",
            "Epoch 95/150\n",
            "496/496 [==============================] - 7s 14ms/step - loss: 0.3188 - accuracy: 0.8768 - val_loss: 1.9838 - val_accuracy: 0.5478\n",
            "Epoch 96/150\n",
            "496/496 [==============================] - 7s 14ms/step - loss: 0.3134 - accuracy: 0.8798 - val_loss: 2.0128 - val_accuracy: 0.5432\n",
            "Epoch 97/150\n",
            "496/496 [==============================] - 7s 14ms/step - loss: 0.3120 - accuracy: 0.8808 - val_loss: 1.9574 - val_accuracy: 0.5417\n",
            "Epoch 98/150\n",
            "496/496 [==============================] - 7s 15ms/step - loss: 0.3126 - accuracy: 0.8806 - val_loss: 2.0115 - val_accuracy: 0.5415\n",
            "Epoch 99/150\n",
            "496/496 [==============================] - 7s 14ms/step - loss: 0.3094 - accuracy: 0.8817 - val_loss: 2.0063 - val_accuracy: 0.5468\n",
            "Epoch 100/150\n",
            "496/496 [==============================] - 7s 14ms/step - loss: 0.3030 - accuracy: 0.8844 - val_loss: 2.0573 - val_accuracy: 0.5439\n",
            "Epoch 101/150\n",
            "496/496 [==============================] - 7s 14ms/step - loss: 0.3065 - accuracy: 0.8843 - val_loss: 2.0038 - val_accuracy: 0.5468\n",
            "Epoch 102/150\n",
            "496/496 [==============================] - 7s 14ms/step - loss: 0.3056 - accuracy: 0.8842 - val_loss: 1.9673 - val_accuracy: 0.5424\n",
            "Epoch 103/150\n",
            "496/496 [==============================] - 7s 14ms/step - loss: 0.3035 - accuracy: 0.8836 - val_loss: 2.0017 - val_accuracy: 0.5461\n",
            "Epoch 104/150\n",
            "496/496 [==============================] - 7s 15ms/step - loss: 0.3027 - accuracy: 0.8843 - val_loss: 2.0102 - val_accuracy: 0.5346\n",
            "Epoch 105/150\n",
            "496/496 [==============================] - 7s 15ms/step - loss: 0.2976 - accuracy: 0.8878 - val_loss: 1.9982 - val_accuracy: 0.5365\n",
            "Epoch 106/150\n",
            "496/496 [==============================] - 7s 15ms/step - loss: 0.2939 - accuracy: 0.8887 - val_loss: 2.0384 - val_accuracy: 0.5420\n",
            "Epoch 107/150\n",
            "496/496 [==============================] - 7s 15ms/step - loss: 0.2979 - accuracy: 0.8870 - val_loss: 2.1366 - val_accuracy: 0.5422\n",
            "Epoch 108/150\n",
            "496/496 [==============================] - 7s 15ms/step - loss: 0.2923 - accuracy: 0.8894 - val_loss: 2.1241 - val_accuracy: 0.5410\n",
            "Epoch 109/150\n",
            "496/496 [==============================] - 7s 14ms/step - loss: 0.2920 - accuracy: 0.8904 - val_loss: 2.0689 - val_accuracy: 0.5464\n",
            "Epoch 110/150\n",
            "496/496 [==============================] - 7s 14ms/step - loss: 0.2908 - accuracy: 0.8903 - val_loss: 2.0221 - val_accuracy: 0.5470\n",
            "Epoch 111/150\n",
            "496/496 [==============================] - 7s 14ms/step - loss: 0.2881 - accuracy: 0.8914 - val_loss: 2.0650 - val_accuracy: 0.5459\n",
            "Epoch 112/150\n",
            "496/496 [==============================] - 7s 14ms/step - loss: 0.2867 - accuracy: 0.8904 - val_loss: 2.0937 - val_accuracy: 0.5466\n",
            "Epoch 113/150\n",
            "496/496 [==============================] - 7s 14ms/step - loss: 0.2825 - accuracy: 0.8931 - val_loss: 2.0665 - val_accuracy: 0.5429\n",
            "Epoch 114/150\n",
            "496/496 [==============================] - 7s 14ms/step - loss: 0.2827 - accuracy: 0.8933 - val_loss: 2.0817 - val_accuracy: 0.5426\n",
            "Epoch 115/150\n",
            "496/496 [==============================] - 7s 15ms/step - loss: 0.2832 - accuracy: 0.8932 - val_loss: 2.0091 - val_accuracy: 0.5434\n",
            "Epoch 116/150\n",
            "496/496 [==============================] - 7s 15ms/step - loss: 0.2789 - accuracy: 0.8947 - val_loss: 2.0998 - val_accuracy: 0.5456\n",
            "Epoch 117/150\n",
            "496/496 [==============================] - 7s 14ms/step - loss: 0.2810 - accuracy: 0.8940 - val_loss: 2.0611 - val_accuracy: 0.5399\n",
            "Epoch 118/150\n",
            "496/496 [==============================] - 7s 15ms/step - loss: 0.2730 - accuracy: 0.8973 - val_loss: 2.1759 - val_accuracy: 0.5420\n",
            "Epoch 119/150\n",
            "496/496 [==============================] - 7s 14ms/step - loss: 0.2725 - accuracy: 0.8982 - val_loss: 2.0928 - val_accuracy: 0.5503\n",
            "Epoch 120/150\n",
            "496/496 [==============================] - 7s 14ms/step - loss: 0.2734 - accuracy: 0.8978 - val_loss: 2.1141 - val_accuracy: 0.5432\n",
            "Epoch 121/150\n",
            "496/496 [==============================] - 7s 14ms/step - loss: 0.2689 - accuracy: 0.8994 - val_loss: 2.1259 - val_accuracy: 0.5400\n",
            "Epoch 122/150\n",
            "496/496 [==============================] - 7s 15ms/step - loss: 0.2663 - accuracy: 0.9006 - val_loss: 2.2060 - val_accuracy: 0.5498\n",
            "Epoch 123/150\n",
            "496/496 [==============================] - 7s 15ms/step - loss: 0.2689 - accuracy: 0.8993 - val_loss: 2.1059 - val_accuracy: 0.5471\n",
            "Epoch 124/150\n",
            "496/496 [==============================] - 7s 15ms/step - loss: 0.2668 - accuracy: 0.9011 - val_loss: 2.2013 - val_accuracy: 0.5405\n",
            "Epoch 125/150\n",
            "496/496 [==============================] - 7s 15ms/step - loss: 0.2656 - accuracy: 0.9005 - val_loss: 2.1884 - val_accuracy: 0.5362\n",
            "Epoch 126/150\n",
            "496/496 [==============================] - 7s 14ms/step - loss: 0.2619 - accuracy: 0.9018 - val_loss: 2.0938 - val_accuracy: 0.5398\n",
            "Epoch 127/150\n",
            "496/496 [==============================] - 7s 15ms/step - loss: 0.2576 - accuracy: 0.9030 - val_loss: 2.1946 - val_accuracy: 0.5409\n",
            "Epoch 128/150\n",
            "496/496 [==============================] - 7s 14ms/step - loss: 0.2591 - accuracy: 0.9034 - val_loss: 2.1532 - val_accuracy: 0.5393\n",
            "Epoch 129/150\n",
            "496/496 [==============================] - 7s 15ms/step - loss: 0.2582 - accuracy: 0.9051 - val_loss: 2.1342 - val_accuracy: 0.5430\n",
            "Epoch 130/150\n",
            "496/496 [==============================] - 7s 15ms/step - loss: 0.2585 - accuracy: 0.9036 - val_loss: 2.2021 - val_accuracy: 0.5332\n",
            "Epoch 131/150\n",
            "496/496 [==============================] - 7s 15ms/step - loss: 0.2551 - accuracy: 0.9055 - val_loss: 2.0765 - val_accuracy: 0.5436\n",
            "Epoch 132/150\n",
            "496/496 [==============================] - 7s 15ms/step - loss: 0.2496 - accuracy: 0.9077 - val_loss: 2.1183 - val_accuracy: 0.5417\n",
            "Epoch 133/150\n",
            "496/496 [==============================] - 7s 15ms/step - loss: 0.2434 - accuracy: 0.9093 - val_loss: 2.2336 - val_accuracy: 0.5440\n",
            "Epoch 134/150\n",
            "496/496 [==============================] - 7s 15ms/step - loss: 0.2496 - accuracy: 0.9059 - val_loss: 2.2365 - val_accuracy: 0.5412\n",
            "Epoch 135/150\n",
            "496/496 [==============================] - 7s 15ms/step - loss: 0.2503 - accuracy: 0.9075 - val_loss: 2.1711 - val_accuracy: 0.5424\n",
            "Epoch 136/150\n",
            "496/496 [==============================] - 7s 15ms/step - loss: 0.2447 - accuracy: 0.9088 - val_loss: 2.1961 - val_accuracy: 0.5432\n",
            "Epoch 137/150\n",
            "496/496 [==============================] - 7s 15ms/step - loss: 0.2407 - accuracy: 0.9115 - val_loss: 2.2334 - val_accuracy: 0.5422\n",
            "Epoch 138/150\n",
            "496/496 [==============================] - 7s 15ms/step - loss: 0.2378 - accuracy: 0.9117 - val_loss: 2.2261 - val_accuracy: 0.5344\n",
            "Epoch 139/150\n",
            "496/496 [==============================] - 7s 15ms/step - loss: 0.2393 - accuracy: 0.9115 - val_loss: 2.1360 - val_accuracy: 0.5402\n",
            "Epoch 140/150\n",
            "496/496 [==============================] - 7s 15ms/step - loss: 0.2419 - accuracy: 0.9109 - val_loss: 2.1617 - val_accuracy: 0.5409\n",
            "Epoch 141/150\n",
            "496/496 [==============================] - 8s 16ms/step - loss: 0.2386 - accuracy: 0.9115 - val_loss: 2.2124 - val_accuracy: 0.5478\n",
            "Epoch 142/150\n",
            "496/496 [==============================] - 7s 15ms/step - loss: 0.2396 - accuracy: 0.9116 - val_loss: 2.2541 - val_accuracy: 0.5409\n",
            "Epoch 143/150\n",
            "496/496 [==============================] - 7s 15ms/step - loss: 0.2382 - accuracy: 0.9127 - val_loss: 2.2251 - val_accuracy: 0.5432\n",
            "Epoch 144/150\n",
            "496/496 [==============================] - 7s 15ms/step - loss: 0.2350 - accuracy: 0.9139 - val_loss: 2.1606 - val_accuracy: 0.5457\n",
            "Epoch 145/150\n",
            "496/496 [==============================] - 7s 15ms/step - loss: 0.2295 - accuracy: 0.9151 - val_loss: 2.2630 - val_accuracy: 0.5477\n",
            "Epoch 146/150\n",
            "496/496 [==============================] - 7s 15ms/step - loss: 0.2285 - accuracy: 0.9155 - val_loss: 2.2560 - val_accuracy: 0.5468\n",
            "Epoch 147/150\n",
            "496/496 [==============================] - 7s 15ms/step - loss: 0.2290 - accuracy: 0.9164 - val_loss: 2.3486 - val_accuracy: 0.5371\n",
            "Epoch 148/150\n",
            "496/496 [==============================] - 7s 15ms/step - loss: 0.2284 - accuracy: 0.9165 - val_loss: 2.2198 - val_accuracy: 0.5407\n",
            "Epoch 149/150\n",
            "496/496 [==============================] - 7s 15ms/step - loss: 0.2213 - accuracy: 0.9183 - val_loss: 2.3115 - val_accuracy: 0.5376\n",
            "Epoch 150/150\n",
            "496/496 [==============================] - 7s 15ms/step - loss: 0.2271 - accuracy: 0.9173 - val_loss: 2.1750 - val_accuracy: 0.5399\n"
          ]
        }
      ]
    },
    {
      "cell_type": "code",
      "source": [
        "model_CNN_LSTM.evaluate(xTest, yTest)"
      ],
      "metadata": {
        "id": "5a9nbp5gcNuf",
        "colab": {
          "base_uri": "https://localhost:8080/"
        },
        "outputId": "f6e55824-37eb-4915-a7c5-cae771ae4ad3"
      },
      "execution_count": null,
      "outputs": [
        {
          "output_type": "stream",
          "name": "stdout",
          "text": [
            "2201/2201 [==============================] - 13s 6ms/step - loss: 0.3593 - accuracy: 0.9017\n"
          ]
        },
        {
          "output_type": "execute_result",
          "data": {
            "text/plain": [
              "[0.35933899879455566, 0.9016640186309814]"
            ]
          },
          "metadata": {},
          "execution_count": 23
        }
      ]
    },
    {
      "cell_type": "code",
      "source": [
        "stop"
      ],
      "metadata": {
        "id": "vvfSuIwSRtZK"
      },
      "execution_count": null,
      "outputs": []
    },
    {
      "cell_type": "code",
      "source": [],
      "metadata": {
        "id": "zyQLSJK1Ru61"
      },
      "execution_count": null,
      "outputs": []
    },
    {
      "cell_type": "code",
      "source": [
        "from keras.models import load_model\n",
        "\n"
      ],
      "metadata": {
        "id": "SoSvgIVvewJM"
      },
      "execution_count": null,
      "outputs": []
    },
    {
      "cell_type": "code",
      "source": [
        "model_CNN_LSTM.save('/content/drive/My Drive/temp/model_CNN_LSTM_tanh_final.h5')"
      ],
      "metadata": {
        "id": "UgJ6CxZMC-_p"
      },
      "execution_count": null,
      "outputs": []
    },
    {
      "cell_type": "code",
      "source": [
        "model_CNN_LSTM = load_model('/content/drive/My Drive/temp/model_CNN_LSTM_tanh_final.h5')"
      ],
      "metadata": {
        "id": "ovNMkMm12SNA"
      },
      "execution_count": null,
      "outputs": []
    },
    {
      "cell_type": "code",
      "source": [
        "#загрузим 1 датасет, на котором сеть не обучалась\n",
        "sub1_97_file = '/content/drive/My Drive/temp/fnirs_dataset test/sub_97.csv'\n",
        "df_test = pd.read_csv(sub1_97_file)\n",
        "xLen = 6\n",
        "xTest97, yTest97 = drop_dataset(df_test, xLen)"
      ],
      "metadata": {
        "id": "df3TDEgVv8x_"
      },
      "execution_count": null,
      "outputs": []
    },
    {
      "cell_type": "code",
      "source": [
        "model_CNN_LSTM.evaluate(xTest97, yTest97)"
      ],
      "metadata": {
        "id": "ZyMQcHFuwnJ8",
        "colab": {
          "base_uri": "https://localhost:8080/"
        },
        "outputId": "8bd28bf1-bd6c-4355-a75a-2972deaf593a"
      },
      "execution_count": null,
      "outputs": [
        {
          "output_type": "stream",
          "name": "stdout",
          "text": [
            "36/36 [==============================] - 0s 8ms/step - loss: 4.1268 - accuracy: 0.2324\n"
          ]
        },
        {
          "output_type": "execute_result",
          "data": {
            "text/plain": [
              "[4.1267876625061035, 0.23239436745643616]"
            ]
          },
          "metadata": {},
          "execution_count": 25
        }
      ]
    },
    {
      "cell_type": "code",
      "source": [
        "xTest97.shape, yTest97.shape"
      ],
      "metadata": {
        "id": "YmawhmJO2jN-"
      },
      "execution_count": null,
      "outputs": []
    },
    {
      "cell_type": "markdown",
      "source": [
        "Попробуем дообучить модель на 97ом испытуемом\n",
        "Для этого разобьем датасет на обучающую и тестовую выборку"
      ],
      "metadata": {
        "id": "b4KAF6EP2ou-"
      }
    },
    {
      "cell_type": "code",
      "source": [
        "xTest97[0].shape"
      ],
      "metadata": {
        "id": "hQh4ZInp2m3d"
      },
      "execution_count": null,
      "outputs": []
    },
    {
      "cell_type": "code",
      "source": [
        "xTrain97 = xTest97[0:int(len(xTest97)*0.9)]\n",
        "xVal97 = xTest97[int(len(xTest97)*0.9 + 1):]\n",
        "\n",
        "yTrain97 = yTest97[0:int(len(yTest97)*0.9)]\n",
        "yVal97 = yTest97[int(len(yTest97)*0.9 + 1):]\n",
        "\n",
        "xTrain97.shape, xVal97.shape, yTrain97.shape, yVal97.shape, len(xTest97)"
      ],
      "metadata": {
        "id": "-8Vu-h3X4dh5",
        "colab": {
          "base_uri": "https://localhost:8080/"
        },
        "outputId": "25972653-b747-416a-a90c-4fa3aef05044"
      },
      "execution_count": null,
      "outputs": [
        {
          "output_type": "execute_result",
          "data": {
            "text/plain": [
              "((1022, 6, 8), (113, 6, 8), (1022, 4), (113, 4), 1136)"
            ]
          },
          "metadata": {},
          "execution_count": 26
        }
      ]
    },
    {
      "cell_type": "code",
      "source": [
        "history97 = model_CNN_LSTM.fit(xTrain97, yTrain97, epochs=50, batch_size=64, verbose=1)"
      ],
      "metadata": {
        "id": "NK9rF0mW3_b3",
        "colab": {
          "base_uri": "https://localhost:8080/"
        },
        "outputId": "512dc3c2-1756-448d-835d-d63f281b4836"
      },
      "execution_count": null,
      "outputs": [
        {
          "output_type": "stream",
          "name": "stdout",
          "text": [
            "Epoch 1/50\n",
            "16/16 [==============================] - 0s 16ms/step - loss: 2.8244 - accuracy: 0.3659\n",
            "Epoch 2/50\n",
            "16/16 [==============================] - 0s 14ms/step - loss: 1.0626 - accuracy: 0.5626\n",
            "Epoch 3/50\n",
            "16/16 [==============================] - 0s 12ms/step - loss: 0.7774 - accuracy: 0.6712\n",
            "Epoch 4/50\n",
            "16/16 [==============================] - 0s 12ms/step - loss: 0.6566 - accuracy: 0.7329\n",
            "Epoch 5/50\n",
            "16/16 [==============================] - 0s 13ms/step - loss: 0.5972 - accuracy: 0.7554\n",
            "Epoch 6/50\n",
            "16/16 [==============================] - 0s 12ms/step - loss: 0.5216 - accuracy: 0.7769\n",
            "Epoch 7/50\n",
            "16/16 [==============================] - 0s 12ms/step - loss: 0.4830 - accuracy: 0.8102\n",
            "Epoch 8/50\n",
            "16/16 [==============================] - 0s 12ms/step - loss: 0.4246 - accuracy: 0.8190\n",
            "Epoch 9/50\n",
            "16/16 [==============================] - 0s 12ms/step - loss: 0.3803 - accuracy: 0.8474\n",
            "Epoch 10/50\n",
            "16/16 [==============================] - 0s 13ms/step - loss: 0.3418 - accuracy: 0.8728\n",
            "Epoch 11/50\n",
            "16/16 [==============================] - 0s 12ms/step - loss: 0.3290 - accuracy: 0.8728\n",
            "Epoch 12/50\n",
            "16/16 [==============================] - 0s 12ms/step - loss: 0.3167 - accuracy: 0.8885\n",
            "Epoch 13/50\n",
            "16/16 [==============================] - 0s 12ms/step - loss: 0.2824 - accuracy: 0.9012\n",
            "Epoch 14/50\n",
            "16/16 [==============================] - 0s 13ms/step - loss: 0.2316 - accuracy: 0.9207\n",
            "Epoch 15/50\n",
            "16/16 [==============================] - 0s 13ms/step - loss: 0.2215 - accuracy: 0.9149\n",
            "Epoch 16/50\n",
            "16/16 [==============================] - 0s 12ms/step - loss: 0.2040 - accuracy: 0.9276\n",
            "Epoch 17/50\n",
            "16/16 [==============================] - 0s 12ms/step - loss: 0.1814 - accuracy: 0.9393\n",
            "Epoch 18/50\n",
            "16/16 [==============================] - 0s 12ms/step - loss: 0.1590 - accuracy: 0.9462\n",
            "Epoch 19/50\n",
            "16/16 [==============================] - 0s 12ms/step - loss: 0.1496 - accuracy: 0.9521\n",
            "Epoch 20/50\n",
            "16/16 [==============================] - 0s 13ms/step - loss: 0.1216 - accuracy: 0.9599\n",
            "Epoch 21/50\n",
            "16/16 [==============================] - 0s 12ms/step - loss: 0.1182 - accuracy: 0.9638\n",
            "Epoch 22/50\n",
            "16/16 [==============================] - 0s 12ms/step - loss: 0.1324 - accuracy: 0.9579\n",
            "Epoch 23/50\n",
            "16/16 [==============================] - 0s 12ms/step - loss: 0.0971 - accuracy: 0.9726\n",
            "Epoch 24/50\n",
            "16/16 [==============================] - 0s 12ms/step - loss: 0.0947 - accuracy: 0.9736\n",
            "Epoch 25/50\n",
            "16/16 [==============================] - 0s 13ms/step - loss: 0.0739 - accuracy: 0.9765\n",
            "Epoch 26/50\n",
            "16/16 [==============================] - 0s 13ms/step - loss: 0.0698 - accuracy: 0.9804\n",
            "Epoch 27/50\n",
            "16/16 [==============================] - 0s 12ms/step - loss: 0.0872 - accuracy: 0.9716\n",
            "Epoch 28/50\n",
            "16/16 [==============================] - 0s 12ms/step - loss: 0.0640 - accuracy: 0.9873\n",
            "Epoch 29/50\n",
            "16/16 [==============================] - 0s 12ms/step - loss: 0.0603 - accuracy: 0.9834\n",
            "Epoch 30/50\n",
            "16/16 [==============================] - 0s 13ms/step - loss: 0.0604 - accuracy: 0.9853\n",
            "Epoch 31/50\n",
            "16/16 [==============================] - 0s 12ms/step - loss: 0.0577 - accuracy: 0.9843\n",
            "Epoch 32/50\n",
            "16/16 [==============================] - 0s 12ms/step - loss: 0.0600 - accuracy: 0.9853\n",
            "Epoch 33/50\n",
            "16/16 [==============================] - 0s 12ms/step - loss: 0.0503 - accuracy: 0.9873\n",
            "Epoch 34/50\n",
            "16/16 [==============================] - 0s 12ms/step - loss: 0.0549 - accuracy: 0.9863\n",
            "Epoch 35/50\n",
            "16/16 [==============================] - 0s 12ms/step - loss: 0.0418 - accuracy: 0.9883\n",
            "Epoch 36/50\n",
            "16/16 [==============================] - 0s 12ms/step - loss: 0.0432 - accuracy: 0.9883\n",
            "Epoch 37/50\n",
            "16/16 [==============================] - 0s 12ms/step - loss: 0.0357 - accuracy: 0.9892\n",
            "Epoch 38/50\n",
            "16/16 [==============================] - 0s 12ms/step - loss: 0.0449 - accuracy: 0.9892\n",
            "Epoch 39/50\n",
            "16/16 [==============================] - 0s 12ms/step - loss: 0.0329 - accuracy: 0.9912\n",
            "Epoch 40/50\n",
            "16/16 [==============================] - 0s 12ms/step - loss: 0.0214 - accuracy: 0.9971\n",
            "Epoch 41/50\n",
            "16/16 [==============================] - 0s 12ms/step - loss: 0.0281 - accuracy: 0.9941\n",
            "Epoch 42/50\n",
            "16/16 [==============================] - 0s 12ms/step - loss: 0.0309 - accuracy: 0.9902\n",
            "Epoch 43/50\n",
            "16/16 [==============================] - 0s 13ms/step - loss: 0.0234 - accuracy: 0.9951\n",
            "Epoch 44/50\n",
            "16/16 [==============================] - 0s 12ms/step - loss: 0.0262 - accuracy: 0.9941\n",
            "Epoch 45/50\n",
            "16/16 [==============================] - 0s 13ms/step - loss: 0.0369 - accuracy: 0.9863\n",
            "Epoch 46/50\n",
            "16/16 [==============================] - 0s 12ms/step - loss: 0.0172 - accuracy: 0.9971\n",
            "Epoch 47/50\n",
            "16/16 [==============================] - 0s 12ms/step - loss: 0.0245 - accuracy: 0.9932\n",
            "Epoch 48/50\n",
            "16/16 [==============================] - 0s 12ms/step - loss: 0.0129 - accuracy: 0.9971\n",
            "Epoch 49/50\n",
            "16/16 [==============================] - 0s 12ms/step - loss: 0.0263 - accuracy: 0.9932\n",
            "Epoch 50/50\n",
            "16/16 [==============================] - 0s 13ms/step - loss: 0.0298 - accuracy: 0.9912\n"
          ]
        }
      ]
    },
    {
      "cell_type": "code",
      "source": [
        "fig, axs = plt.subplots(1,2, figsize=(14, 7))\n",
        "axs[0].plot(history97.history['loss'], \n",
        "         label='Средняя абсолютная ошибка на обучающем наборе')\n",
        "axs[0].legend()\n",
        "\n",
        "axs[1].plot(history97.history['accuracy'], \n",
        "         label='Средняя абсолютная точность на обучающем наборе')\n",
        "axs[1].legend()\n",
        "plt.show()"
      ],
      "metadata": {
        "id": "qxdaNHtJ_3fE",
        "colab": {
          "base_uri": "https://localhost:8080/",
          "height": 428
        },
        "outputId": "eef17e15-1d00-4044-9096-0af7285ff3f4"
      },
      "execution_count": null,
      "outputs": [
        {
          "output_type": "display_data",
          "data": {
            "text/plain": [
              "<Figure size 1008x504 with 2 Axes>"
            ],
            "image/png": "[encoded data removed]"
          },
          "metadata": {
            "needs_background": "light"
          }
        }
      ]
    },
    {
      "cell_type": "code",
      "source": [
        "model_CNN_LSTM.evaluate(xVal97, yVal97)"
      ],
      "metadata": {
        "id": "WdsCkAZL62a0",
        "colab": {
          "base_uri": "https://localhost:8080/"
        },
        "outputId": "ae29c182-a3c8-4490-81b2-6a2bdc6a0068"
      },
      "execution_count": null,
      "outputs": [
        {
          "output_type": "stream",
          "name": "stdout",
          "text": [
            "4/4 [==============================] - 0s 8ms/step - loss: 0.2614 - accuracy: 0.9381\n"
          ]
        },
        {
          "output_type": "execute_result",
          "data": {
            "text/plain": [
              "[0.26138007640838623, 0.9380530714988708]"
            ]
          },
          "metadata": {},
          "execution_count": 28
        }
      ]
    }
  ],
  "metadata": {
    "colab": {
      "provenance": [],
      "authorship_tag": "ABX9TyPrt8vQiv/pxCHWPJJpcZKM",
      "include_colab_link": true
    },
    "kernelspec": {
      "display_name": "Python 3",
      "name": "python3"
    },
    "language_info": {
      "name": "python"
    },
    "gpuClass": "standard",
    "accelerator": "GPU"
  },
  "nbformat": 4,
  "nbformat_minor": 0
}